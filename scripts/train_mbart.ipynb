{
 "cells": [
  {
   "cell_type": "code",
   "execution_count": 1,
   "metadata": {},
   "outputs": [
    {
     "name": "stderr",
     "output_type": "stream",
     "text": [
      "/home/vietnq2/Projects/Personal/LearnMong/learn-vietnamese-mong/.env/lib/python3.12/site-packages/tqdm/auto.py:21: TqdmWarning: IProgress not found. Please update jupyter and ipywidgets. See https://ipywidgets.readthedocs.io/en/stable/user_install.html\n",
      "  from .autonotebook import tqdm as notebook_tqdm\n"
     ]
    }
   ],
   "source": [
    "from transformers import MBartForConditionalGeneration, MBart50TokenizerFast\n",
    "from datasets import load_dataset\n",
    "# from evaluate import load\n",
    "import json\n",
    "\n",
    "# output_model_dir = 'Vi-Mong-mBART'\n",
    "# model_checkpoint = \"AI_models/model_hmong_vietnamese_mt_mbart\""
   ]
  },
  {
   "cell_type": "code",
   "execution_count": 2,
   "metadata": {},
   "outputs": [
    {
     "name": "stdout",
     "output_type": "stream",
     "text": [
      "/home/vietnq2/Projects/Personal/LearnMong/quizz/scripts\n"
     ]
    }
   ],
   "source": [
    "!pwd"
   ]
  },
  {
   "cell_type": "code",
   "execution_count": 3,
   "metadata": {},
   "outputs": [],
   "source": [
    "# Load model and tokenizer\n",
    "model = MBartForConditionalGeneration.from_pretrained(\"../AI_models/model_hmong_vietnamese_mt_mbart\")\n",
    "tokenizer = MBart50TokenizerFast.from_pretrained(\"../AI_models/tokenizer_hmong_vietnamese_mt_mbart\")\n",
    "\n",
    "tokenizer_json = json.loads(tokenizer._tokenizer.to_str())\n"
   ]
  },
  {
   "cell_type": "code",
   "execution_count": 7,
   "metadata": {},
   "outputs": [
    {
     "data": {
      "text/plain": [
       "1"
      ]
     },
     "execution_count": 7,
     "metadata": {},
     "output_type": "execute_result"
    }
   ],
   "source": [
    "tokenizer.add_special_tokens({'additional_special_tokens': ['hmn_VN']})"
   ]
  },
  {
   "cell_type": "code",
   "execution_count": 13,
   "metadata": {},
   "outputs": [
    {
     "ename": "KeyError",
     "evalue": "'hmn_VN'",
     "output_type": "error",
     "traceback": [
      "\u001b[0;31m---------------------------------------------------------------------------\u001b[0m",
      "\u001b[0;31mKeyError\u001b[0m                                  Traceback (most recent call last)",
      "Cell \u001b[0;32mIn[13], line 1\u001b[0m\n\u001b[0;32m----> 1\u001b[0m \u001b[43mtokenizer\u001b[49m\u001b[38;5;241;43m.\u001b[39;49m\u001b[43mlang_code_to_id\u001b[49m\u001b[43m[\u001b[49m\u001b[38;5;124;43m'\u001b[39;49m\u001b[38;5;124;43mhmn_VN\u001b[39;49m\u001b[38;5;124;43m'\u001b[39;49m\u001b[43m]\u001b[49m\n",
      "\u001b[0;31mKeyError\u001b[0m: 'hmn_VN'"
     ]
    }
   ],
   "source": [
    "tokenizer.lang_code_to_id['hmn_VN']"
   ]
  },
  {
   "cell_type": "code",
   "execution_count": 8,
   "metadata": {},
   "outputs": [
    {
     "data": {
      "text/plain": [
       "250246"
      ]
     },
     "execution_count": 8,
     "metadata": {},
     "output_type": "execute_result"
    }
   ],
   "source": [
    "tokenizer.get_added_vocab()['hmn_VN']"
   ]
  },
  {
   "cell_type": "code",
   "execution_count": 9,
   "metadata": {},
   "outputs": [],
   "source": [
    "tokenizer.src_lang = 'hmn_VN'"
   ]
  },
  {
   "cell_type": "code",
   "execution_count": 12,
   "metadata": {},
   "outputs": [
    {
     "data": {
      "text/plain": [
       "'hmn_VN hello</s>'"
      ]
     },
     "execution_count": 12,
     "metadata": {},
     "output_type": "execute_result"
    }
   ],
   "source": [
    "tokenizer.decode(tokenizer('hello')['input_ids'])"
   ]
  },
  {
   "cell_type": "markdown",
   "metadata": {},
   "source": [
    "## Prepare data"
   ]
  },
  {
   "cell_type": "code",
   "execution_count": 64,
   "metadata": {},
   "outputs": [],
   "source": [
    "from datasets import load_dataset\n",
    "import os\n",
    "\n",
    "\n",
    "class DataLoader:\n",
    "    \"\"\"\n",
    "    A simple DataLoader for text data stored in csv files.\n",
    "    \"\"\"\n",
    "\n",
    "    def __init__(self, data_path, columns=None, batch_size=32):\n",
    "        \"\"\"\n",
    "        Initialize the DataLoader with the path to the training data and batch size.\n",
    "\n",
    "        Args:\n",
    "            data_path (str): Path to the folder containing csv files.\n",
    "            columns (list): List of columns to load from the csv files.\n",
    "        \"\"\"\n",
    "        self.batch_size = batch_size\n",
    "        self.columns = columns\n",
    "        self._load_data(data_path)\n",
    "\n",
    "    def _load_data(self, data_path: str):\n",
    "        \"\"\"\n",
    "        Load multiple csv files from a given path and create a Hugging Face Dataset.\n",
    "        \"\"\"\n",
    "\n",
    "        try:\n",
    "            assert os.path.exists(data_path)\n",
    "        except AssertionError:\n",
    "            print(f\"Data path does not exist: {data_path}\")\n",
    "            raise FileNotFoundError(f\"Data path does not exist: {data_path}\")\n",
    "\n",
    "        data_files = [os.path.join(data_path, f) for f in os.listdir(data_path) if f.endswith(\".csv\")]\n",
    "        self.dataset = load_dataset(\n",
    "            \"csv\",\n",
    "            data_files=data_files,\n",
    "            split=\"train\",\n",
    "        )\n",
    "        if self.columns:\n",
    "            self.dataset = self.dataset.select_columns(self.columns)\n",
    "        print(f\"Loaded {len(self.dataset)} samples from {self.dataset}.\")\n",
    "\n",
    "    def __iter__(self):\n",
    "        \"\"\"\n",
    "        Iterate over the dataset and yield batches of text data.\n",
    "        \"\"\"\n",
    "        for batch in self.dataset.iter(batch_size=self.batch_size):\n",
    "            if self.columns and len(self.columns) == 1:\n",
    "                yield batch[self.columns[0]]\n",
    "            else:\n",
    "                yield batch\n",
    "                # yield {col: batch[col] for col in self.columns}\n"
   ]
  },
  {
   "cell_type": "code",
   "execution_count": 75,
   "metadata": {},
   "outputs": [
    {
     "name": "stdout",
     "output_type": "stream",
     "text": [
      "Loaded 778 samples from Dataset({\n",
      "    features: ['mong', 'vietnamese'],\n",
      "    num_rows: 778\n",
      "}).\n"
     ]
    }
   ],
   "source": [
    "dataloader = DataLoader(data_path='../data', batch_size=2)"
   ]
  },
  {
   "cell_type": "code",
   "execution_count": 76,
   "metadata": {},
   "outputs": [
    {
     "name": "stdout",
     "output_type": "stream",
     "text": [
      "{'mong': ['kêl', 'saz'], 'vietnamese': ['thấp', 'cao']}\n"
     ]
    }
   ],
   "source": [
    "for x in dataloader:\n",
    "    print(x)\n",
    "    break"
   ]
  },
  {
   "cell_type": "markdown",
   "metadata": {},
   "source": [
    "## Train LLM"
   ]
  },
  {
   "cell_type": "code",
   "execution_count": 77,
   "metadata": {},
   "outputs": [],
   "source": [
    "tokenizer.src_lang = \"hm\"\n",
    "tokenizer.tgt_lang = \"vi\""
   ]
  },
  {
   "cell_type": "code",
   "execution_count": 78,
   "metadata": {},
   "outputs": [],
   "source": [
    "max_input_length = 128\n",
    "max_target_length = 128\n",
    "\n",
    "def preprocess_function(examples, from_lang=\"mong\", to_lang=\"vietnamese\"):\n",
    "    print(examples)\n",
    "    print(examples[from_lang])\n",
    "    print(examples[to_lang])\n",
    "    model_inputs = tokenizer(\n",
    "        text=examples[from_lang],\n",
    "        text_target=examples[to_lang],\n",
    "        max_length=max_input_length, truncation=True)\n",
    "    print(model_inputs)\n",
    "    return model_inputs"
   ]
  },
  {
   "cell_type": "code",
   "execution_count": 79,
   "metadata": {},
   "outputs": [
    {
     "data": {
      "application/vnd.jupyter.widget-view+json": {
       "model_id": "0b608ca2be8049d99d0c1b773be58114",
       "version_major": 2,
       "version_minor": 0
      },
      "text/plain": [
       "Map:   0%|          | 0/778 [00:00<?, ? examples/s]"
      ]
     },
     "metadata": {},
     "output_type": "display_data"
    },
    {
     "name": "stdout",
     "output_type": "stream",
     "text": [
      "{'mong': ['kêl', 'saz', 'lux', 'yaz', 'jông', 'đuz', 'cơưv', 'môngl', 'naox', 'uô', 'nôngs', 'shôngz', 'ntông', 'trăngz hlâu', 'trăngz cơư', 'trăngz tras', 'luz tsêr', 'luz cơưv', 'luz trôngx', 'lênhx', 'lênhx nav', 'lênhx txir', 'lênhx txir zơưv', 'đeiv qaox', 'đeiv ntơưr', 'đeiv blôngx', 'txux plâuz hâu', 'txux xur', 'chaor', 'puôk', 'cxaz', 'yiv', 'đangx', 'lôngx têl', 'phưz', 'langv phưx', 'đar', 'khaoz', 'jas', 'pluôv', 'hnuz', 'hmao', 'hlik (hli)', 'shông', 'ntiv', 'cheix', 'tav', 'tik', 'sênhv', 'txôngl', 'jaol', 'xar', 'xinhr', 'zangv', 'txeir', 'tuz', 'nxeik', 'nhuôs', 'tix', 'cưr', 'vêr', 'ndâus', 'nhangz', 'vâur', 'zơưv', 'pus', 'tsêr', 'têz', 'lax', 'đêr', 'keiz', 'ntơưr', 'đêx', 'shuv xinhz', 'cưk ntông', 'tsêr khu maoz', 'đha', 'nhaoz', 'zang zus', 'uô si', 'nưl đha', 'tâu naox', 'tâu hâuk', 'tâu cơưv', 'tâu uô si', 'tsuv tuô', 'tsuv tuv', 'trâus maoz', 'trâus  phuôv', 'tsuv ntâuk', 'az', 'kăngz', 'saz', 'greiv', 'yaz', 'tsêr nor jông hưngr', 'tsêr nor jông jông', 'tsêr nor tsi jông', 'luz yao yaz yaz', 'luz yao laok six yaz', 'luz yao tsi yaz', 'thâuk tưs', 'thâuk tưs môngl?', 'bâuv tưs', 'zuôr bâuv tưs?', 'tul tưs uô maor?', 'nav uô maor', 'tus tưs', 'caox hâuk đangz sti?', 'nor', 'cao', 'tiv u', 'nhil nor', 'thâuk cao', 'hnuz nor', 'hmaok nor', 'bâuv nor', 'bâuv cao', 'nưl xangr môngl cơưv', 'xangr tsus cheix sâu kôngz', 'nhaor', 'cur nhaor môngl', 'iz tsêr nhaor naox maor txơưv muôx kruô', 'tưz', 'pêz tưz naox maor', 'tul tưv lâul tưz tuôs nao', 'lơưv', 'cur lul txus tsêr, nưl tưz môngl lơưv', 'ưz ao tul sik nhav', 'lao six', 'luz tsêr nor lao six saz', 'thêv', 'nưl muôx jus thêv', 'tsi', 'pêz môngl cangr caz cax?', 'tsi, cur tsi môngl', 'caox cơưv sti tâu?', 'cur tsi tâu cơưv', 'cur thaz (haz) caox sik môngl cơưv', 'lak, lak sik', 'caox uô lak (sik) nưl uô', 'mak', 'heik lul txus uô lê, mak nưl tsênhv tsi pâuz', 'caox môngl, mak cur tsi môngl', 'si mak', 'caox heik, si mak caox tsi uô', 'viv', 'viv lul nangs, cur tsi tuôx', 'zaos cưk gênhl cơưv, txơưv khaor thuôx', 'plâuz', 'bleis', 'ndâux', 'hnuz', 'blôngx', 'txir', 'pangx', 'blêx', 'njêl', 'bjêl (hmông sua)', 'đêr', 'tlêr (hmông sua)', 'jus', 'hlâu', 'trâu', 'chơưr', 'khưr', 'tsưr', 'mêv', 'txưr', 'krêz', 'tsơưz', 'langx', 'tsưr tsêr', 'chuôx thênhx', 'changr kra', 'txangr hlôngr', 'shuv xinhz', 'shux thangx', 'paov yơưx', 'paor phưv', 'vuôv tsưr', 'vêx zaoz', 'khênhx', 'paor vêv huôx finhx', 'paov caov', 'paov tôngv', 'cak binhk', 'cângv thiv', 'tsưr vuv', 'côngz laox', 'đangl jus laox tôngv', 'côngz yênhx côngz côngv', 'grăngx xôr', 'jênhx xôr', 'đangx cângx', 'đaov phoưx', 'hmao jangr xinhz', 'đăngl jus cênhk têr', 'đôix môix', 'hêx', 'cox qix', 'hêv xinhz their', 'cuôr khanhr', 'hiêuv', 'cuôr têr; thôngz ntux', 'hiêuv xôr', 'cuik tsêr', 'cuiz tênhv', 'hôngr xôr', 'cuik luôx', 'hưr ngiv', 'cuik tar', 'kruôz nôngk ngiêx', 'cik lôk mêr', 'qênhx hangv', 'langy phêv', 'qênhx shênhx', 'langl; lis', 'xinhz huôx', 'lơưk huênhx', 'xôr tsưv yưx', 'mox đôv', 'xôr pheiz', 'mâur xôr', 'mêr khôir', 'mir tinhk', 'ngiêr vuv', 'ngiêr vuv côngk jênhk', 'laox tôngv yênhx tâu', 'phôv thông', 'thêv zux thêv thaok', 'xôr lak mar', 'xôr lêuv', 'yênhx côngz', 'phưx vưv', 'phôv thông', 'tôngv hơưx', 'iz huôv; tông xôr', 'yoangx thôngz', 'shuv sinhz haz theix jaor', 'shuv xinhz', 'their jaor', 'shuv xinhz yaz cơưv hmôngz ntơưr', 'shuv xinhz', 'tsêr', 'đêr', 'blôngx', 'lênhx shuv xinhz', 'luz tsêr', 'tul đêr', 'đeiv blôngx', 'lênhx shuv xinhz yaz', 'luz tsêr jông gâux', 'tul đêr đuz', 'đeiv blôngx laz', 'lênhx shuv xinhz yaz cao', 'luz tsêr jông gâux nor', 'tul đêr đuz cao', 'đeiv blôngx laz nor', 'fôngr', 'khênhr', 'têl', 'ntiv', 'cir', 'chaov', 'tav', 'lir', 'qiv', 'lil cêr', 'aoz ntiv đêx', 'iz khênhr tơưl', 'chuôx yiv ntâu', 'shang lil cêr', 'pêz tul buô', 'plâuz luz yao', 'aoz luz hnuz kuz', 'iz luz hli', 'iz luz hnuz', 'trâu đeiv lêr', 'tsiz trăngz tras', 'đeiv', 'đrư', 'caoz', 'nja', 'păngz', 'txôngx', 'kraor', 'kraor muôs', 'kraor njêx', 'kraor nor', 'kraor tiv u', 'kraor tưs', 'lênhx', 'lênhx nav', 'lênhx zơưv', 'tul', 'tul buô', 'tul căngz', 'tul heir', 'tul blơưv', 'tul đêx', 'luz', 'luz tsêr', 'luz yao', 'luz hnuz', 'luz hli', 'kuz', 'kuz hlâuk cxangr', 'trăngz', 'trang hlâu', 'trăngz tras', 'trangz tâuk', 'đeiv', 'đeiv lêr', 'đeiv qix', 'đeiv têz', 'đeiv ntâuz', 'faoz', 'faoz qaox', 'faoz lêr', 'tsao', 'tsao ntông', 'tsao shôngz', 'chaor', 'chaor angr', 'thôngx', 'thôngx angr', 'njak', 'njak blêx', 'tâur', 'aoz tâur pangx', 'đrư', 'đrư txir', 'cu', 'cu shôngz', 'cu ntông', 'bleik', 'câux nduôr', 'đeiv ntông', 'jăngx cơưv', 'baox', 'cangz năngs', 'ntưl', 'ntưl chuô', 'fôngz', 'tâu paoz cư', 'baox', 'baox nhux tưv', 'baox keiz', 'fâuv', 'fâuv txir', 'tâu', 'tâu paoz cư', 'faoz', 'faoz nhak', 'faoz lêr', 'bleik txir lưl', 'bleik krar', 'txông', 'txông tơưl', 'zangv', 'zangv nênhs', 'txux', 'txux hluô', 'txux cêr', 'txux jông', 'têl jâuz', 'plangl', 'pêz plangl taox', 'txôngx', 'lu', 'txôngx blêx', 'chaor', 'chaor maor', 'chaor angr', 'lu greix', 'aoz fangz xưz pưs', 'tras', 'txarpeez tras', 'exênhx', 'exênhx têz', 'zênhv grênhz', 'pênhr', 'pênhr ntơưr', 'thênhv', 'thênhv cơưn', 'langv fưx', 'langv fưx chơưr', 'pluôl', 'pluôl maor', 'jăngl', 'jăng buô', 'ntangs', 'ntangs tơưl', 'phưz', 'phưz đêx', 'cir thangx', 'chuôz', 'chuôz njêr', 'puôz', 'aoz puôz maor blâuv', 'exiv', 'aoz cxiv mtâuz', 'lu', 'lir', 'lir chơưr', 'côngr', 'côngr chơưr', 'khaoz', 'khaoz chơưr', 'cơưv', 'aoz cơưv paoz cư', 'thâur', 'thâur chơưr', 'thâur thangx', 'txaos', 'txaos fax ntơưr', 'jas môngl', 'iz', 'aoz', 'pêz', 'plâuz', 'tsiz', 'cur tsês maor trâu cur tix lâul ntơưv lâux câux', 'nav cuôs nhuôs môngl caz muôl greix tul tav kruô', 'txir tưz uô tâu tsêr yaz trâu tul tuz', 'tix lâul kra tul muôv shuv lul chaoz tsiz', 'cur zơưv lâul tuô nhux', 'tul yưk njaz tâu tul tsuôs', 'cur txir nhuôr uô tâu iz luz tsêr yaz', 'nưl tsông luz ntiv tơưs', 'nhuôs puz txax yawng trâu nav txir', 'chuôz zis nor kuôk tul nxeik trâu fôngx zưl li nhuôs', 'nav khơưk nhuôs aoz luz txir txơưz', 'xang ntơưr traor lul tsêr', 'puz iz pênhz ntơrr trâu nưl', 'puz trâu nưl iz pênhz ntơưr', 'muôz trâu cur aoz tul keiz', 'muôz aoz tul keiz trâu cur', 'txir muôl iz thaov tril yaoz trâu nhuôs', 'luz tênhr tsôngz na muôx pêz côngz', 'hâur lâux câuz tsênhv yuôr maor', 'căngz pênhv yênhx lưs', 'cur tưz yênhx nhaos cưk yuôx', 'nhaoz nor muôx aoz tul nav đêx', 'tix cao tưz yênhx cur li lênhx cưk kra ntơưr', 'cur tul nxeik zuôr yênhx tul nxeik jông gâux đuô hâur jaol', 'cur zis muôx ziv tul tuôz nênhs', 'chuôv nênhv tưz txa pênhv yênhx tuôz nênhs', 'cuôs', 'nak', 'zuôz', 'fav', 'cuôs caox môngl nrar nhux', 'zuôz nhuôs hâuk yuôx', 'puôz vuz hav nưl tuô tuôz nênhs', 'txir cuôs nhuôs muôz tơưl lul tsêr', 'môngl', 'đha', 'luôv', 'flơưr', 'tsir', 'ndê', 'grôl', 'tơưv', 'đhâu', 'lul', 'môngl', 'ndê môngl', 'tơưv môngl', 'grêl môngl', 'tưv', 'tix', 'tix hloz', 'zơưv zix', 'pak', 'yo', 'nox', 'uô hlâu', 'nhoz nox', 'thaor khơưr', 'nông', 'sor', 'sor tsâu', 'puôs', 'pêz', 'vưz ciz', 'pos', 'niêv teik', 'pos', 'fuôk', 'txir loz', 'nhiêx đơưz', 'exar krơưr', 'qir thơưx', 'teis cik', 'đruôz hnôngz', 'trôngx', 'saz lax', 'xiz tơư', 'xiz têk', 'muôs', 'bơưl', 'nduôr', 'sênhr', 'thâuv tưs', 'hor ntêr', 'haor ntâu', 'poz vix', 'thiz pov', 'thiz', 'heik', 'pov, phi xor', 'za', 'piêr', 'sha', 'chuôz zêx', 'pêx phaz', 'tuôv', 'tsuôr', 'tuô', 'bâuv, chuôs', 'huv siêz', 'tiêx zênhk', 'chax', 'ntêk', 'qir thơưx', 'kiz', 'xeik', 'kiêk', 'njâur', 'nhiv ni', 'paz, box', 'zêx', 'fuôx', 'zâu', 'foz tơưr', 'lor nteik', 'puôz teik', 'tros', 'pluôz', 'nhuôs nhôngx', 'puz', 'puôs', 'saz', 'moz', 'kror chuz', 'kê hlơưk', 'tâuz', 'tưk', 'hiêr, fiêx', 'pâuz', 'nxuôr hâu', 'pok', 'gas', 'tso', 'tsuôk', 'caz', 'têr', 'hnaoz, mfôngs', 'chor, lơưr', 'qơư tsâuk', 'tsu, juôx', 'buôk', 'gruôz nhês', 'txir', 'tsuôz', 'plênhr', 'plâuz', 'hmôngr', 'njưs', 'luôv đêx', 'viv', 'rênhz', 'kênh', 'nzir', 'nox mis', 'tâuk', 'shur, chok', 'pluôr yâur', 'cuô ar', 'plaz', 'khi', 'tar', 'tso', 'thix, tâur', 'qar qơư', 'traz heir', 'pluôs, tênhv', 'bâu tơưk', 'trux, truôv', 'gra', 'moz txiê', 'đê', 'njêl', 'khơưv', 'jâuz njuôz', 'lưr, changv', 'luz', 'txir caz nzưr', 'xuô, krâur', 'uô tsâus', 'tar nzưr lox', 'tar khuôz', 'cox qix', 'nkruôz', 'chiêx', 'chês', 'tik', 'đrags liêx', 'tik pax', 'ndax baz', 'siêz', 'tsuôz', 'tul plik', 'cuôv', 'suôz jêz', 'bâu siêz', 'njiv', 'vôngv', 'puôx tseiv', 'cxok', 'tuv', 'txiêr, hleik', 'truôv', 'tuôr', 'krâuz nur njês', 'khơưk chiê', 'cxiêx tênhz mênhv', 'qox', 'jax hâuk đêx', 'đaz lâus', 'tsoz, tus', 'nkhiz ntông', 'luz vak', 'njik', 'qưr, mfar', 'njê', 'đhuôr', 'txir kâuz', 'hu, hơưv', 'điêz', 'cuô đik', 'xêv', 'xênhz nzưr', 'đâux chok, kưk tuôr', 'ntưk', 'chis, cuz', 'đhiê', 'gruôs', 'gruôs siêz', 'cênhr', 'tar, their', 'txiêr', 'jêk tơưk', 'njư', 'kênhz', 'toư', 'greiv', 'côngx đa buô', 'yâur', 'their, trôngs, bus', 'txiêr', 'txênhv', 'nôngs yâu', 'thuôx', 'tuôs', 'cxuôk', 'tơư', 'muôv hloz', 'niêv tix', 'pheiz', 'tus tưs', 'đruôk tsưz', 'ziz, hloz', 'tsov', 'nôngs', 'nôngs liêx', 'nôngs yâur', 'tos', 'puz', 'đêr', 'hma, đêr kuk', 'yâuv, tâuv', 'chi', 'ndơưk, đrâu', 'xeir', 'qơư', 'câul', 'khâuz truôz', 'phâuk', 'vâur', 'tok', 'khưr', 'yav, uô si', 'leiv xoz', 'njeik muôs', 'txir nzơưv', 'zơưv zix', 'kâuz', 'tsênhr piv', 'phôngv', 'qơưk', 'so', 'trâur, đrư', 'côngv', 'lơưr chor', 'pêz', 'cu', 'tsơưz', 'cuk li', 'guôx', 'mê njik', 'khur txưv', 'tsi, tsi tâu', 'suôz nhuôs', 'đrox', 'muôx', 'kar cơưk', 'nđêx, tsưs', 'nhuôs (nhuôv)', 'nhuôs tuz', 'njiêz muôs', 'nhuôs puôs', 'yuôr', 'nkhâuk', 'trik', 'nhax', 'gâux nhaz', 'chax đaz', 'jêz, chok', 'nđêx', 'hlê, đơưk, txo', 'mor', 'kok, vơưs', 'kuz', 'pos, zơưv, côngz', 'trâuz trik', 'tơưk', 'tưz', 'uô nênhz, đaz kruô', 'cơưr', 'kror trôngx', 'kor trei', 'tơưr', 'luôs', 'cheix', 'uô yôngz', 'exar krơưr', 'hluô', 'njênhx', 'txir', 'jông saz', 'tiêr', 'nziv hluz', 'plangz', 'blơưv', 'cangz jas', 'ntuk', 'ntêr', 'lo', 'nav hluôk', 'tras', 'niêv yaz', 'tuôz', 'kriê', 'đar', 'reik', 'chaoz chêv', 'khoz, lo', 'jênhx', 'gâux', 'viv', 'hêv', 'jênhx xưv', 'jăngx 1', 'jăngx 2', 'jăngx 3'], 'vietnamese': ['thấp', 'cao', 'lớn', 'mới', 'tốt', 'đen', 'học', 'đi', 'ăn', 'làm', 'chim', 'tre', 'cây', 'cái cuốc', 'cái cưa', 'cáii dao', 'cái nhà', 'cái gùi', 'cái bàn', 'người', 'người mẹ', 'người bố', 'người chú', 'tấm chăn', 'quyển vở', 'chiếc lá', 'sợi tóc', 'sợi chỉ', 'yến', 'tạ', 'tấn', 'thước', 'vàng', 'gang tay', 'gáo', 'chai', 'thìa', 'chén', 'lần', 'bữa', 'ngày', 'đêm', 'tháng', 'năm', 'bát', 'mùa', 'đời', 'cánh', 'thừa, khoảng', 'khu', 'làng', 'xã', 'tỉnh', 'loại', 'bố', 'con trai', 'con gái', 'con', 'anh trai', 'em trai', 'chị gái', 'em gái', 'dâu', 'rể', 'ông', 'bà', 'nhà', 'nương', 'ruộng', 'chó', 'gà', 'giấy', 'nước', 'học sinh', 'thợ mộc', 'bệnh viện', 'chạy', 'ở', 'bay lượn', 'chơi', 'nó chạy', 'được ăn', 'được uống', 'được học', 'được chơi', 'bị giết', 'bị cắn', 'bị ốm', 'bị phạt', 'bị đánh', 'đắng', 'ngọt', 'cao', 'hẹp', 'mới', 'nhà này đẹp quá', 'nhà này đẹp đẹp', 'nhà này không đẹp', 'cái áo mới mới', 'cái áo rất mới', 'cái áo không mới', 'khi nào', 'khi nào đi?', 'bao nhiêu', 'lấy bao nhiêu?', 'ai nấu cơm?', 'mẹ nấu cơm', 'ai', 'anh uống gì?', 'này', 'kia', 'ở xa đằng kia', 'bây giờ', 'lúc đó', 'hôm nay', 'đêm nay', 'bằng này', 'từng đó, bằng ấy', 'nó sắp đi học', 'sắp đến mùa thu hoạch', 'vừa mới', 'tôi vừa mới đi', 'cả nhà vừa mới ăn cơm thì có khách', 'đã, đã từng', 'chúng tôi đã ăn cơm', 'con trâu già đã chết rét', 'rồi', 'tôi về đến nhà thì nó đã đi rồi', 'hai đứa mình thích nhau', 'rất', 'ngôi nhà này rất cao', 'lắm, quá', 'nó khỏe quá', 'không', 'chúng ta đi chợ nhé?', 'không, tôi không đi', 'mày học bài chưa?', 'tôi chưa đi học', 'tôi và anh cùng đi học', 'hay, hay là', 'anh làm hay (là) nó làm', 'mà, thì, nhưng', 'nói đến thế mà nó vẫn không biết', 'anh đi, thì (nhưng) tôi không đi', 'nhưng mà', 'anh nói, nhưng mà anh không làm', 'vì', 'vì trời mưa, tôi không đến', 'nếu lười học, thì thi không đỗ', 'tóc', 'lưỡi', 'miệng', 'mặt trời', 'lá', 'quả', 'hoa', 'lúa', 'cá', 'cá', 'chó', 'chó', 'khỏe', 'sắt', 'sáu', 'rượu', 'khổ', 'chủ', 'mực', 'chữ', 'mờ', 'chuối', 'mát', 'chủ nhà', 'gia đình', 'giảng dạy', 'chuyển đổi', 'học sinh', 'học đường, nhà trường', 'báo thù', 'bảo vệ', 'tất', 'yếm', 'tròn', 'bảo vệ hòa bình', 'báo cáo', 'báo động', 'ca bin', 'cận thị', 'chức vụ', 'công lao', 'công sức lao động', 'công trình công cộng', 'dãy số', 'dân số', 'đàn cầm', 'đạo phật', 'đêm giáng sinh', 'điều kiện kinh tế', 'đồi mồi', 'hề', 'quốc kì', 'hệ sinh thái', 'quốc khánh', 'hiệu', 'quốc tế', 'hiệu số', 'quy chế', 'quy định', 'hỗn số', 'quy luật', 'hữu nghị', 'quy tắc', 'khuyến nông', 'ki lô mét', 'quyền hạn', 'lãng phí', 'quyền hành', 'lạng', 'sinh hoạt', 'lưu huỳnh', 'số bị trừ', 'mật độ', 'số chia', 'mẫu số', 'mét khối', 'mít tinh', 'nghĩa vụ', 'nghĩa vụ công dân', 'thành quả lao động', 'phổ thông', 'thể dục thể thao', 'số la mã', 'số liệu', 'thành công', 'phục vụ', 'phổ thông', 'tổng hợp', 'tổng số', 'truyền thống', 'học sinh và thầy giáo', 'học sinh', 'thầy giáo', 'học sinh mới học chữ hmông', 'học sinh', 'cái nhà', 'chó', 'lá', 'cậu học sinh', 'ngôi nhà này rất cao', 'con chó', 'chiếc lá', 'cậu học sinh mới', 'ngôi nhà đẹp', 'con chó đen', 'chiếc lá đỏ', 'cậu học sinh mới đó', 'ngôi nhà đẹp này', 'con chó đen kia', 'chiếc lá đỏ này', 'vốc', 'bỏ', 'nắm', 'bát', 'cân', 'yến', 'tạ', 'lít', 'thước', 'cây số', 'hai bát nước', 'một bó củi', 'chín thước vải', 'bảy cây số', 'ba con lợn', 'bốn cái áo', 'hai ngôi sao', 'một mặt trăng', 'một mặt trời', 'sáu tấm chiếu', 'năm con dao', 'tấm', 'chùm', 'cơn', 'hạt', 'đám', 'đàn cầm', 'lỗ', 'lỗ mắt', 'lỗ tai', 'chỗ này', 'chỗ xa kia', 'chỗ nào', 'người', 'người mẹ', 'người ông', 'con', 'con lợn', 'con sâu', 'cái bừa', 'cái roi', 'con sông', 'cái', 'cái nhà', 'cái áo', 'mặt trời', 'mặt trăng', 'thằng', 'thằng kẻ cướp', 'cái', 'cái cuốc', 'cái dao', 'cái búa', 'tấm', 'tấm chiếu', 'lá cờ', 'mảnh nương', 'miếng vải', 'cái', 'cái chăn', 'cái chiếu', 'cây', 'cây gỗ', 'cây tre', 'cục', 'cục đất', 'hòn', 'hòn đất', 'hạt', 'hạt thóc', 'bông', 'hai bông hoa', 'chùm', 'chùm quả', 'bụi', 'bụi tre, nứa', 'bụi cây', 'miếng', 'miếng bánh', 'tấm gỗ', 'bài học', 'đàn, bầy', 'cơn mưa', 'cơn', 'cơn gió', 'vốc', 'vốc ngô', 'đàn, bầy', 'bầy trâu', 'đàn gà', 'đợt', 'đợt quả', 'vốc', 'vốc ngô', 'cái', 'cái địu', 'cái chiếu', 'múi chanh', 'lát gừng', 'bó', 'bó củi', 'loại', 'loại người', 'sợi', 'sợi dây', 'con đường', 'điều tốt', 'nắm rau', 'con dốc', 'ba con dốc núi', 'khóm', 'miếng', 'khóm lúa', 'miếng', 'miếng cơm', 'cục đất', 'miếng thịt', 'hai bên vai', 'nhát dao', 'chém ba nhát dao', 'lớp', 'lớp đất', 'lớp cỏ gianh', 'quyển', 'quyển vở', 'lớp', 'lớp học', 'chai', 'chai rượu', 'bữa', 'bữa cơm', 'lứa', 'lứa lợn', 'gánh', 'gánh củi', 'gáo', 'gáo nước', 'cân đường', 'nhúm', 'nhúm muối', 'nắm', 'hai nắm xôi', 'mét', 'hai mét vải', 'tiếng, lời', 'lít', 'lít rượu', 'cốc', 'cốc rượu', 'chén', 'chén rượu', 'gùi', 'hai gùi ngô', 'chai', 'chai rượu', 'lọ đường', 'ván', 'ván bài', 'lượt đi', 'một', 'hai', 'ba', 'bốn', 'năm', 'tôi để phần cơm cho anh trai tôi trong nồi', 'mẹ sai con đi chợ mua thịt về tiếp khách', 'bố đã dựng xong nhà cho con trai', 'anh trai dạy em gái học tiếng việt', 'bác tôi giết trâu', 'con mèo bắt được con chuột', 'cha tôi vừa làm được một ngôi nhà mới', 'nó đập cái bát vỡ', 'con tặng quà cho bố mẹ', 'gia đình này gả con gái cho con của bạn', 'mẹ cho con hai quả chuối', 'gửi thư về nhà', 'đưa một quyển sách cho nó', 'đưa cho nó một quyển sách', 'bắt cho tôi hai con gà', 'bắt hai con gà cho tôi', 'bố mua một bộ quần áo cho con', 'cái đồng hồ này có ba kim', 'trong nồi đang còn cơm', 'tằm biến thành kén', 'tôi đã trở thành bác sĩ', 'ở đây có hai con sông lớn', 'anh ấy đã trở thành người thầy của tôi', 'em gái tôi sẽ trở thành cô gái đẹp nhất làng', 'gia đình tôi có tám người', 'vượn đã biến hóa thành người', 'sai bảo', 'ép buộc', 'ép buộc', 'cứ', 'bảo anh đi tìm bò', 'ép con uống thuốc', 'người ta vu cáo nó giết người', 'bố bảo con mang củi vào nhà', 'đi', 'chạy', 'bơi', 'nhảy', 'trốn', 'lên', 'xuống', 'ra', 'qua', 'về', 'đi', 'leo lên đi', 'ra di', 'xuống đi', 'ác', 'anh', 'anh cả', 'anh rể', 'ao', 'áo', 'ăn', 'ăn cắp', 'ăn ở', 'ăn xin', 'ẩm', 'ấm', 'ấm no', 'ấp', 'ba', 'ba ba', 'bà', 'bà ngoại', 'bà nội', 'bã', 'bác tôi giết trâu', 'bạc', 'bại liệt', 'ban đầu', 'ban mai', 'ban ngày', 'bàn', 'bàn bạc', 'bàn chân', 'bàn tay', 'bán', 'bạn', 'bánh', 'bao', 'bao giờ', 'bao lâu', 'bao nhiêu', 'bao vây', 'bào', 'bào', 'bảo', 'báo', 'bay lượn', 'bày', 'bảy cây số', 'bẫy', 'bắc', 'bắc qua', 'băm', 'bắn', 'bằng', 'bằng lòng', 'bằng phẳng', 'bắp', 'bắt', 'bắt đầu', 'bậc', 'bấm', 'bẩn', 'bâu', 'bây giờ', 'bầy', 'bẫy', 'bè', 'bé', 'bẹ', 'bẻ', 'bẹn', 'béo', 'bẹp', 'bê', 'bễ', 'bế', 'bên', 'bệnh', 'bếp', 'bi', 'bí', 'bí bách', 'biển', 'biết', 'bím', 'bịt', 'bò', 'bỏ', 'bó', 'bọ', 'bóc', 'bón', 'bọn', 'bóng tối', 'bóp', 'bọt', 'bồ câu', 'bố', 'bốc', 'bôi', 'bốn', 'bậc', 'bờ', 'bơi', 'bởi', 'bới', 'bớt', 'bù', 'bú', 'búa', 'búi', 'bụi', 'bùn', 'bụng', 'buộc', 'buổi', 'buông', 'buồng', 'buồng', 'bừa', 'bữa', 'bực tức', 'bước', 'bưng', 'bướu', 'bứt', 'cá', 'cài', 'cải', 'cãi', 'cái', 'cam', 'cám', 'cám ơn', 'can đảm', 'cản trở', 'cán', 'cạn', 'càng', 'cành', 'cánh', 'cánh đồng', 'cánh hoa', 'cánh tay', 'cao', 'cào', 'cáo', 'cạo', 'cắt', 'cáu', 'cay', 'cày', 'cằm', 'cắm', 'cắn', 'cắt', 'câm', 'cầm', 'cần câu', 'cất', 'câu đố', 'cầu', 'cầu vồng', 'cậu', 'cây', 'chạc cây', 'chài', 'chải', 'chạm', 'chan', 'cán', 'chanh', 'chào', 'chào mào', 'cháo', 'chát', 'cháu', 'chày', 'chảy', 'cháy', 'chạy', 'chăm', 'chăm chỉ', 'chẵn', 'chắn', 'chặt', 'châm', 'chấm', 'chậm', 'chân', 'chật', 'châu chấu', 'chấy', 'che', 'chém ba nhát dao', 'chen', 'chèo bẻo', 'chê', 'chết', 'chì', 'chỉ trỏ', 'chị', 'chị dâu', 'chia', 'chiếc', 'chiêng', 'chiều', 'chiếu', 'chim', 'chim cắt', 'chim sẻ', 'chìm', 'cho', 'chó', 'chó sói', 'chọc', 'chói', 'chọi', 'chọn', 'chỗ', 'chồi', 'chổi', 'chôn', 'chồng', 'chờ', 'chợ', 'chơi', 'chớp', 'chớp mắt', 'chú', 'chú rể', 'chua', 'chuẩn bị', 'chúc', 'chui', 'chùi', 'chùm', 'chung', 'chúng nó', 'chúng ta', 'chuôi', 'chuôi', 'chuồn chuồn', 'chuồng', 'chút', 'chữ', 'chưa', 'chửa', 'cỏ', 'có', 'cóc', 'cọc', 'con', 'con trai', 'con ngươi', 'con nuôi', 'còn', 'cong', 'cõng', 'cô', 'cô dâu', 'cổ', 'cối', 'cột', 'cởi', 'cơm', 'củ', 'cũ', 'cụ', 'cua', 'củi', 'cũng', 'cúng', 'cưa', 'cửa', 'cửa sổ', 'cứng', 'cười', 'cưỡi', 'cưới', 'cướp', 'dây', 'dẻ', 'dẻ', 'dễ tính', 'da', 'dễ thương', 'dạ dày', 'dai', 'đế', 'dệt', 'dài', 'dán', 'dì', 'dao', 'dì ghẻ', 'dày', 'dạy', 'diều hâu', 'dắt', 'dặn', 'dính', 'dân', 'dân ca', 'do', 'dọa', 'dân số', 'bài 1', 'bài 2', 'bài 3']}\n",
      "['kêl', 'saz', 'lux', 'yaz', 'jông', 'đuz', 'cơưv', 'môngl', 'naox', 'uô', 'nôngs', 'shôngz', 'ntông', 'trăngz hlâu', 'trăngz cơư', 'trăngz tras', 'luz tsêr', 'luz cơưv', 'luz trôngx', 'lênhx', 'lênhx nav', 'lênhx txir', 'lênhx txir zơưv', 'đeiv qaox', 'đeiv ntơưr', 'đeiv blôngx', 'txux plâuz hâu', 'txux xur', 'chaor', 'puôk', 'cxaz', 'yiv', 'đangx', 'lôngx têl', 'phưz', 'langv phưx', 'đar', 'khaoz', 'jas', 'pluôv', 'hnuz', 'hmao', 'hlik (hli)', 'shông', 'ntiv', 'cheix', 'tav', 'tik', 'sênhv', 'txôngl', 'jaol', 'xar', 'xinhr', 'zangv', 'txeir', 'tuz', 'nxeik', 'nhuôs', 'tix', 'cưr', 'vêr', 'ndâus', 'nhangz', 'vâur', 'zơưv', 'pus', 'tsêr', 'têz', 'lax', 'đêr', 'keiz', 'ntơưr', 'đêx', 'shuv xinhz', 'cưk ntông', 'tsêr khu maoz', 'đha', 'nhaoz', 'zang zus', 'uô si', 'nưl đha', 'tâu naox', 'tâu hâuk', 'tâu cơưv', 'tâu uô si', 'tsuv tuô', 'tsuv tuv', 'trâus maoz', 'trâus  phuôv', 'tsuv ntâuk', 'az', 'kăngz', 'saz', 'greiv', 'yaz', 'tsêr nor jông hưngr', 'tsêr nor jông jông', 'tsêr nor tsi jông', 'luz yao yaz yaz', 'luz yao laok six yaz', 'luz yao tsi yaz', 'thâuk tưs', 'thâuk tưs môngl?', 'bâuv tưs', 'zuôr bâuv tưs?', 'tul tưs uô maor?', 'nav uô maor', 'tus tưs', 'caox hâuk đangz sti?', 'nor', 'cao', 'tiv u', 'nhil nor', 'thâuk cao', 'hnuz nor', 'hmaok nor', 'bâuv nor', 'bâuv cao', 'nưl xangr môngl cơưv', 'xangr tsus cheix sâu kôngz', 'nhaor', 'cur nhaor môngl', 'iz tsêr nhaor naox maor txơưv muôx kruô', 'tưz', 'pêz tưz naox maor', 'tul tưv lâul tưz tuôs nao', 'lơưv', 'cur lul txus tsêr, nưl tưz môngl lơưv', 'ưz ao tul sik nhav', 'lao six', 'luz tsêr nor lao six saz', 'thêv', 'nưl muôx jus thêv', 'tsi', 'pêz môngl cangr caz cax?', 'tsi, cur tsi môngl', 'caox cơưv sti tâu?', 'cur tsi tâu cơưv', 'cur thaz (haz) caox sik môngl cơưv', 'lak, lak sik', 'caox uô lak (sik) nưl uô', 'mak', 'heik lul txus uô lê, mak nưl tsênhv tsi pâuz', 'caox môngl, mak cur tsi môngl', 'si mak', 'caox heik, si mak caox tsi uô', 'viv', 'viv lul nangs, cur tsi tuôx', 'zaos cưk gênhl cơưv, txơưv khaor thuôx', 'plâuz', 'bleis', 'ndâux', 'hnuz', 'blôngx', 'txir', 'pangx', 'blêx', 'njêl', 'bjêl (hmông sua)', 'đêr', 'tlêr (hmông sua)', 'jus', 'hlâu', 'trâu', 'chơưr', 'khưr', 'tsưr', 'mêv', 'txưr', 'krêz', 'tsơưz', 'langx', 'tsưr tsêr', 'chuôx thênhx', 'changr kra', 'txangr hlôngr', 'shuv xinhz', 'shux thangx', 'paov yơưx', 'paor phưv', 'vuôv tsưr', 'vêx zaoz', 'khênhx', 'paor vêv huôx finhx', 'paov caov', 'paov tôngv', 'cak binhk', 'cângv thiv', 'tsưr vuv', 'côngz laox', 'đangl jus laox tôngv', 'côngz yênhx côngz côngv', 'grăngx xôr', 'jênhx xôr', 'đangx cângx', 'đaov phoưx', 'hmao jangr xinhz', 'đăngl jus cênhk têr', 'đôix môix', 'hêx', 'cox qix', 'hêv xinhz their', 'cuôr khanhr', 'hiêuv', 'cuôr têr; thôngz ntux', 'hiêuv xôr', 'cuik tsêr', 'cuiz tênhv', 'hôngr xôr', 'cuik luôx', 'hưr ngiv', 'cuik tar', 'kruôz nôngk ngiêx', 'cik lôk mêr', 'qênhx hangv', 'langy phêv', 'qênhx shênhx', 'langl; lis', 'xinhz huôx', 'lơưk huênhx', 'xôr tsưv yưx', 'mox đôv', 'xôr pheiz', 'mâur xôr', 'mêr khôir', 'mir tinhk', 'ngiêr vuv', 'ngiêr vuv côngk jênhk', 'laox tôngv yênhx tâu', 'phôv thông', 'thêv zux thêv thaok', 'xôr lak mar', 'xôr lêuv', 'yênhx côngz', 'phưx vưv', 'phôv thông', 'tôngv hơưx', 'iz huôv; tông xôr', 'yoangx thôngz', 'shuv sinhz haz theix jaor', 'shuv xinhz', 'their jaor', 'shuv xinhz yaz cơưv hmôngz ntơưr', 'shuv xinhz', 'tsêr', 'đêr', 'blôngx', 'lênhx shuv xinhz', 'luz tsêr', 'tul đêr', 'đeiv blôngx', 'lênhx shuv xinhz yaz', 'luz tsêr jông gâux', 'tul đêr đuz', 'đeiv blôngx laz', 'lênhx shuv xinhz yaz cao', 'luz tsêr jông gâux nor', 'tul đêr đuz cao', 'đeiv blôngx laz nor', 'fôngr', 'khênhr', 'têl', 'ntiv', 'cir', 'chaov', 'tav', 'lir', 'qiv', 'lil cêr', 'aoz ntiv đêx', 'iz khênhr tơưl', 'chuôx yiv ntâu', 'shang lil cêr', 'pêz tul buô', 'plâuz luz yao', 'aoz luz hnuz kuz', 'iz luz hli', 'iz luz hnuz', 'trâu đeiv lêr', 'tsiz trăngz tras', 'đeiv', 'đrư', 'caoz', 'nja', 'păngz', 'txôngx', 'kraor', 'kraor muôs', 'kraor njêx', 'kraor nor', 'kraor tiv u', 'kraor tưs', 'lênhx', 'lênhx nav', 'lênhx zơưv', 'tul', 'tul buô', 'tul căngz', 'tul heir', 'tul blơưv', 'tul đêx', 'luz', 'luz tsêr', 'luz yao', 'luz hnuz', 'luz hli', 'kuz', 'kuz hlâuk cxangr', 'trăngz', 'trang hlâu', 'trăngz tras', 'trangz tâuk', 'đeiv', 'đeiv lêr', 'đeiv qix', 'đeiv têz', 'đeiv ntâuz', 'faoz', 'faoz qaox', 'faoz lêr', 'tsao', 'tsao ntông', 'tsao shôngz', 'chaor', 'chaor angr', 'thôngx', 'thôngx angr', 'njak', 'njak blêx', 'tâur', 'aoz tâur pangx', 'đrư', 'đrư txir', 'cu', 'cu shôngz', 'cu ntông', 'bleik', 'câux nduôr', 'đeiv ntông', 'jăngx cơưv', 'baox', 'cangz năngs', 'ntưl', 'ntưl chuô', 'fôngz', 'tâu paoz cư', 'baox', 'baox nhux tưv', 'baox keiz', 'fâuv', 'fâuv txir', 'tâu', 'tâu paoz cư', 'faoz', 'faoz nhak', 'faoz lêr', 'bleik txir lưl', 'bleik krar', 'txông', 'txông tơưl', 'zangv', 'zangv nênhs', 'txux', 'txux hluô', 'txux cêr', 'txux jông', 'têl jâuz', 'plangl', 'pêz plangl taox', 'txôngx', 'lu', 'txôngx blêx', 'chaor', 'chaor maor', 'chaor angr', 'lu greix', 'aoz fangz xưz pưs', 'tras', 'txarpeez tras', 'exênhx', 'exênhx têz', 'zênhv grênhz', 'pênhr', 'pênhr ntơưr', 'thênhv', 'thênhv cơưn', 'langv fưx', 'langv fưx chơưr', 'pluôl', 'pluôl maor', 'jăngl', 'jăng buô', 'ntangs', 'ntangs tơưl', 'phưz', 'phưz đêx', 'cir thangx', 'chuôz', 'chuôz njêr', 'puôz', 'aoz puôz maor blâuv', 'exiv', 'aoz cxiv mtâuz', 'lu', 'lir', 'lir chơưr', 'côngr', 'côngr chơưr', 'khaoz', 'khaoz chơưr', 'cơưv', 'aoz cơưv paoz cư', 'thâur', 'thâur chơưr', 'thâur thangx', 'txaos', 'txaos fax ntơưr', 'jas môngl', 'iz', 'aoz', 'pêz', 'plâuz', 'tsiz', 'cur tsês maor trâu cur tix lâul ntơưv lâux câux', 'nav cuôs nhuôs môngl caz muôl greix tul tav kruô', 'txir tưz uô tâu tsêr yaz trâu tul tuz', 'tix lâul kra tul muôv shuv lul chaoz tsiz', 'cur zơưv lâul tuô nhux', 'tul yưk njaz tâu tul tsuôs', 'cur txir nhuôr uô tâu iz luz tsêr yaz', 'nưl tsông luz ntiv tơưs', 'nhuôs puz txax yawng trâu nav txir', 'chuôz zis nor kuôk tul nxeik trâu fôngx zưl li nhuôs', 'nav khơưk nhuôs aoz luz txir txơưz', 'xang ntơưr traor lul tsêr', 'puz iz pênhz ntơrr trâu nưl', 'puz trâu nưl iz pênhz ntơưr', 'muôz trâu cur aoz tul keiz', 'muôz aoz tul keiz trâu cur', 'txir muôl iz thaov tril yaoz trâu nhuôs', 'luz tênhr tsôngz na muôx pêz côngz', 'hâur lâux câuz tsênhv yuôr maor', 'căngz pênhv yênhx lưs', 'cur tưz yênhx nhaos cưk yuôx', 'nhaoz nor muôx aoz tul nav đêx', 'tix cao tưz yênhx cur li lênhx cưk kra ntơưr', 'cur tul nxeik zuôr yênhx tul nxeik jông gâux đuô hâur jaol', 'cur zis muôx ziv tul tuôz nênhs', 'chuôv nênhv tưz txa pênhv yênhx tuôz nênhs', 'cuôs', 'nak', 'zuôz', 'fav', 'cuôs caox môngl nrar nhux', 'zuôz nhuôs hâuk yuôx', 'puôz vuz hav nưl tuô tuôz nênhs', 'txir cuôs nhuôs muôz tơưl lul tsêr', 'môngl', 'đha', 'luôv', 'flơưr', 'tsir', 'ndê', 'grôl', 'tơưv', 'đhâu', 'lul', 'môngl', 'ndê môngl', 'tơưv môngl', 'grêl môngl', 'tưv', 'tix', 'tix hloz', 'zơưv zix', 'pak', 'yo', 'nox', 'uô hlâu', 'nhoz nox', 'thaor khơưr', 'nông', 'sor', 'sor tsâu', 'puôs', 'pêz', 'vưz ciz', 'pos', 'niêv teik', 'pos', 'fuôk', 'txir loz', 'nhiêx đơưz', 'exar krơưr', 'qir thơưx', 'teis cik', 'đruôz hnôngz', 'trôngx', 'saz lax', 'xiz tơư', 'xiz têk', 'muôs', 'bơưl', 'nduôr', 'sênhr', 'thâuv tưs', 'hor ntêr', 'haor ntâu', 'poz vix', 'thiz pov', 'thiz', 'heik', 'pov, phi xor', 'za', 'piêr', 'sha', 'chuôz zêx', 'pêx phaz', 'tuôv', 'tsuôr', 'tuô', 'bâuv, chuôs', 'huv siêz', 'tiêx zênhk', 'chax', 'ntêk', 'qir thơưx', 'kiz', 'xeik', 'kiêk', 'njâur', 'nhiv ni', 'paz, box', 'zêx', 'fuôx', 'zâu', 'foz tơưr', 'lor nteik', 'puôz teik', 'tros', 'pluôz', 'nhuôs nhôngx', 'puz', 'puôs', 'saz', 'moz', 'kror chuz', 'kê hlơưk', 'tâuz', 'tưk', 'hiêr, fiêx', 'pâuz', 'nxuôr hâu', 'pok', 'gas', 'tso', 'tsuôk', 'caz', 'têr', 'hnaoz, mfôngs', 'chor, lơưr', 'qơư tsâuk', 'tsu, juôx', 'buôk', 'gruôz nhês', 'txir', 'tsuôz', 'plênhr', 'plâuz', 'hmôngr', 'njưs', 'luôv đêx', 'viv', 'rênhz', 'kênh', 'nzir', 'nox mis', 'tâuk', 'shur, chok', 'pluôr yâur', 'cuô ar', 'plaz', 'khi', 'tar', 'tso', 'thix, tâur', 'qar qơư', 'traz heir', 'pluôs, tênhv', 'bâu tơưk', 'trux, truôv', 'gra', 'moz txiê', 'đê', 'njêl', 'khơưv', 'jâuz njuôz', 'lưr, changv', 'luz', 'txir caz nzưr', 'xuô, krâur', 'uô tsâus', 'tar nzưr lox', 'tar khuôz', 'cox qix', 'nkruôz', 'chiêx', 'chês', 'tik', 'đrags liêx', 'tik pax', 'ndax baz', 'siêz', 'tsuôz', 'tul plik', 'cuôv', 'suôz jêz', 'bâu siêz', 'njiv', 'vôngv', 'puôx tseiv', 'cxok', 'tuv', 'txiêr, hleik', 'truôv', 'tuôr', 'krâuz nur njês', 'khơưk chiê', 'cxiêx tênhz mênhv', 'qox', 'jax hâuk đêx', 'đaz lâus', 'tsoz, tus', 'nkhiz ntông', 'luz vak', 'njik', 'qưr, mfar', 'njê', 'đhuôr', 'txir kâuz', 'hu, hơưv', 'điêz', 'cuô đik', 'xêv', 'xênhz nzưr', 'đâux chok, kưk tuôr', 'ntưk', 'chis, cuz', 'đhiê', 'gruôs', 'gruôs siêz', 'cênhr', 'tar, their', 'txiêr', 'jêk tơưk', 'njư', 'kênhz', 'toư', 'greiv', 'côngx đa buô', 'yâur', 'their, trôngs, bus', 'txiêr', 'txênhv', 'nôngs yâu', 'thuôx', 'tuôs', 'cxuôk', 'tơư', 'muôv hloz', 'niêv tix', 'pheiz', 'tus tưs', 'đruôk tsưz', 'ziz, hloz', 'tsov', 'nôngs', 'nôngs liêx', 'nôngs yâur', 'tos', 'puz', 'đêr', 'hma, đêr kuk', 'yâuv, tâuv', 'chi', 'ndơưk, đrâu', 'xeir', 'qơư', 'câul', 'khâuz truôz', 'phâuk', 'vâur', 'tok', 'khưr', 'yav, uô si', 'leiv xoz', 'njeik muôs', 'txir nzơưv', 'zơưv zix', 'kâuz', 'tsênhr piv', 'phôngv', 'qơưk', 'so', 'trâur, đrư', 'côngv', 'lơưr chor', 'pêz', 'cu', 'tsơưz', 'cuk li', 'guôx', 'mê njik', 'khur txưv', 'tsi, tsi tâu', 'suôz nhuôs', 'đrox', 'muôx', 'kar cơưk', 'nđêx, tsưs', 'nhuôs (nhuôv)', 'nhuôs tuz', 'njiêz muôs', 'nhuôs puôs', 'yuôr', 'nkhâuk', 'trik', 'nhax', 'gâux nhaz', 'chax đaz', 'jêz, chok', 'nđêx', 'hlê, đơưk, txo', 'mor', 'kok, vơưs', 'kuz', 'pos, zơưv, côngz', 'trâuz trik', 'tơưk', 'tưz', 'uô nênhz, đaz kruô', 'cơưr', 'kror trôngx', 'kor trei', 'tơưr', 'luôs', 'cheix', 'uô yôngz', 'exar krơưr', 'hluô', 'njênhx', 'txir', 'jông saz', 'tiêr', 'nziv hluz', 'plangz', 'blơưv', 'cangz jas', 'ntuk', 'ntêr', 'lo', 'nav hluôk', 'tras', 'niêv yaz', 'tuôz', 'kriê', 'đar', 'reik', 'chaoz chêv', 'khoz, lo', 'jênhx', 'gâux', 'viv', 'hêv', 'jênhx xưv', 'jăngx 1', 'jăngx 2', 'jăngx 3']\n",
      "['thấp', 'cao', 'lớn', 'mới', 'tốt', 'đen', 'học', 'đi', 'ăn', 'làm', 'chim', 'tre', 'cây', 'cái cuốc', 'cái cưa', 'cáii dao', 'cái nhà', 'cái gùi', 'cái bàn', 'người', 'người mẹ', 'người bố', 'người chú', 'tấm chăn', 'quyển vở', 'chiếc lá', 'sợi tóc', 'sợi chỉ', 'yến', 'tạ', 'tấn', 'thước', 'vàng', 'gang tay', 'gáo', 'chai', 'thìa', 'chén', 'lần', 'bữa', 'ngày', 'đêm', 'tháng', 'năm', 'bát', 'mùa', 'đời', 'cánh', 'thừa, khoảng', 'khu', 'làng', 'xã', 'tỉnh', 'loại', 'bố', 'con trai', 'con gái', 'con', 'anh trai', 'em trai', 'chị gái', 'em gái', 'dâu', 'rể', 'ông', 'bà', 'nhà', 'nương', 'ruộng', 'chó', 'gà', 'giấy', 'nước', 'học sinh', 'thợ mộc', 'bệnh viện', 'chạy', 'ở', 'bay lượn', 'chơi', 'nó chạy', 'được ăn', 'được uống', 'được học', 'được chơi', 'bị giết', 'bị cắn', 'bị ốm', 'bị phạt', 'bị đánh', 'đắng', 'ngọt', 'cao', 'hẹp', 'mới', 'nhà này đẹp quá', 'nhà này đẹp đẹp', 'nhà này không đẹp', 'cái áo mới mới', 'cái áo rất mới', 'cái áo không mới', 'khi nào', 'khi nào đi?', 'bao nhiêu', 'lấy bao nhiêu?', 'ai nấu cơm?', 'mẹ nấu cơm', 'ai', 'anh uống gì?', 'này', 'kia', 'ở xa đằng kia', 'bây giờ', 'lúc đó', 'hôm nay', 'đêm nay', 'bằng này', 'từng đó, bằng ấy', 'nó sắp đi học', 'sắp đến mùa thu hoạch', 'vừa mới', 'tôi vừa mới đi', 'cả nhà vừa mới ăn cơm thì có khách', 'đã, đã từng', 'chúng tôi đã ăn cơm', 'con trâu già đã chết rét', 'rồi', 'tôi về đến nhà thì nó đã đi rồi', 'hai đứa mình thích nhau', 'rất', 'ngôi nhà này rất cao', 'lắm, quá', 'nó khỏe quá', 'không', 'chúng ta đi chợ nhé?', 'không, tôi không đi', 'mày học bài chưa?', 'tôi chưa đi học', 'tôi và anh cùng đi học', 'hay, hay là', 'anh làm hay (là) nó làm', 'mà, thì, nhưng', 'nói đến thế mà nó vẫn không biết', 'anh đi, thì (nhưng) tôi không đi', 'nhưng mà', 'anh nói, nhưng mà anh không làm', 'vì', 'vì trời mưa, tôi không đến', 'nếu lười học, thì thi không đỗ', 'tóc', 'lưỡi', 'miệng', 'mặt trời', 'lá', 'quả', 'hoa', 'lúa', 'cá', 'cá', 'chó', 'chó', 'khỏe', 'sắt', 'sáu', 'rượu', 'khổ', 'chủ', 'mực', 'chữ', 'mờ', 'chuối', 'mát', 'chủ nhà', 'gia đình', 'giảng dạy', 'chuyển đổi', 'học sinh', 'học đường, nhà trường', 'báo thù', 'bảo vệ', 'tất', 'yếm', 'tròn', 'bảo vệ hòa bình', 'báo cáo', 'báo động', 'ca bin', 'cận thị', 'chức vụ', 'công lao', 'công sức lao động', 'công trình công cộng', 'dãy số', 'dân số', 'đàn cầm', 'đạo phật', 'đêm giáng sinh', 'điều kiện kinh tế', 'đồi mồi', 'hề', 'quốc kì', 'hệ sinh thái', 'quốc khánh', 'hiệu', 'quốc tế', 'hiệu số', 'quy chế', 'quy định', 'hỗn số', 'quy luật', 'hữu nghị', 'quy tắc', 'khuyến nông', 'ki lô mét', 'quyền hạn', 'lãng phí', 'quyền hành', 'lạng', 'sinh hoạt', 'lưu huỳnh', 'số bị trừ', 'mật độ', 'số chia', 'mẫu số', 'mét khối', 'mít tinh', 'nghĩa vụ', 'nghĩa vụ công dân', 'thành quả lao động', 'phổ thông', 'thể dục thể thao', 'số la mã', 'số liệu', 'thành công', 'phục vụ', 'phổ thông', 'tổng hợp', 'tổng số', 'truyền thống', 'học sinh và thầy giáo', 'học sinh', 'thầy giáo', 'học sinh mới học chữ hmông', 'học sinh', 'cái nhà', 'chó', 'lá', 'cậu học sinh', 'ngôi nhà này rất cao', 'con chó', 'chiếc lá', 'cậu học sinh mới', 'ngôi nhà đẹp', 'con chó đen', 'chiếc lá đỏ', 'cậu học sinh mới đó', 'ngôi nhà đẹp này', 'con chó đen kia', 'chiếc lá đỏ này', 'vốc', 'bỏ', 'nắm', 'bát', 'cân', 'yến', 'tạ', 'lít', 'thước', 'cây số', 'hai bát nước', 'một bó củi', 'chín thước vải', 'bảy cây số', 'ba con lợn', 'bốn cái áo', 'hai ngôi sao', 'một mặt trăng', 'một mặt trời', 'sáu tấm chiếu', 'năm con dao', 'tấm', 'chùm', 'cơn', 'hạt', 'đám', 'đàn cầm', 'lỗ', 'lỗ mắt', 'lỗ tai', 'chỗ này', 'chỗ xa kia', 'chỗ nào', 'người', 'người mẹ', 'người ông', 'con', 'con lợn', 'con sâu', 'cái bừa', 'cái roi', 'con sông', 'cái', 'cái nhà', 'cái áo', 'mặt trời', 'mặt trăng', 'thằng', 'thằng kẻ cướp', 'cái', 'cái cuốc', 'cái dao', 'cái búa', 'tấm', 'tấm chiếu', 'lá cờ', 'mảnh nương', 'miếng vải', 'cái', 'cái chăn', 'cái chiếu', 'cây', 'cây gỗ', 'cây tre', 'cục', 'cục đất', 'hòn', 'hòn đất', 'hạt', 'hạt thóc', 'bông', 'hai bông hoa', 'chùm', 'chùm quả', 'bụi', 'bụi tre, nứa', 'bụi cây', 'miếng', 'miếng bánh', 'tấm gỗ', 'bài học', 'đàn, bầy', 'cơn mưa', 'cơn', 'cơn gió', 'vốc', 'vốc ngô', 'đàn, bầy', 'bầy trâu', 'đàn gà', 'đợt', 'đợt quả', 'vốc', 'vốc ngô', 'cái', 'cái địu', 'cái chiếu', 'múi chanh', 'lát gừng', 'bó', 'bó củi', 'loại', 'loại người', 'sợi', 'sợi dây', 'con đường', 'điều tốt', 'nắm rau', 'con dốc', 'ba con dốc núi', 'khóm', 'miếng', 'khóm lúa', 'miếng', 'miếng cơm', 'cục đất', 'miếng thịt', 'hai bên vai', 'nhát dao', 'chém ba nhát dao', 'lớp', 'lớp đất', 'lớp cỏ gianh', 'quyển', 'quyển vở', 'lớp', 'lớp học', 'chai', 'chai rượu', 'bữa', 'bữa cơm', 'lứa', 'lứa lợn', 'gánh', 'gánh củi', 'gáo', 'gáo nước', 'cân đường', 'nhúm', 'nhúm muối', 'nắm', 'hai nắm xôi', 'mét', 'hai mét vải', 'tiếng, lời', 'lít', 'lít rượu', 'cốc', 'cốc rượu', 'chén', 'chén rượu', 'gùi', 'hai gùi ngô', 'chai', 'chai rượu', 'lọ đường', 'ván', 'ván bài', 'lượt đi', 'một', 'hai', 'ba', 'bốn', 'năm', 'tôi để phần cơm cho anh trai tôi trong nồi', 'mẹ sai con đi chợ mua thịt về tiếp khách', 'bố đã dựng xong nhà cho con trai', 'anh trai dạy em gái học tiếng việt', 'bác tôi giết trâu', 'con mèo bắt được con chuột', 'cha tôi vừa làm được một ngôi nhà mới', 'nó đập cái bát vỡ', 'con tặng quà cho bố mẹ', 'gia đình này gả con gái cho con của bạn', 'mẹ cho con hai quả chuối', 'gửi thư về nhà', 'đưa một quyển sách cho nó', 'đưa cho nó một quyển sách', 'bắt cho tôi hai con gà', 'bắt hai con gà cho tôi', 'bố mua một bộ quần áo cho con', 'cái đồng hồ này có ba kim', 'trong nồi đang còn cơm', 'tằm biến thành kén', 'tôi đã trở thành bác sĩ', 'ở đây có hai con sông lớn', 'anh ấy đã trở thành người thầy của tôi', 'em gái tôi sẽ trở thành cô gái đẹp nhất làng', 'gia đình tôi có tám người', 'vượn đã biến hóa thành người', 'sai bảo', 'ép buộc', 'ép buộc', 'cứ', 'bảo anh đi tìm bò', 'ép con uống thuốc', 'người ta vu cáo nó giết người', 'bố bảo con mang củi vào nhà', 'đi', 'chạy', 'bơi', 'nhảy', 'trốn', 'lên', 'xuống', 'ra', 'qua', 'về', 'đi', 'leo lên đi', 'ra di', 'xuống đi', 'ác', 'anh', 'anh cả', 'anh rể', 'ao', 'áo', 'ăn', 'ăn cắp', 'ăn ở', 'ăn xin', 'ẩm', 'ấm', 'ấm no', 'ấp', 'ba', 'ba ba', 'bà', 'bà ngoại', 'bà nội', 'bã', 'bác tôi giết trâu', 'bạc', 'bại liệt', 'ban đầu', 'ban mai', 'ban ngày', 'bàn', 'bàn bạc', 'bàn chân', 'bàn tay', 'bán', 'bạn', 'bánh', 'bao', 'bao giờ', 'bao lâu', 'bao nhiêu', 'bao vây', 'bào', 'bào', 'bảo', 'báo', 'bay lượn', 'bày', 'bảy cây số', 'bẫy', 'bắc', 'bắc qua', 'băm', 'bắn', 'bằng', 'bằng lòng', 'bằng phẳng', 'bắp', 'bắt', 'bắt đầu', 'bậc', 'bấm', 'bẩn', 'bâu', 'bây giờ', 'bầy', 'bẫy', 'bè', 'bé', 'bẹ', 'bẻ', 'bẹn', 'béo', 'bẹp', 'bê', 'bễ', 'bế', 'bên', 'bệnh', 'bếp', 'bi', 'bí', 'bí bách', 'biển', 'biết', 'bím', 'bịt', 'bò', 'bỏ', 'bó', 'bọ', 'bóc', 'bón', 'bọn', 'bóng tối', 'bóp', 'bọt', 'bồ câu', 'bố', 'bốc', 'bôi', 'bốn', 'bậc', 'bờ', 'bơi', 'bởi', 'bới', 'bớt', 'bù', 'bú', 'búa', 'búi', 'bụi', 'bùn', 'bụng', 'buộc', 'buổi', 'buông', 'buồng', 'buồng', 'bừa', 'bữa', 'bực tức', 'bước', 'bưng', 'bướu', 'bứt', 'cá', 'cài', 'cải', 'cãi', 'cái', 'cam', 'cám', 'cám ơn', 'can đảm', 'cản trở', 'cán', 'cạn', 'càng', 'cành', 'cánh', 'cánh đồng', 'cánh hoa', 'cánh tay', 'cao', 'cào', 'cáo', 'cạo', 'cắt', 'cáu', 'cay', 'cày', 'cằm', 'cắm', 'cắn', 'cắt', 'câm', 'cầm', 'cần câu', 'cất', 'câu đố', 'cầu', 'cầu vồng', 'cậu', 'cây', 'chạc cây', 'chài', 'chải', 'chạm', 'chan', 'cán', 'chanh', 'chào', 'chào mào', 'cháo', 'chát', 'cháu', 'chày', 'chảy', 'cháy', 'chạy', 'chăm', 'chăm chỉ', 'chẵn', 'chắn', 'chặt', 'châm', 'chấm', 'chậm', 'chân', 'chật', 'châu chấu', 'chấy', 'che', 'chém ba nhát dao', 'chen', 'chèo bẻo', 'chê', 'chết', 'chì', 'chỉ trỏ', 'chị', 'chị dâu', 'chia', 'chiếc', 'chiêng', 'chiều', 'chiếu', 'chim', 'chim cắt', 'chim sẻ', 'chìm', 'cho', 'chó', 'chó sói', 'chọc', 'chói', 'chọi', 'chọn', 'chỗ', 'chồi', 'chổi', 'chôn', 'chồng', 'chờ', 'chợ', 'chơi', 'chớp', 'chớp mắt', 'chú', 'chú rể', 'chua', 'chuẩn bị', 'chúc', 'chui', 'chùi', 'chùm', 'chung', 'chúng nó', 'chúng ta', 'chuôi', 'chuôi', 'chuồn chuồn', 'chuồng', 'chút', 'chữ', 'chưa', 'chửa', 'cỏ', 'có', 'cóc', 'cọc', 'con', 'con trai', 'con ngươi', 'con nuôi', 'còn', 'cong', 'cõng', 'cô', 'cô dâu', 'cổ', 'cối', 'cột', 'cởi', 'cơm', 'củ', 'cũ', 'cụ', 'cua', 'củi', 'cũng', 'cúng', 'cưa', 'cửa', 'cửa sổ', 'cứng', 'cười', 'cưỡi', 'cưới', 'cướp', 'dây', 'dẻ', 'dẻ', 'dễ tính', 'da', 'dễ thương', 'dạ dày', 'dai', 'đế', 'dệt', 'dài', 'dán', 'dì', 'dao', 'dì ghẻ', 'dày', 'dạy', 'diều hâu', 'dắt', 'dặn', 'dính', 'dân', 'dân ca', 'do', 'dọa', 'dân số', 'bài 1', 'bài 2', 'bài 3']\n",
      "{'input_ids': [[18337, 26987, 141, 2], [18337, 66784, 2], [18337, 44752, 2], [18337, 20735, 2], [18337, 1647, 23366, 2], [18337, 11819, 3326, 2], [18337, 501, 250148, 2], [18337, 250155, 96, 2], [18337, 653, 250165, 1022, 2], [18337, 250197, 2], [18337, 653, 250115, 2], [18337, 91, 250222, 97, 2], [18337, 653, 250142, 2], [18337, 808, 250061, 97, 250138, 2], [18337, 808, 250061, 97, 250100, 2], [18337, 808, 250061, 97, 5848, 2], [18337, 20729, 250191, 2], [18337, 20729, 250079, 2], [18337, 20729, 104580, 425, 2], [18337, 250189, 1022, 2], [18337, 250189, 1022, 2430, 2], [18337, 250189, 1022, 250062, 1690, 2], [18337, 250189, 1022, 250062, 1690, 250103, 2], [18337, 6, 16214, 4371, 8096, 250165, 1022, 2], [18337, 6, 16214, 4371, 250072, 1690, 2], [18337, 6, 16214, 4371, 876, 250112, 1022, 2], [18337, 6, 99064, 425, 915, 250236, 97, 250129, 2], [18337, 6, 99064, 425, 55313, 2], [18337, 3863, 250220, 2], [18337, 915, 250197, 472, 2], [18337, 501, 3798, 169, 2], [18337, 113, 4371, 2], [18337, 4724, 425, 2], [18337, 250112, 1022, 10968, 141, 2], [18337, 11521, 11479, 169, 2], [18337, 1937, 334, 250149, 1022, 2], [18337, 18233, 42, 2], [18337, 29610, 250205, 2], [18337, 79, 7, 2], [18337, 6456, 250150, 2], [18337, 6, 62410, 169, 2], [18337, 6, 18337, 250165, 2], [18337, 1096, 597, 250108, 400, 16, 2], [18337, 91, 250222, 2], [18337, 653, 13122, 2], [18337, 290, 4084, 2], [18337, 6, 12591, 2], [18337, 2126, 2], [18337, 91, 250184, 81, 2], [18337, 808, 250181, 234, 141, 2], [18337, 1647, 250165, 96, 2], [18337, 6, 29618, 2], [18337, 1022, 250218, 1690, 2], [18337, 80, 449, 334, 2], [18337, 808, 425, 250074, 2], [18337, 41735, 2], [18337, 653, 425, 250083, 2], [18337, 250159, 91, 2], [18337, 1053, 425, 2], [18337, 501, 250211, 2], [18337, 6985, 42, 2], [18337, 6, 2208, 250066, 91, 2], [18337, 653, 8467, 169, 2], [18337, 81, 250145, 2], [18337, 250128, 2], [18337, 5225, 2], [18337, 61636, 28912, 2], [18337, 808, 250106, 2], [18337, 21, 425, 2], [18337, 99697, 42, 2], [18337, 311, 1418, 2], [18337, 6, 660, 250187, 1690, 2], [18337, 250160, 2], [18337, 6, 128462, 1022, 250218, 97, 2], [18337, 501, 250068, 250170, 5718, 2], [18337, 61636, 28912, 8086, 250070, 97, 2], [18337, 11819, 528, 2], [18337, 12203, 250205, 2], [18337, 80, 449, 404, 7, 2], [18337, 250197, 78, 2], [18337, 653, 11479, 141, 250092, 10, 2], [18337, 250152, 250147, 1022, 2], [18337, 250152, 250129, 472, 2], [18337, 250152, 250079, 2], [18337, 250152, 6, 250197, 78, 2], [18337, 6, 17750, 334, 250120, 2], [18337, 6, 17750, 334, 6, 69782, 2], [18337, 4307, 250066, 91, 250070, 97, 2], [18337, 4307, 250066, 91, 915, 250139, 2], [18337, 6, 17750, 334, 250169, 472, 2], [18337, 295, 2], [18337, 472, 44473, 169, 2], [18337, 66784, 2], [18337, 49160, 334, 2], [18337, 20735, 2], [18337, 61636, 28912, 12488, 1647, 23366, 71877, 449, 42, 2], [18337, 61636, 28912, 12488, 1647, 23366, 1647, 23366, 2], [18337, 61636, 28912, 12488, 74185, 1647, 23366, 2], [18337, 20729, 113, 250165, 20735, 20735, 2], [18337, 20729, 113, 250165, 250118, 472, 37195, 20735, 2], [18337, 20729, 113, 250165, 74185, 20735, 2], [18337, 808, 250171, 472, 250090, 2], [18337, 808, 250171, 472, 250090, 250097, 705, 2], [18337, 876, 250230, 250090, 2], [18337, 97, 250197, 1690, 250143, 250090, 705, 2], [18337, 38137, 250090, 6, 250197, 250102, 705, 2], [18337, 2430, 6, 250197, 250102, 2], [18337, 15875, 250090, 2], [18337, 501, 250165, 1022, 250129, 472, 4724, 169, 13629, 32, 2], [18337, 12488, 2], [18337, 501, 250165, 2], [18337, 6, 13122, 75, 2], [18337, 12203, 379, 12488, 2], [18337, 808, 250171, 472, 501, 250165, 2], [18337, 6, 62410, 169, 12488, 2], [18337, 6, 18337, 250165, 472, 12488, 2], [18337, 876, 250230, 12488, 2], [18337, 876, 250230, 501, 250165, 2], [18337, 653, 11479, 141, 250132, 1690, 250097, 250079, 2], [18337, 250144, 1690, 250119, 91, 290, 4084, 91, 250066, 472, 23366, 169, 2], [18337, 12203, 250220, 2], [18337, 9709, 250188, 1690, 250097, 2], [18337, 445, 250191, 250188, 1690, 250147, 1022, 250102, 250240, 81, 250201, 1022, 250087, 2], [18337, 4797, 169, 2], [18337, 915, 250106, 4797, 169, 250147, 1022, 250102, 2], [18337, 38137, 808, 250073, 6, 250236, 96, 4797, 169, 250120, 91, 250147, 2], [18337, 250228, 81, 2], [18337, 9709, 96, 202, 250214, 91, 250191, 6, 4, 653, 11479, 141, 4797, 169, 250097, 250085, 81, 2], [18337, 6, 11479, 169, 6, 250165, 38137, 78, 92, 653, 38486, 2], [18337, 96, 250165, 37195, 2], [18337, 20729, 250191, 12488, 250118, 37195, 66784, 2], [18337, 95641, 334, 2], [18337, 653, 11479, 141, 250201, 1022, 62129, 95641, 334, 2], [18337, 74185, 2], [18337, 915, 250106, 250097, 250133, 1690, 25592, 377, 425, 32, 2], [18337, 74185, 4, 9709, 74185, 250097, 2], [18337, 501, 250165, 1022, 250079, 13629, 250055, 705, 2], [18337, 9709, 74185, 250055, 250079, 2], [18337, 9709, 3319, 169, 250108, 295, 16, 501, 250165, 1022, 78, 92, 250097, 250079, 2], [18337, 35907, 4, 35907, 78, 92, 2], [18337, 501, 250165, 1022, 6, 250197, 35907, 15, 14383, 16, 653, 11479, 141, 6, 250197, 2], [18337, 17719, 2], [18337, 1096, 250083, 96, 202, 250214, 91, 6, 250197, 9206, 4, 17719, 653, 11479, 141, 250091, 81, 74185, 915, 250066, 97, 2], [18337, 501, 250165, 1022, 250097, 6, 4, 17719, 9709, 74185, 250097, 2], [18337, 78, 17719, 2], [18337, 501, 250165, 1022, 250202, 6, 4, 78, 17719, 501, 250165, 1022, 74185, 6, 250197, 2], [18337, 60438, 2], [18337, 60438, 96, 202, 653, 250207, 6, 4, 9709, 74185, 250120, 1022, 2], [18337, 97, 250165, 91, 501, 250068, 706, 250184, 96, 250079, 6, 4, 250240, 81, 250206, 1690, 808, 250174, 1022, 2], [18337, 915, 250236, 97, 2], [18337, 2586, 164, 2], [18337, 6, 2208, 250066, 1022, 2], [18337, 6, 62410, 169, 2], [18337, 876, 250112, 1022, 2], [18337, 808, 38308, 2], [18337, 8743, 425, 2], [18337, 10006, 250082, 2], [18337, 653, 250209, 96, 2], [18337, 876, 250209, 96, 250108, 250155, 1646, 16, 2], [18337, 99697, 42, 2], [18337, 75137, 28912, 250108, 250155, 1646, 16, 2], [18337, 62129, 2], [18337, 1096, 250236, 2], [18337, 4307, 250066, 2], [18337, 501, 250065, 1690, 2], [18337, 29610, 250211, 2], [18337, 61636, 250211, 2], [18337, 29743, 334, 2], [18337, 808, 425, 250211, 2], [18337, 1959, 250106, 2], [18337, 61636, 250187, 97, 2], [18337, 1937, 425, 2], [18337, 61636, 250211, 250191, 2], [18337, 501, 250174, 1022, 250166, 1022, 2], [18337, 38572, 3964, 10647, 2], [18337, 808, 250144, 1690, 1096, 250112, 1690, 2], [18337, 6, 128462, 1022, 250218, 97, 2], [18337, 8633, 425, 104434, 425, 2], [18337, 915, 250165, 81, 113, 250187, 1022, 2], [18337, 915, 250220, 250149, 81, 2], [18337, 81, 250150, 250232, 1690, 2], [18337, 81, 250082, 97, 250205, 2], [18337, 29610, 250184, 1022, 2], [18337, 915, 250220, 6985, 334, 250094, 1022, 1238, 250218, 1022, 2], [18337, 915, 250165, 81, 501, 250165, 81, 2], [18337, 915, 250165, 81, 6, 250142, 81, 2], [18337, 6, 20264, 876, 250218, 472, 2], [18337, 24376, 177, 334, 6117, 334, 2], [18337, 61636, 250211, 81, 19962, 2], [18337, 1871, 169, 250118, 1022, 2], [18337, 4724, 141, 62129, 250118, 1022, 6, 250142, 81, 2], [18337, 1871, 169, 113, 250184, 1022, 1871, 169, 1871, 334, 2], [18337, 706, 250061, 1022, 6, 250181, 1690, 2], [18337, 250209, 12203, 425, 6, 250181, 1690, 2], [18337, 4724, 425, 250077, 1022, 2], [18337, 11819, 250165, 81, 11521, 250172, 1022, 2], [18337, 6, 18337, 250165, 13673, 3964, 1022, 250218, 97, 2], [18337, 15423, 141, 62129, 250199, 472, 250109, 2], [18337, 32342, 425, 30340, 425, 2], [18337, 1096, 250082, 2], [18337, 552, 425, 22788, 425, 2], [18337, 19584, 334, 1022, 250218, 97, 250117, 1690, 2], [18337, 501, 250197, 1690, 70144, 4097, 2], [18337, 250203, 75, 334, 2], [18337, 501, 250197, 1690, 250109, 2819, 808, 250222, 97, 250163, 1022, 2], [18337, 250203, 75, 334, 6, 250181, 1690, 2], [18337, 314, 783, 250191, 2], [18337, 314, 1418, 250113, 81, 2], [18337, 250222, 1690, 6, 250181, 1690, 2], [18337, 314, 783, 250215, 1022, 2], [18337, 1096, 250211, 250223, 81, 2], [18337, 314, 783, 2405, 2], [18337, 250200, 97, 49708, 92, 250235, 1022, 2], [18337, 18376, 84854, 92, 180049, 2], [18337, 8096, 250184, 1022, 10756, 334, 2], [18337, 1937, 53, 57679, 334, 2], [18337, 8096, 250184, 1022, 7547, 250184, 1022, 2], [18337, 1937, 141, 74, 400, 7, 2], [18337, 1022, 250218, 97, 250094, 1022, 2], [18337, 250228, 472, 4571, 250184, 1022, 2], [18337, 250181, 1690, 250232, 81, 250210, 1022, 2], [18337, 931, 425, 11819, 250176, 2], [18337, 250181, 1690, 6, 20133, 1418, 2], [18337, 347, 250145, 6, 250181, 1690, 2], [18337, 180049, 52856, 481, 2], [18337, 2296, 808, 250218, 472, 2], [18337, 234, 250134, 81, 19962, 2], [18337, 234, 250134, 81, 19962, 1871, 92, 250093, 472, 2], [18337, 96, 250165, 1022, 6, 250142, 81, 113, 250184, 1022, 250055, 2], [18337, 11521, 250176, 808, 250222, 2], [18337, 95641, 334, 404, 425, 95641, 334, 5675, 250165, 472, 2], [18337, 250181, 1690, 35907, 1108, 2], [18337, 250181, 1690, 9206, 19962, 2], [18337, 113, 250184, 1022, 1871, 169, 2], [18337, 11521, 11479, 425, 250064, 81, 2], [18337, 11521, 250176, 808, 250222, 2], [18337, 250142, 81, 250221, 1022, 2], [18337, 445, 250094, 81, 74, 6, 250142, 6, 250181, 1690, 2], [18337, 3005, 1463, 425, 808, 250222, 97, 2], [18337, 6, 128462, 91, 250218, 97, 61905, 250117, 1022, 250192, 1690, 2], [18337, 6, 128462, 1022, 250218, 97, 2], [18337, 5675, 250074, 250192, 1690, 2], [18337, 6, 128462, 1022, 250218, 97, 20735, 250079, 250237, 97, 250072, 1690, 2], [18337, 6, 128462, 1022, 250218, 97, 2], [18337, 61636, 28912, 2], [18337, 99697, 42, 2], [18337, 876, 250112, 1022, 2], [18337, 250189, 1022, 6, 128462, 1022, 250218, 97, 2], [18337, 20729, 250191, 2], [18337, 38137, 99697, 42, 2], [18337, 6, 16214, 4371, 876, 250112, 1022, 2], [18337, 250189, 1022, 6, 128462, 1022, 250218, 97, 20735, 2], [18337, 20729, 250191, 1647, 23366, 706, 250066, 1022, 2], [18337, 38137, 99697, 42, 250154, 97, 2], [18337, 6, 16214, 4371, 876, 250112, 1022, 21, 169, 2], [18337, 250189, 1022, 6, 128462, 1022, 250218, 97, 20735, 501, 250165, 2], [18337, 20729, 250191, 1647, 23366, 706, 250066, 1022, 12488, 2], [18337, 38137, 99697, 42, 250154, 97, 501, 250165, 2], [18337, 6, 16214, 4371, 876, 250112, 1022, 21, 169, 12488, 2], [18337, 1238, 23366, 42, 2], [18337, 29610, 250184, 1690, 2], [18337, 10968, 141, 2], [18337, 653, 13122, 2], [18337, 76542, 2], [18337, 3863, 250165, 81, 2], [18337, 6, 12591, 2], [18337, 400, 42, 2], [18337, 22788, 334, 2], [18337, 96, 379, 250076, 1690, 2], [18337, 250205, 250170, 17, 334, 6, 250160, 2], [18337, 445, 250195, 1690, 250229, 96, 2], [18337, 501, 250174, 1022, 113, 4371, 250169, 2], [18337, 91, 8467, 96, 379, 250076, 1690, 2], [18337, 915, 250106, 38137, 250204, 2], [18337, 915, 250236, 97, 20729, 113, 250165, 2], [18337, 250205, 20729, 250078, 958, 228, 169, 2], [18337, 445, 20729, 250137, 2], [18337, 445, 20729, 250078, 958, 2], [18337, 4307, 250066, 6, 16214, 4371, 9206, 42, 2], [18337, 808, 4900, 808, 250061, 97, 5848, 2], [18337, 6, 16214, 4371, 2], [18337, 11819, 42, 11479, 2], [18337, 501, 250205, 2], [18337, 6, 1648, 2], [18337, 30650, 449, 169, 2], [18337, 808, 250181, 234, 425, 2], [18337, 1959, 250220, 2], [18337, 1959, 250220, 250201, 91, 2], [18337, 1959, 250220, 250162, 1022, 2], [18337, 1959, 250220, 12488, 2], [18337, 1959, 250220, 6, 13122, 75, 2], [18337, 1959, 250220, 250090, 2], [18337, 250189, 1022, 2], [18337, 250189, 1022, 2430, 2], [18337, 250189, 1022, 250103, 2], [18337, 38137, 2], [18337, 38137, 250204, 2], [18337, 38137, 123866, 169, 2], [18337, 38137, 1096, 250074, 2], [18337, 38137, 876, 250228, 81, 2], [18337, 38137, 6, 250160, 2], [18337, 20729, 2], [18337, 20729, 250191, 2], [18337, 20729, 113, 250165, 2], [18337, 20729, 250078, 958, 2], [18337, 20729, 250137, 2], [18337, 228, 169, 2], [18337, 228, 169, 250138, 472, 250110, 234, 42, 2], [18337, 808, 250061, 97, 2], [18337, 8369, 250138, 2], [18337, 808, 250061, 97, 5848, 2], [18337, 8369, 169, 250055, 472, 2], [18337, 6, 16214, 4371, 2], [18337, 6, 16214, 4371, 9206, 42, 2], [18337, 6, 16214, 4371, 22788, 425, 2], [18337, 6, 16214, 4371, 808, 250106, 2], [18337, 6, 16214, 4371, 250169, 97, 2], [18337, 1238, 250205, 2], [18337, 1238, 250205, 8096, 250165, 1022, 2], [18337, 1238, 250205, 9206, 42, 2], [18337, 61636, 250165, 2], [18337, 61636, 250165, 250170, 5718, 2], [18337, 61636, 250165, 250054, 97, 2], [18337, 3863, 250220, 2], [18337, 3863, 250220, 348, 42, 2], [18337, 808, 250222, 1022, 2], [18337, 808, 250222, 1022, 348, 42, 2], [18337, 6, 45676, 2], [18337, 6, 45676, 10006, 250082, 2], [18337, 250152, 1690, 2], [18337, 250205, 250055, 1690, 8743, 425, 2], [18337, 11819, 42, 11479, 2], [18337, 11819, 42, 11479, 250062, 1690, 2], [18337, 314, 2], [18337, 314, 250054, 97, 2], [18337, 314, 250170, 5718, 2], [18337, 10006, 250083, 2], [18337, 501, 250066, 1022, 250122, 250197, 1690, 2], [18337, 6, 16214, 4371, 250170, 5718, 2], [18337, 1647, 44473, 425, 250079, 2], [18337, 876, 250165, 1022, 2], [18337, 831, 177, 169, 5587, 7, 2], [18337, 6, 660, 11479, 141, 2], [18337, 6, 660, 11479, 141, 250243, 2], [18337, 1238, 23366, 169, 2], [18337, 250152, 250057, 97, 23823, 2], [18337, 876, 250165, 1022, 2], [18337, 876, 250165, 1022, 36382, 425, 808, 250073, 2], [18337, 876, 250165, 1022, 311, 1418, 2], [18337, 1238, 250230, 2], [18337, 1238, 250230, 250062, 1690, 2], [18337, 250152, 2], [18337, 250152, 250057, 97, 23823, 2], [18337, 1238, 250205, 2], [18337, 1238, 250205, 12203, 344, 2], [18337, 1238, 250205, 9206, 42, 2], [18337, 10006, 250083, 250062, 1690, 250156, 96, 2], [18337, 10006, 250083, 1959, 147, 2], [18337, 808, 250181, 234, 2], [18337, 808, 250181, 234, 250229, 96, 2], [18337, 80, 449, 334, 2], [18337, 80, 449, 334, 250136, 91, 2], [18337, 6, 99064, 425, 2], [18337, 6, 99064, 425, 250067, 2], [18337, 6, 99064, 425, 250076, 1690, 2], [18337, 6, 99064, 425, 1647, 23366, 2], [18337, 10968, 141, 6, 250231, 97, 2], [18337, 1774, 11016, 2], [18337, 915, 250106, 250071, 96, 808, 250165, 1022, 2], [18337, 808, 250181, 234, 425, 2], [18337, 3480, 2], [18337, 808, 250181, 234, 425, 10006, 250082, 2], [18337, 3863, 250220, 2], [18337, 3863, 250220, 250102, 2], [18337, 3863, 250220, 348, 42, 2], [18337, 3480, 3514, 4084, 2], [18337, 250205, 6, 28944, 169, 250089, 97, 915, 250245, 2], [18337, 5848, 2], [18337, 6, 107849, 1081, 1255, 5848, 2], [18337, 1119, 250184, 1022, 2], [18337, 1119, 250184, 1022, 808, 250106, 2], [18337, 97, 250184, 81, 250086, 250208, 2], [18337, 915, 250184, 1690, 2], [18337, 915, 250184, 1690, 250072, 1690, 2], [18337, 5675, 250184, 81, 2], [18337, 5675, 250184, 81, 250100, 653, 2], [18337, 1937, 334, 1238, 11479, 425, 2], [18337, 1937, 334, 1238, 11479, 425, 501, 250065, 1690, 2], [18337, 6456, 250197, 96, 2], [18337, 6456, 250197, 96, 250102, 2], [18337, 1647, 44473, 141, 2], [18337, 1647, 44473, 250204, 2], [18337, 6, 660, 250207, 2], [18337, 6, 660, 250207, 250229, 96, 2], [18337, 11521, 11479, 169, 2], [18337, 11521, 11479, 169, 6, 250160, 2], [18337, 76542, 104434, 425, 2], [18337, 501, 250174, 97, 2], [18337, 501, 250174, 97, 250162, 1690, 2], [18337, 915, 250197, 97, 2], [18337, 250205, 250167, 97, 250102, 876, 250236, 81, 2], [18337, 1119, 4371, 2], [18337, 250205, 250239, 17, 334, 347, 250152, 97, 2], [18337, 3480, 2], [18337, 400, 42, 2], [18337, 400, 42, 501, 250065, 1690, 2], [18337, 1871, 42, 2], [18337, 1871, 42, 501, 250065, 1690, 2], [18337, 29610, 250205, 2], [18337, 29610, 250205, 501, 250065, 1690, 2], [18337, 501, 250148, 2], [18337, 250205, 250079, 250057, 97, 23823, 2], [18337, 808, 250171, 1690, 2], [18337, 808, 250171, 1690, 501, 250065, 1690, 2], [18337, 808, 250171, 1690, 104434, 425, 2], [18337, 808, 425, 250165, 91, 2], [18337, 808, 425, 250165, 91, 83319, 250072, 1690, 2], [18337, 79, 7, 250097, 2], [18337, 445, 2], [18337, 250205, 2], [18337, 915, 250106, 2], [18337, 915, 250236, 97, 2], [18337, 808, 4900, 2], [18337, 9709, 250069, 91, 250102, 250140, 9709, 1053, 425, 6, 250236, 96, 250072, 81, 6, 250236, 1022, 501, 250066, 1022, 2], [18337, 2430, 250212, 91, 250234, 91, 250097, 25592, 250201, 96, 3514, 4084, 38137, 6, 12591, 250087, 2], [18337, 808, 38308, 4797, 169, 6, 250197, 250055, 250191, 20735, 250140, 38137, 41735, 2], [18337, 1053, 425, 6, 250236, 96, 10647, 38137, 250201, 81, 6, 128462, 96, 202, 250183, 97, 808, 4900, 2], [18337, 9709, 250103, 6, 250236, 96, 250120, 36382, 425, 2], [18337, 38137, 250210, 472, 250175, 97, 250055, 38137, 250075, 91, 2], [18337, 9709, 250062, 1690, 250234, 1690, 6, 250197, 250055, 445, 20729, 250191, 20735, 2], [18337, 653, 11479, 141, 250224, 20729, 250170, 17, 334, 250229, 91, 2], [18337, 250159, 91, 2638, 169, 250125, 10, 425, 151, 434, 449, 250140, 2430, 250062, 1690, 2], [18337, 501, 250174, 97, 58809, 12488, 472, 250197, 472, 38137, 250226, 250083, 250140, 250127, 1022, 97, 11479, 141, 400, 250234, 91, 2], [18337, 2430, 250168, 472, 250234, 91, 6, 250205, 20729, 250062, 1690, 250240, 97, 2], [18337, 250144, 250072, 1690, 4307, 250220, 96, 202, 250191, 2], [18337, 2638, 169, 445, 250153, 97, 250241, 6, 29161, 250140, 653, 11479, 141, 2], [18337, 2638, 169, 250140, 653, 11479, 141, 445, 250153, 97, 250072, 1690, 2], [18337, 347, 250197, 97, 250140, 9709, 6, 250205, 38137, 311, 1418, 2], [18337, 347, 250197, 97, 6, 250205, 38137, 311, 1418, 250140, 9709, 2], [18337, 808, 38308, 250201, 96, 445, 5675, 250165, 81, 1927, 141, 113, 250205, 250140, 250234, 91, 2], [18337, 20729, 250113, 1690, 250224, 97, 24, 250201, 1022, 915, 250106, 1871, 169, 2], [18337, 250171, 1690, 6, 250236, 1022, 501, 250066, 97, 250091, 81, 250123, 1690, 250102, 2], [18337, 123866, 169, 250153, 81, 113, 250184, 1022, 250156, 91, 2], [18337, 9709, 4797, 169, 113, 250184, 1022, 250188, 91, 501, 250068, 250123, 1022, 2], [18337, 12203, 250205, 12488, 250201, 1022, 6, 250205, 38137, 2430, 6, 250160, 2], [18337, 1053, 425, 501, 250165, 4797, 169, 113, 250184, 1022, 9709, 400, 6, 250189, 1022, 501, 250068, 10647, 250072, 1690, 2], [18337, 9709, 38137, 250226, 250083, 250244, 1690, 113, 250184, 1022, 38137, 250226, 250083, 1647, 23366, 706, 250066, 1022, 250154, 35118, 250129, 1690, 250192, 96, 2], [18337, 9709, 58809, 250201, 1022, 6, 35486, 38137, 250120, 97, 250136, 91, 2], [18337, 501, 250139, 250136, 81, 4797, 169, 250125, 10, 250153, 81, 113, 250184, 1022, 250120, 97, 250136, 91, 2], [18337, 501, 250107, 2], [18337, 2593, 2], [18337, 97, 250197, 97, 2], [18337, 1071, 334, 2], [18337, 501, 250107, 501, 250165, 1022, 250097, 4115, 147, 36382, 425, 2], [18337, 97, 250197, 97, 250234, 91, 250129, 472, 250123, 1022, 2], [18337, 915, 250197, 97, 81, 3326, 31206, 653, 11479, 141, 250120, 250120, 97, 250136, 91, 2], [18337, 808, 38308, 250212, 91, 250234, 91, 250201, 97, 250229, 96, 96, 202, 250191, 2], [18337, 250155, 96, 2], [18337, 11819, 528, 2], [18337, 96, 250150, 2], [18337, 1238, 250228, 1690, 2], [18337, 74185, 42, 2], [18337, 653, 37358, 2], [18337, 4452, 4470, 141, 2], [18337, 808, 250148, 2], [18337, 11819, 250171, 2], [18337, 96, 202, 2], [18337, 250155, 96, 2], [18337, 653, 37358, 250097, 2], [18337, 808, 250148, 250097, 2], [18337, 4452, 691, 141, 250097, 2], [18337, 808, 250073, 2], [18337, 1053, 425, 2], [18337, 1053, 425, 75084, 4895, 2], [18337, 250128, 97, 4084, 2], [18337, 2522, 2], [18337, 3005, 2], [18337, 110, 425, 2], [18337, 250197, 250138, 2], [18337, 653, 6213, 110, 425, 2], [18337, 5675, 250220, 250168, 1690, 2], [18337, 49708, 2], [18337, 6217, 2], [18337, 6217, 250141, 2], [18337, 915, 250107, 2], [18337, 915, 250106, 2], [18337, 81, 11479, 169, 1059, 169, 2], [18337, 3864, 2], [18337, 653, 250081, 81, 250227, 472, 2], [18337, 3864, 2], [18337, 1238, 250197, 472, 2], [18337, 808, 38308, 459, 169, 2], [18337, 653, 250203, 1022, 250084, 97, 2], [18337, 1119, 147, 1959, 250187, 1690, 2], [18337, 6, 84501, 808, 250065, 1022, 2], [18337, 120, 164, 18376, 2], [18337, 11819, 42, 250197, 97, 250078, 5718, 169, 2], [18337, 104580, 425, 2], [18337, 66784, 21, 425, 2], [18337, 1022, 1418, 250229, 2], [18337, 1022, 1418, 86619, 2], [18337, 347, 250107, 2], [18337, 876, 250187, 96, 2], [18337, 6, 2208, 250197, 1690, 2], [18337, 91, 250184, 1690, 2], [18337, 808, 250171, 81, 250090, 2], [18337, 3328, 250194, 1690, 2], [18337, 1096, 250220, 250169, 2], [18337, 6101, 85767, 2], [18337, 6117, 169, 13004, 2], [18337, 6117, 169, 2], [18337, 1096, 250083, 2], [18337, 13004, 4, 44171, 74706, 2], [18337, 80, 2], [18337, 915, 250134, 2], [18337, 9638, 2], [18337, 501, 250174, 97, 250196, 1022, 2], [18337, 915, 250082, 40681, 169, 2], [18337, 808, 250150, 2], [18337, 808, 250095, 1690, 2], [18337, 808, 250197, 2], [18337, 876, 250230, 6, 4, 250243, 91, 2], [18337, 4571, 334, 91, 250081, 97, 2], [18337, 808, 250081, 1022, 250126, 472, 2], [18337, 1608, 425, 2], [18337, 653, 26402, 92, 2], [18337, 6, 84501, 808, 250065, 1022, 2], [18337, 200, 169, 2], [18337, 1022, 250083, 2], [18337, 472, 250081, 472, 2], [18337, 653, 250231, 1690, 2], [18337, 47364, 334, 300, 2], [18337, 26486, 4, 16530, 2], [18337, 97, 250082, 2], [18337, 1238, 250197, 1022, 2], [18337, 97, 250066, 2], [18337, 5775, 169, 250229, 1690, 2], [18337, 7822, 250170, 250083, 2], [18337, 915, 250197, 97, 250227, 472, 2], [18337, 70272, 2], [18337, 6456, 250197, 97, 2], [18337, 250159, 91, 653, 250222, 1022, 2], [18337, 2638, 169, 2], [18337, 915, 250107, 2], [18337, 66784, 2], [18337, 27511, 2], [18337, 24915, 42, 7933, 169, 2], [18337, 26987, 1096, 250228, 472, 2], [18337, 250152, 97, 2], [18337, 808, 250068, 2], [18337, 250203, 1690, 4, 1238, 250081, 1022, 2], [18337, 915, 250066, 97, 2], [18337, 653, 250193, 1690, 250129, 2], [18337, 21250, 2], [18337, 9060, 2], [18337, 6, 51566, 2], [18337, 808, 250095, 472, 2], [18337, 25592, 2], [18337, 6, 184714, 2], [18337, 1096, 19, 250205, 6, 4, 250099, 250115, 2], [18337, 43678, 4, 250085, 1690, 2], [18337, 8096, 250187, 250141, 472, 2], [18337, 6, 17750, 4, 1647, 250197, 1022, 2], [18337, 876, 250197, 472, 2], [18337, 4452, 250197, 97, 12203, 691, 7, 2], [18337, 808, 38308, 2], [18337, 808, 250095, 97, 2], [18337, 915, 250189, 1690, 2], [18337, 915, 250236, 97, 2], [18337, 250060, 1690, 2], [18337, 653, 170, 250245, 2], [18337, 96, 250150, 6, 250160, 2], [18337, 60438, 2], [18337, 1690, 250116, 2], [18337, 472, 250184, 2], [18337, 653, 26679, 2], [18337, 110, 425, 1239, 2], [18337, 250152, 472, 2], [18337, 8633, 42, 4, 250104, 2], [18337, 6456, 250197, 1690, 250164, 1690, 2], [18337, 501, 250197, 187, 2], [18337, 6, 128488, 2], [18337, 1907, 2], [18337, 2405, 2], [18337, 6, 51566, 2], [18337, 6117, 425, 4, 250055, 1690, 2], [18337, 23237, 250131, 2], [18337, 45379, 1096, 250074, 2], [18337, 6456, 250107, 6, 4, 250113, 81, 2], [18337, 876, 250066, 250229, 472, 2], [18337, 14617, 425, 4, 250146, 81, 2], [18337, 4224, 2], [18337, 27511, 250198, 2], [18337, 99697, 2], [18337, 653, 250209, 96, 2], [18337, 472, 250065, 81, 2], [18337, 250231, 97, 250121, 250197, 97, 2], [18337, 96, 250211, 6, 4, 250135, 81, 2], [18337, 20729, 2], [18337, 808, 38308, 25592, 250173, 250211, 2], [18337, 250193, 6, 4, 250225, 1690, 2], [18337, 250197, 250141, 91, 2], [18337, 2405, 250173, 250211, 459, 425, 2], [18337, 2405, 472, 250174, 97, 2], [18337, 552, 425, 22788, 425, 2], [18337, 653, 250200, 97, 2], [18337, 501, 250203, 1022, 2], [18337, 3863, 691, 7, 2], [18337, 2126, 2], [18337, 11819, 27402, 7, 96, 250081, 1022, 2], [18337, 2126, 249, 425, 2], [18337, 6, 1127, 425, 16627, 2], [18337, 91, 250081, 97, 2], [18337, 808, 250095, 97, 2], [18337, 38137, 6, 49391, 2], [18337, 501, 250150, 2], [18337, 250095, 97, 250190, 2], [18337, 876, 250066, 91, 250081, 97, 2], [18337, 6, 6942, 334, 2], [18337, 81, 23366, 334, 2], [18337, 915, 250197, 1022, 6, 18124, 4371, 2], [18337, 501, 425, 685, 2], [18337, 6, 69782, 2], [18337, 808, 425, 250134, 6, 4, 75084, 250083, 2], [18337, 4307, 250150, 2], [18337, 808, 250197, 1690, 2], [18337, 1959, 250066, 97, 1649, 250162, 91, 2], [18337, 472, 250065, 472, 250158, 2], [18337, 501, 425, 250081, 1022, 250113, 97, 347, 250184, 81, 2], [18337, 2453, 425, 2], [18337, 79, 425, 250129, 472, 6, 250160, 2], [18337, 18233, 169, 6, 250236, 91, 2], [18337, 61636, 4895, 4, 15875, 2], [18337, 77973, 106211, 250170, 5718, 2], [18337, 20729, 19190, 2], [18337, 653, 64967, 2], [18337, 8096, 250211, 6, 4, 250099, 187, 2], [18337, 653, 250209, 2], [18337, 11819, 250174, 1690, 2], [18337, 808, 38308, 472, 250066, 97, 2], [18337, 4571, 4, 250221, 81, 2], [18337, 11819, 250081, 97, 2], [18337, 501, 250197, 2467, 92, 2], [18337, 6, 86999, 334, 2], [18337, 1022, 250116, 250173, 250211, 2], [18337, 11819, 250066, 1022, 250104, 6, 4, 472, 250068, 250120, 1690, 2], [18337, 6, 660, 250068, 2], [18337, 1658, 7, 4, 314, 169, 2], [18337, 11819, 250203, 2], [18337, 4452, 250107, 2], [18337, 4452, 250107, 91, 250081, 97, 2], [18337, 501, 250184, 1690, 2], [18337, 2405, 4, 250117, 1690, 2], [18337, 808, 425, 250134, 2], [18337, 250209, 472, 250229, 472, 2], [18337, 653, 170, 11479, 2], [18337, 472, 250116, 2], [18337, 808, 250172, 2], [18337, 49160, 334, 2], [18337, 1871, 425, 18233, 250204, 2], [18337, 113, 250145, 2], [18337, 5675, 250074, 6, 4, 4307, 250115, 6, 4, 5324, 2], [18337, 808, 425, 250134, 2], [18337, 808, 425, 250184, 81, 2], [18337, 653, 250115, 250164, 2], [18337, 808, 250174, 1022, 2], [18337, 808, 250107, 2], [18337, 501, 250193, 472, 2], [18337, 808, 250187, 2], [18337, 347, 250150, 75084, 4895, 2], [18337, 653, 250081, 81, 1053, 425, 2], [18337, 6, 20133, 1418, 2], [18337, 15875, 250090, 2], [18337, 11819, 42, 250197, 472, 250232, 97, 2], [18337, 97, 1418, 4, 75084, 4895, 2], [18337, 61636, 515, 2], [18337, 653, 250115, 2], [18337, 653, 250115, 96, 250081, 1022, 2], [18337, 653, 250115, 250164, 1690, 2], [18337, 47, 7, 2], [18337, 2638, 169, 2], [18337, 99697, 42, 2], [18337, 1096, 192, 4, 99697, 42, 62369, 2], [18337, 113, 250230, 6, 4, 250055, 81, 2], [18337, 1658, 2], [18337, 6, 2208, 250233, 6, 4, 250217, 250066, 2], [18337, 1022, 250074, 2], [18337, 8096, 250187, 2], [18337, 501, 250066, 96, 2], [18337, 250059, 97, 250146, 97, 2], [18337, 915, 250171, 472, 2], [18337, 81, 250145, 2], [18337, 25636, 2], [18337, 29610, 250211, 2], [18337, 151, 334, 4, 6, 250197, 78, 2], [18337, 95, 4371, 12865, 169, 2], [18337, 653, 170, 250083, 250201, 91, 2], [18337, 808, 38308, 250173, 250148, 2], [18337, 250128, 97, 4084, 2], [18337, 472, 250066, 97, 2], [18337, 61636, 250184, 1690, 117136, 2], [18337, 915, 250222, 81, 2], [18337, 8096, 250233, 2], [18337, 221, 2], [18337, 4307, 250145, 6, 4, 250217, 6, 11479, 2], [18337, 1871, 334, 2], [18337, 250228, 1690, 43678, 2], [18337, 915, 250106, 2], [18337, 314, 2], [18337, 61636, 250187, 97, 2], [18337, 314, 92, 400, 2], [18337, 706, 250197, 1022, 2], [18337, 29743, 250114, 472, 2], [18337, 8086, 42, 250219, 81, 2], [18337, 74185, 4, 74185, 250055, 2], [18337, 250095, 97, 250234, 91, 2], [18337, 11819, 516, 425, 2], [18337, 347, 250197, 1022, 2], [18337, 1185, 250100, 472, 2], [18337, 653, 250160, 6, 4, 250232, 91, 2], [18337, 250159, 91, 15, 250159, 81, 16, 2], [18337, 250159, 91, 41735, 2], [18337, 653, 170, 250081, 97, 250201, 91, 2], [18337, 250159, 91, 250167, 91, 2], [18337, 113, 250197, 1690, 2], [18337, 653, 250059, 472, 2], [18337, 79074, 2], [18337, 92247, 425, 2], [18337, 706, 250066, 1022, 92247, 169, 2], [18337, 1608, 425, 18233, 169, 2], [18337, 250209, 97, 4, 250104, 2], [18337, 653, 250160, 2], [18337, 1096, 21398, 4, 250084, 472, 4, 250125, 36, 2], [18337, 2993, 2], [18337, 12680, 4, 81, 250187, 91, 2], [18337, 228, 169, 2], [18337, 3864, 4, 250103, 6, 4, 1871, 169, 2], [18337, 4307, 250066, 97, 79074, 2], [18337, 808, 250233, 2], [18337, 4797, 169, 2], [18337, 250197, 250136, 97, 4, 18233, 169, 250087, 2], [18337, 501, 250187, 1690, 2], [18337, 24915, 42, 104580, 425, 2], [18337, 4181, 16058, 2], [18337, 808, 250187, 1690, 2], [18337, 96, 250107, 2], [18337, 290, 4084, 2], [18337, 250197, 113, 23366, 169, 2], [18337, 1119, 147, 1959, 250187, 1690, 2], [18337, 75084, 250197, 2], [18337, 653, 250209, 12203, 425, 2], [18337, 808, 38308, 2], [18337, 1647, 23366, 66784, 2], [18337, 808, 250134, 2], [18337, 653, 35486, 250098, 97, 2], [18337, 1774, 177, 169, 2], [18337, 876, 250228, 81, 2], [18337, 831, 177, 169, 79, 7, 2], [18337, 653, 13708, 2], [18337, 653, 184714, 2], [18337, 459, 2], [18337, 2430, 250067, 472, 2], [18337, 5848, 2], [18337, 653, 250081, 81, 20735, 2], [18337, 808, 250197, 97, 2], [18337, 1959, 250081, 2], [18337, 18233, 42, 2], [18337, 1690, 250083, 2], [18337, 3863, 250205, 250088, 81, 2], [18337, 6, 146271, 4, 459, 2], [18337, 250209, 12203, 425, 2], [18337, 706, 250066, 1022, 2], [18337, 60438, 2], [18337, 19584, 334, 2], [18337, 250209, 12203, 425, 250089, 81, 2], [18337, 1647, 44473, 425, 106, 2], [18337, 1647, 44473, 425, 116, 2], [18337, 1647, 44473, 425, 138, 2]], 'attention_mask': [[1, 1, 1, 1], [1, 1, 1], [1, 1, 1], [1, 1, 1], [1, 1, 1, 1], [1, 1, 1, 1], [1, 1, 1, 1], [1, 1, 1, 1], [1, 1, 1, 1, 1], [1, 1, 1], [1, 1, 1, 1], [1, 1, 1, 1, 1], [1, 1, 1, 1], [1, 1, 1, 1, 1, 1], [1, 1, 1, 1, 1, 1], [1, 1, 1, 1, 1, 1], [1, 1, 1, 1], [1, 1, 1, 1], [1, 1, 1, 1, 1], [1, 1, 1, 1], [1, 1, 1, 1, 1], [1, 1, 1, 1, 1, 1], [1, 1, 1, 1, 1, 1, 1], [1, 1, 1, 1, 1, 1, 1, 1], [1, 1, 1, 1, 1, 1, 1], [1, 1, 1, 1, 1, 1, 1, 1], [1, 1, 1, 1, 1, 1, 1, 1, 1], [1, 1, 1, 1, 1, 1], [1, 1, 1, 1], [1, 1, 1, 1, 1], [1, 1, 1, 1, 1], [1, 1, 1, 1], [1, 1, 1, 1], [1, 1, 1, 1, 1, 1], [1, 1, 1, 1, 1], [1, 1, 1, 1, 1, 1], [1, 1, 1, 1], [1, 1, 1, 1], [1, 1, 1, 1], [1, 1, 1, 1], [1, 1, 1, 1, 1], [1, 1, 1, 1, 1], [1, 1, 1, 1, 1, 1, 1], [1, 1, 1, 1], [1, 1, 1, 1], [1, 1, 1, 1], [1, 1, 1, 1], [1, 1, 1], [1, 1, 1, 1, 1], [1, 1, 1, 1, 1, 1], [1, 1, 1, 1, 1], [1, 1, 1, 1], [1, 1, 1, 1, 1], [1, 1, 1, 1, 1], [1, 1, 1, 1, 1], [1, 1, 1], [1, 1, 1, 1, 1], [1, 1, 1, 1], [1, 1, 1, 1], [1, 1, 1, 1], [1, 1, 1, 1], [1, 1, 1, 1, 1, 1], [1, 1, 1, 1, 1], [1, 1, 1, 1], [1, 1, 1], [1, 1, 1], [1, 1, 1, 1], [1, 1, 1, 1], [1, 1, 1, 1], [1, 1, 1, 1], [1, 1, 1, 1], [1, 1, 1, 1, 1, 1], [1, 1, 1], [1, 1, 1, 1, 1, 1, 1], [1, 1, 1, 1, 1, 1], [1, 1, 1, 1, 1, 1, 1], [1, 1, 1, 1], [1, 1, 1, 1], [1, 1, 1, 1, 1, 1], [1, 1, 1, 1], [1, 1, 1, 1, 1, 1, 1], [1, 1, 1, 1, 1], [1, 1, 1, 1, 1], [1, 1, 1, 1], [1, 1, 1, 1, 1, 1], [1, 1, 1, 1, 1, 1], [1, 1, 1, 1, 1, 1, 1], [1, 1, 1, 1, 1, 1, 1], [1, 1, 1, 1, 1, 1, 1], [1, 1, 1, 1, 1, 1, 1], [1, 1, 1], [1, 1, 1, 1, 1], [1, 1, 1], [1, 1, 1, 1], [1, 1, 1], [1, 1, 1, 1, 1, 1, 1, 1, 1, 1], [1, 1, 1, 1, 1, 1, 1, 1, 1], [1, 1, 1, 1, 1, 1, 1, 1], [1, 1, 1, 1, 1, 1, 1], [1, 1, 1, 1, 1, 1, 1, 1, 1], [1, 1, 1, 1, 1, 1, 1], [1, 1, 1, 1, 1, 1], [1, 1, 1, 1, 1, 1, 1, 1], [1, 1, 1, 1, 1], [1, 1, 1, 1, 1, 1, 1, 1], [1, 1, 1, 1, 1, 1, 1, 1], [1, 1, 1, 1, 1, 1], [1, 1, 1, 1], [1, 1, 1, 1, 1, 1, 1, 1, 1, 1, 1], [1, 1, 1], [1, 1, 1, 1], [1, 1, 1, 1, 1], [1, 1, 1, 1, 1], [1, 1, 1, 1, 1, 1, 1], [1, 1, 1, 1, 1, 1], [1, 1, 1, 1, 1, 1, 1], [1, 1, 1, 1, 1], [1, 1, 1, 1, 1, 1], [1, 1, 1, 1, 1, 1, 1, 1, 1], [1, 1, 1, 1, 1, 1, 1, 1, 1, 1, 1, 1, 1], [1, 1, 1, 1], [1, 1, 1, 1, 1, 1], [1, 1, 1, 1, 1, 1, 1, 1, 1, 1, 1, 1, 1, 1], [1, 1, 1, 1], [1, 1, 1, 1, 1, 1, 1, 1, 1], [1, 1, 1, 1, 1, 1, 1, 1, 1, 1, 1, 1, 1], [1, 1, 1, 1], [1, 1, 1, 1, 1, 1, 1, 1, 1, 1, 1, 1, 1, 1, 1, 1, 1, 1], [1, 1, 1, 1, 1, 1, 1, 1, 1, 1, 1, 1], [1, 1, 1, 1, 1], [1, 1, 1, 1, 1, 1, 1, 1], [1, 1, 1, 1], [1, 1, 1, 1, 1, 1, 1, 1, 1, 1], [1, 1, 1], [1, 1, 1, 1, 1, 1, 1, 1, 1, 1, 1], [1, 1, 1, 1, 1, 1, 1], [1, 1, 1, 1, 1, 1, 1, 1, 1], [1, 1, 1, 1, 1, 1], [1, 1, 1, 1, 1, 1, 1, 1, 1, 1, 1, 1, 1, 1, 1], [1, 1, 1, 1, 1, 1, 1], [1, 1, 1, 1, 1, 1, 1, 1, 1, 1, 1, 1, 1, 1, 1, 1], [1, 1, 1], [1, 1, 1, 1, 1, 1, 1, 1, 1, 1, 1, 1, 1, 1, 1, 1, 1, 1, 1, 1, 1, 1], [1, 1, 1, 1, 1, 1, 1, 1, 1, 1, 1, 1], [1, 1, 1, 1], [1, 1, 1, 1, 1, 1, 1, 1, 1, 1, 1, 1, 1, 1, 1, 1], [1, 1, 1], [1, 1, 1, 1, 1, 1, 1, 1, 1, 1, 1, 1, 1], [1, 1, 1, 1, 1, 1, 1, 1, 1, 1, 1, 1, 1, 1, 1, 1, 1, 1, 1, 1], [1, 1, 1, 1, 1], [1, 1, 1, 1], [1, 1, 1, 1, 1, 1], [1, 1, 1, 1, 1], [1, 1, 1, 1, 1], [1, 1, 1, 1], [1, 1, 1, 1], [1, 1, 1, 1], [1, 1, 1, 1, 1], [1, 1, 1, 1, 1, 1, 1, 1, 1], [1, 1, 1, 1], [1, 1, 1, 1, 1, 1, 1, 1], [1, 1, 1], [1, 1, 1, 1], [1, 1, 1, 1], [1, 1, 1, 1, 1], [1, 1, 1, 1], [1, 1, 1, 1], [1, 1, 1, 1], [1, 1, 1, 1, 1], [1, 1, 1, 1], [1, 1, 1, 1, 1], [1, 1, 1, 1], [1, 1, 1, 1, 1], [1, 1, 1, 1, 1, 1, 1], [1, 1, 1, 1, 1], [1, 1, 1, 1, 1, 1, 1, 1], [1, 1, 1, 1, 1, 1, 1], [1, 1, 1, 1, 1, 1], [1, 1, 1, 1, 1, 1, 1, 1], [1, 1, 1, 1, 1, 1], [1, 1, 1, 1, 1, 1], [1, 1, 1, 1, 1, 1], [1, 1, 1, 1, 1], [1, 1, 1, 1, 1, 1, 1, 1, 1, 1, 1], [1, 1, 1, 1, 1, 1, 1, 1], [1, 1, 1, 1, 1, 1, 1, 1], [1, 1, 1, 1, 1, 1, 1], [1, 1, 1, 1, 1, 1, 1], [1, 1, 1, 1, 1, 1], [1, 1, 1, 1, 1, 1], [1, 1, 1, 1, 1, 1, 1, 1, 1, 1], [1, 1, 1, 1, 1, 1, 1, 1, 1, 1, 1], [1, 1, 1, 1, 1, 1, 1, 1], [1, 1, 1, 1, 1, 1, 1, 1], [1, 1, 1, 1, 1, 1], [1, 1, 1, 1, 1, 1, 1, 1], [1, 1, 1, 1, 1, 1, 1, 1, 1, 1], [1, 1, 1, 1, 1, 1, 1, 1], [1, 1, 1, 1, 1, 1], [1, 1, 1, 1], [1, 1, 1, 1, 1, 1], [1, 1, 1, 1, 1, 1, 1, 1, 1], [1, 1, 1, 1, 1, 1, 1], [1, 1, 1, 1, 1], [1, 1, 1, 1, 1, 1, 1, 1, 1, 1, 1, 1], [1, 1, 1, 1, 1, 1, 1, 1], [1, 1, 1, 1, 1], [1, 1, 1, 1, 1, 1], [1, 1, 1, 1, 1, 1, 1], [1, 1, 1, 1, 1, 1], [1, 1, 1, 1, 1, 1], [1, 1, 1, 1, 1], [1, 1, 1, 1, 1, 1, 1, 1], [1, 1, 1, 1, 1, 1], [1, 1, 1, 1, 1, 1, 1], [1, 1, 1, 1, 1, 1], [1, 1, 1, 1, 1, 1, 1, 1], [1, 1, 1, 1, 1, 1, 1], [1, 1, 1, 1, 1, 1, 1], [1, 1, 1, 1, 1, 1, 1], [1, 1, 1, 1, 1, 1, 1, 1], [1, 1, 1, 1, 1, 1], [1, 1, 1, 1, 1, 1, 1], [1, 1, 1, 1, 1, 1, 1], [1, 1, 1, 1, 1], [1, 1, 1, 1, 1, 1], [1, 1, 1, 1, 1, 1], [1, 1, 1, 1, 1, 1, 1, 1, 1, 1], [1, 1, 1, 1, 1, 1, 1, 1, 1, 1, 1, 1], [1, 1, 1, 1, 1, 1], [1, 1, 1, 1, 1, 1, 1, 1, 1, 1, 1], [1, 1, 1, 1, 1, 1], [1, 1, 1, 1, 1, 1], [1, 1, 1, 1, 1, 1, 1], [1, 1, 1, 1, 1, 1, 1], [1, 1, 1, 1, 1, 1], [1, 1, 1, 1, 1, 1], [1, 1, 1, 1, 1, 1, 1, 1, 1, 1, 1], [1, 1, 1, 1, 1, 1, 1, 1], [1, 1, 1, 1, 1, 1, 1, 1, 1, 1, 1, 1], [1, 1, 1, 1, 1, 1, 1], [1, 1, 1, 1, 1, 1], [1, 1, 1, 1, 1, 1, 1, 1, 1, 1, 1, 1, 1], [1, 1, 1, 1, 1, 1, 1], [1, 1, 1, 1], [1, 1, 1, 1], [1, 1, 1, 1, 1], [1, 1, 1, 1, 1, 1, 1, 1, 1], [1, 1, 1, 1], [1, 1, 1, 1, 1], [1, 1, 1, 1, 1, 1, 1, 1], [1, 1, 1, 1, 1, 1, 1, 1, 1, 1], [1, 1, 1, 1, 1, 1, 1, 1, 1], [1, 1, 1, 1, 1, 1, 1], [1, 1, 1, 1, 1, 1, 1, 1, 1, 1], [1, 1, 1, 1, 1, 1, 1, 1, 1, 1, 1, 1], [1, 1, 1, 1, 1, 1, 1, 1, 1, 1], [1, 1, 1, 1, 1, 1, 1, 1, 1], [1, 1, 1, 1, 1, 1, 1, 1, 1, 1, 1], [1, 1, 1, 1, 1], [1, 1, 1, 1, 1], [1, 1, 1, 1], [1, 1, 1, 1], [1, 1, 1], [1, 1, 1, 1, 1], [1, 1, 1, 1], [1, 1, 1, 1], [1, 1, 1, 1], [1, 1, 1, 1, 1, 1], [1, 1, 1, 1, 1, 1, 1, 1], [1, 1, 1, 1, 1, 1, 1], [1, 1, 1, 1, 1, 1, 1, 1], [1, 1, 1, 1, 1, 1, 1, 1], [1, 1, 1, 1, 1, 1], [1, 1, 1, 1, 1, 1, 1, 1], [1, 1, 1, 1, 1, 1, 1, 1], [1, 1, 1, 1, 1], [1, 1, 1, 1, 1, 1], [1, 1, 1, 1, 1, 1, 1, 1, 1], [1, 1, 1, 1, 1, 1, 1, 1], [1, 1, 1, 1, 1], [1, 1, 1, 1, 1], [1, 1, 1, 1], [1, 1, 1, 1], [1, 1, 1, 1, 1], [1, 1, 1, 1, 1, 1], [1, 1, 1, 1], [1, 1, 1, 1, 1, 1], [1, 1, 1, 1, 1, 1], [1, 1, 1, 1, 1], [1, 1, 1, 1, 1, 1, 1], [1, 1, 1, 1, 1], [1, 1, 1, 1], [1, 1, 1, 1, 1], [1, 1, 1, 1, 1], [1, 1, 1], [1, 1, 1, 1], [1, 1, 1, 1, 1], [1, 1, 1, 1, 1], [1, 1, 1, 1, 1, 1], [1, 1, 1, 1, 1], [1, 1, 1], [1, 1, 1, 1], [1, 1, 1, 1, 1], [1, 1, 1, 1, 1], [1, 1, 1, 1], [1, 1, 1, 1], [1, 1, 1, 1, 1, 1, 1, 1, 1], [1, 1, 1, 1, 1], [1, 1, 1, 1], [1, 1, 1, 1, 1, 1], [1, 1, 1, 1, 1, 1], [1, 1, 1, 1, 1], [1, 1, 1, 1, 1, 1, 1], [1, 1, 1, 1, 1, 1, 1], [1, 1, 1, 1, 1, 1, 1], [1, 1, 1, 1, 1, 1, 1], [1, 1, 1, 1], [1, 1, 1, 1, 1, 1, 1], [1, 1, 1, 1, 1, 1], [1, 1, 1, 1], [1, 1, 1, 1, 1, 1], [1, 1, 1, 1, 1, 1], [1, 1, 1, 1], [1, 1, 1, 1, 1, 1], [1, 1, 1, 1, 1], [1, 1, 1, 1, 1, 1, 1], [1, 1, 1, 1], [1, 1, 1, 1, 1, 1], [1, 1, 1, 1], [1, 1, 1, 1, 1, 1, 1], [1, 1, 1, 1, 1], [1, 1, 1, 1, 1, 1, 1], [1, 1, 1], [1, 1, 1, 1, 1], [1, 1, 1, 1, 1], [1, 1, 1, 1], [1, 1, 1, 1, 1, 1, 1, 1], [1, 1, 1, 1, 1, 1, 1], [1, 1, 1, 1, 1, 1], [1, 1, 1, 1, 1], [1, 1, 1, 1, 1, 1, 1], [1, 1, 1, 1, 1, 1], [1, 1, 1, 1, 1, 1, 1], [1, 1, 1, 1, 1], [1, 1, 1, 1, 1, 1], [1, 1, 1, 1, 1], [1, 1, 1, 1, 1, 1, 1, 1, 1], [1, 1, 1, 1, 1, 1, 1], [1, 1, 1, 1], [1, 1, 1, 1, 1, 1], [1, 1, 1], [1, 1, 1, 1, 1, 1], [1, 1, 1, 1], [1, 1, 1, 1, 1, 1], [1, 1, 1, 1, 1, 1], [1, 1, 1, 1, 1, 1, 1, 1], [1, 1, 1, 1, 1, 1], [1, 1, 1, 1, 1], [1, 1, 1, 1, 1, 1, 1], [1, 1, 1, 1, 1], [1, 1, 1, 1, 1, 1, 1], [1, 1, 1, 1, 1], [1, 1, 1, 1, 1, 1], [1, 1, 1, 1, 1, 1, 1], [1, 1, 1, 1, 1, 1, 1], [1, 1, 1, 1, 1, 1, 1], [1, 1, 1, 1], [1, 1, 1, 1, 1, 1, 1, 1, 1], [1, 1, 1, 1, 1, 1], [1, 1, 1], [1, 1, 1, 1, 1, 1, 1, 1], [1, 1, 1, 1], [1, 1, 1, 1, 1], [1, 1, 1, 1, 1, 1], [1, 1, 1, 1, 1], [1, 1, 1, 1, 1, 1, 1, 1, 1, 1], [1, 1, 1], [1, 1, 1, 1, 1, 1, 1], [1, 1, 1, 1, 1], [1, 1, 1, 1, 1, 1, 1], [1, 1, 1, 1, 1, 1, 1], [1, 1, 1, 1, 1], [1, 1, 1, 1, 1, 1, 1], [1, 1, 1, 1, 1], [1, 1, 1, 1, 1, 1, 1], [1, 1, 1, 1, 1, 1, 1], [1, 1, 1, 1, 1, 1, 1, 1, 1, 1], [1, 1, 1, 1, 1], [1, 1, 1, 1, 1, 1], [1, 1, 1, 1, 1], [1, 1, 1, 1, 1], [1, 1, 1, 1, 1], [1, 1, 1, 1, 1, 1, 1], [1, 1, 1, 1, 1], [1, 1, 1, 1, 1, 1, 1], [1, 1, 1, 1, 1], [1, 1, 1, 1, 1], [1, 1, 1, 1, 1, 1, 1], [1, 1, 1, 1, 1], [1, 1, 1, 1, 1, 1, 1, 1, 1], [1, 1, 1, 1], [1, 1, 1, 1, 1, 1, 1, 1, 1], [1, 1, 1], [1, 1, 1, 1], [1, 1, 1, 1, 1, 1, 1], [1, 1, 1, 1], [1, 1, 1, 1, 1, 1, 1], [1, 1, 1, 1], [1, 1, 1, 1, 1, 1, 1], [1, 1, 1, 1], [1, 1, 1, 1, 1, 1, 1], [1, 1, 1, 1, 1], [1, 1, 1, 1, 1, 1, 1, 1], [1, 1, 1, 1, 1, 1, 1], [1, 1, 1, 1, 1, 1], [1, 1, 1, 1, 1, 1, 1, 1, 1], [1, 1, 1, 1, 1], [1, 1, 1], [1, 1, 1], [1, 1, 1, 1], [1, 1, 1, 1, 1], [1, 1, 1, 1], [1, 1, 1, 1, 1, 1, 1, 1, 1, 1, 1, 1, 1, 1, 1, 1, 1, 1, 1, 1, 1], [1, 1, 1, 1, 1, 1, 1, 1, 1, 1, 1, 1, 1, 1, 1, 1, 1], [1, 1, 1, 1, 1, 1, 1, 1, 1, 1, 1, 1, 1, 1], [1, 1, 1, 1, 1, 1, 1, 1, 1, 1, 1, 1, 1, 1, 1, 1, 1, 1, 1], [1, 1, 1, 1, 1, 1, 1, 1, 1, 1], [1, 1, 1, 1, 1, 1, 1, 1, 1, 1, 1], [1, 1, 1, 1, 1, 1, 1, 1, 1, 1, 1, 1, 1, 1], [1, 1, 1, 1, 1, 1, 1, 1, 1, 1, 1, 1], [1, 1, 1, 1, 1, 1, 1, 1, 1, 1, 1, 1, 1, 1, 1, 1], [1, 1, 1, 1, 1, 1, 1, 1, 1, 1, 1, 1, 1, 1, 1, 1, 1, 1, 1, 1, 1, 1], [1, 1, 1, 1, 1, 1, 1, 1, 1, 1, 1, 1, 1, 1], [1, 1, 1, 1, 1, 1, 1, 1, 1, 1], [1, 1, 1, 1, 1, 1, 1, 1, 1, 1, 1, 1, 1, 1], [1, 1, 1, 1, 1, 1, 1, 1, 1, 1, 1, 1, 1], [1, 1, 1, 1, 1, 1, 1, 1, 1, 1, 1, 1], [1, 1, 1, 1, 1, 1, 1, 1, 1, 1, 1, 1], [1, 1, 1, 1, 1, 1, 1, 1, 1, 1, 1, 1, 1, 1, 1, 1, 1], [1, 1, 1, 1, 1, 1, 1, 1, 1, 1, 1, 1, 1, 1], [1, 1, 1, 1, 1, 1, 1, 1, 1, 1, 1, 1, 1, 1, 1], [1, 1, 1, 1, 1, 1, 1, 1, 1, 1, 1], [1, 1, 1, 1, 1, 1, 1, 1, 1, 1, 1, 1, 1, 1], [1, 1, 1, 1, 1, 1, 1, 1, 1, 1, 1, 1, 1], [1, 1, 1, 1, 1, 1, 1, 1, 1, 1, 1, 1, 1, 1, 1, 1, 1, 1, 1, 1, 1], [1, 1, 1, 1, 1, 1, 1, 1, 1, 1, 1, 1, 1, 1, 1, 1, 1, 1, 1, 1, 1, 1, 1, 1, 1], [1, 1, 1, 1, 1, 1, 1, 1, 1, 1, 1, 1, 1], [1, 1, 1, 1, 1, 1, 1, 1, 1, 1, 1, 1, 1, 1, 1, 1, 1, 1, 1], [1, 1, 1, 1], [1, 1, 1], [1, 1, 1, 1, 1], [1, 1, 1, 1], [1, 1, 1, 1, 1, 1, 1, 1, 1, 1, 1, 1], [1, 1, 1, 1, 1, 1, 1, 1, 1, 1, 1], [1, 1, 1, 1, 1, 1, 1, 1, 1, 1, 1, 1, 1, 1, 1, 1], [1, 1, 1, 1, 1, 1, 1, 1, 1, 1, 1, 1, 1, 1, 1], [1, 1, 1, 1], [1, 1, 1, 1], [1, 1, 1, 1], [1, 1, 1, 1, 1], [1, 1, 1, 1], [1, 1, 1, 1], [1, 1, 1, 1, 1], [1, 1, 1, 1], [1, 1, 1, 1], [1, 1, 1, 1], [1, 1, 1, 1], [1, 1, 1, 1, 1], [1, 1, 1, 1, 1], [1, 1, 1, 1, 1, 1], [1, 1, 1, 1], [1, 1, 1, 1], [1, 1, 1, 1, 1, 1], [1, 1, 1, 1, 1], [1, 1, 1], [1, 1, 1], [1, 1, 1, 1], [1, 1, 1, 1], [1, 1, 1, 1, 1, 1], [1, 1, 1, 1, 1, 1], [1, 1, 1], [1, 1, 1], [1, 1, 1, 1], [1, 1, 1, 1], [1, 1, 1, 1], [1, 1, 1, 1, 1, 1, 1], [1, 1, 1], [1, 1, 1, 1, 1, 1, 1], [1, 1, 1], [1, 1, 1, 1, 1], [1, 1, 1, 1, 1, 1], [1, 1, 1, 1, 1, 1, 1], [1, 1, 1, 1, 1, 1, 1], [1, 1, 1, 1, 1, 1, 1], [1, 1, 1, 1, 1], [1, 1, 1, 1, 1, 1, 1, 1, 1], [1, 1, 1, 1], [1, 1, 1, 1, 1], [1, 1, 1, 1, 1], [1, 1, 1, 1, 1], [1, 1, 1, 1], [1, 1, 1, 1, 1], [1, 1, 1, 1, 1, 1], [1, 1, 1, 1, 1], [1, 1, 1, 1, 1, 1], [1, 1, 1, 1, 1], [1, 1, 1, 1, 1], [1, 1, 1, 1], [1, 1, 1, 1, 1], [1, 1, 1, 1], [1, 1, 1, 1], [1, 1, 1, 1, 1, 1], [1, 1, 1], [1, 1, 1, 1], [1, 1, 1], [1, 1, 1, 1, 1, 1, 1], [1, 1, 1, 1, 1, 1], [1, 1, 1, 1], [1, 1, 1, 1, 1], [1, 1, 1, 1], [1, 1, 1, 1, 1, 1, 1, 1], [1, 1, 1, 1, 1, 1, 1], [1, 1, 1, 1, 1, 1, 1], [1, 1, 1, 1], [1, 1, 1, 1, 1], [1, 1, 1, 1, 1, 1, 1], [1, 1, 1, 1], [1, 1, 1, 1], [1, 1, 1, 1, 1], [1, 1, 1, 1, 1], [1, 1, 1, 1, 1], [1, 1, 1, 1, 1], [1, 1, 1, 1], [1, 1, 1, 1, 1], [1, 1, 1, 1], [1, 1, 1, 1, 1, 1], [1, 1, 1, 1, 1], [1, 1, 1, 1, 1, 1, 1], [1, 1, 1], [1, 1, 1, 1, 1], [1, 1, 1, 1, 1, 1, 1], [1, 1, 1, 1], [1, 1, 1, 1], [1, 1, 1], [1, 1, 1], [1, 1, 1, 1, 1, 1], [1, 1, 1, 1, 1, 1], [1, 1, 1, 1], [1, 1, 1, 1], [1, 1, 1, 1, 1, 1, 1, 1], [1, 1, 1, 1, 1], [1, 1, 1, 1, 1, 1], [1, 1, 1], [1, 1, 1], [1, 1, 1, 1], [1, 1, 1, 1, 1], [1, 1, 1], [1, 1, 1, 1], [1, 1, 1, 1, 1, 1, 1, 1, 1], [1, 1, 1, 1, 1, 1], [1, 1, 1, 1, 1, 1], [1, 1, 1, 1, 1, 1, 1, 1], [1, 1, 1, 1, 1], [1, 1, 1, 1, 1, 1, 1, 1], [1, 1, 1, 1], [1, 1, 1, 1, 1], [1, 1, 1, 1, 1], [1, 1, 1, 1, 1], [1, 1, 1, 1], [1, 1, 1, 1, 1], [1, 1, 1, 1, 1, 1], [1, 1, 1], [1, 1, 1, 1], [1, 1, 1, 1], [1, 1, 1, 1], [1, 1, 1, 1, 1], [1, 1, 1, 1], [1, 1, 1, 1, 1, 1], [1, 1, 1, 1, 1, 1, 1], [1, 1, 1, 1, 1], [1, 1, 1, 1], [1, 1, 1], [1, 1, 1], [1, 1, 1, 1], [1, 1, 1, 1, 1, 1, 1], [1, 1, 1, 1], [1, 1, 1, 1, 1], [1, 1, 1, 1, 1, 1, 1, 1], [1, 1, 1, 1, 1, 1], [1, 1, 1, 1, 1, 1, 1], [1, 1, 1], [1, 1, 1, 1], [1, 1, 1], [1, 1, 1, 1, 1], [1, 1, 1, 1, 1], [1, 1, 1, 1, 1, 1, 1], [1, 1, 1, 1, 1, 1, 1, 1], [1, 1, 1], [1, 1, 1, 1, 1, 1, 1], [1, 1, 1, 1, 1, 1, 1], [1, 1, 1, 1, 1], [1, 1, 1, 1, 1, 1, 1], [1, 1, 1, 1, 1, 1], [1, 1, 1, 1, 1, 1], [1, 1, 1, 1, 1], [1, 1, 1, 1, 1], [1, 1, 1, 1, 1], [1, 1, 1], [1, 1, 1, 1, 1, 1, 1, 1], [1, 1, 1, 1, 1], [1, 1, 1, 1, 1, 1], [1, 1, 1, 1, 1], [1, 1, 1, 1, 1], [1, 1, 1, 1, 1], [1, 1, 1, 1], [1, 1, 1, 1, 1], [1, 1, 1, 1, 1, 1, 1], [1, 1, 1, 1, 1], [1, 1, 1, 1, 1], [1, 1, 1, 1, 1, 1, 1, 1], [1, 1, 1, 1, 1], [1, 1, 1, 1], [1, 1, 1, 1, 1, 1, 1, 1, 1], [1, 1, 1, 1], [1, 1, 1, 1, 1], [1, 1, 1, 1, 1, 1, 1, 1], [1, 1, 1, 1, 1, 1], [1, 1, 1, 1, 1, 1, 1, 1, 1, 1, 1], [1, 1, 1, 1], [1, 1, 1, 1, 1, 1, 1, 1], [1, 1, 1, 1, 1, 1, 1], [1, 1, 1, 1, 1, 1], [1, 1, 1, 1, 1, 1], [1, 1, 1, 1], [1, 1, 1, 1], [1, 1, 1, 1, 1, 1, 1, 1], [1, 1, 1, 1], [1, 1, 1, 1, 1], [1, 1, 1, 1, 1, 1, 1], [1, 1, 1, 1, 1, 1], [1, 1, 1, 1, 1], [1, 1, 1, 1, 1, 1], [1, 1, 1, 1, 1], [1, 1, 1, 1, 1, 1], [1, 1, 1, 1, 1, 1, 1, 1, 1, 1, 1, 1], [1, 1, 1, 1, 1], [1, 1, 1, 1, 1, 1, 1], [1, 1, 1, 1], [1, 1, 1, 1], [1, 1, 1, 1, 1, 1, 1], [1, 1, 1, 1, 1], [1, 1, 1, 1, 1, 1], [1, 1, 1, 1, 1], [1, 1, 1, 1, 1, 1], [1, 1, 1, 1, 1], [1, 1, 1, 1], [1, 1, 1, 1], [1, 1, 1, 1], [1, 1, 1, 1, 1, 1], [1, 1, 1, 1], [1, 1, 1, 1, 1, 1, 1, 1, 1, 1, 1], [1, 1, 1, 1, 1], [1, 1, 1, 1, 1, 1], [1, 1, 1, 1, 1], [1, 1, 1, 1, 1], [1, 1, 1, 1], [1, 1, 1, 1, 1], [1, 1, 1, 1], [1, 1, 1, 1, 1, 1], [1, 1, 1, 1, 1, 1, 1], [1, 1, 1, 1, 1], [1, 1, 1, 1], [1, 1, 1, 1, 1, 1, 1, 1], [1, 1, 1, 1, 1, 1, 1], [1, 1, 1, 1], [1, 1, 1, 1], [1, 1, 1, 1, 1, 1, 1], [1, 1, 1, 1, 1, 1], [1, 1, 1, 1], [1, 1, 1, 1], [1, 1, 1, 1], [1, 1, 1, 1, 1, 1, 1, 1], [1, 1, 1, 1, 1, 1, 1, 1], [1, 1, 1], [1, 1, 1, 1, 1, 1, 1, 1, 1], [1, 1, 1, 1], [1, 1, 1, 1], [1, 1, 1, 1, 1], [1, 1, 1, 1, 1, 1], [1, 1, 1, 1, 1], [1, 1, 1, 1], [1, 1, 1], [1, 1, 1, 1], [1, 1, 1, 1, 1, 1, 1, 1], [1, 1, 1, 1, 1, 1], [1, 1, 1, 1, 1, 1, 1], [1, 1, 1, 1, 1, 1], [1, 1, 1, 1, 1], [1, 1, 1, 1, 1], [1, 1, 1, 1, 1, 1], [1, 1, 1, 1, 1], [1, 1, 1, 1], [1, 1, 1], [1, 1, 1, 1, 1, 1, 1, 1, 1], [1, 1, 1, 1], [1, 1, 1, 1, 1], [1, 1, 1, 1], [1, 1, 1], [1, 1, 1, 1, 1], [1, 1, 1, 1, 1], [1, 1, 1, 1, 1], [1, 1, 1, 1, 1], [1, 1, 1, 1, 1, 1], [1, 1, 1, 1, 1, 1], [1, 1, 1, 1, 1, 1], [1, 1, 1, 1, 1], [1, 1, 1, 1, 1], [1, 1, 1, 1, 1], [1, 1, 1, 1, 1, 1, 1, 1], [1, 1, 1, 1, 1, 1, 1, 1], [1, 1, 1, 1, 1], [1, 1, 1, 1, 1, 1, 1, 1], [1, 1, 1, 1, 1, 1], [1, 1, 1, 1, 1], [1, 1, 1, 1, 1], [1, 1, 1], [1, 1, 1, 1], [1, 1, 1, 1, 1, 1, 1], [1, 1, 1, 1, 1, 1], [1, 1, 1, 1, 1, 1], [1, 1, 1, 1], [1, 1, 1, 1, 1, 1, 1, 1, 1, 1], [1, 1, 1], [1, 1, 1, 1, 1, 1, 1], [1, 1, 1, 1], [1, 1, 1, 1, 1, 1, 1, 1, 1], [1, 1, 1, 1, 1, 1], [1, 1, 1, 1], [1, 1, 1, 1], [1, 1, 1, 1, 1, 1, 1, 1, 1], [1, 1, 1, 1, 1], [1, 1, 1, 1, 1, 1], [1, 1, 1, 1], [1, 1, 1, 1, 1], [1, 1, 1, 1], [1, 1, 1, 1], [1, 1, 1, 1, 1, 1], [1, 1, 1, 1, 1, 1, 1], [1, 1, 1, 1], [1, 1, 1, 1, 1, 1], [1, 1, 1, 1], [1, 1, 1, 1, 1], [1, 1, 1, 1], [1, 1, 1, 1, 1, 1], [1, 1, 1, 1, 1], [1, 1, 1, 1, 1], [1, 1, 1, 1, 1, 1, 1], [1, 1, 1, 1], [1, 1, 1, 1], [1, 1, 1], [1, 1, 1, 1, 1], [1, 1, 1], [1, 1, 1, 1, 1, 1], [1, 1, 1, 1, 1], [1, 1, 1, 1], [1, 1, 1, 1], [1, 1, 1, 1], [1, 1, 1, 1, 1, 1], [1, 1, 1, 1, 1, 1], [1, 1, 1, 1, 1], [1, 1, 1, 1, 1], [1, 1, 1], [1, 1, 1, 1], [1, 1, 1, 1, 1, 1, 1], [1, 1, 1, 1, 1, 1], [1, 1, 1, 1, 1, 1], [1, 1, 1, 1, 1, 1]], 'labels': [[686, 52911, 2], [686, 501, 250165, 2], [686, 7976, 2], [686, 3633, 2], [686, 6718, 2], [686, 58095, 2], [686, 2546, 2], [686, 2467, 2], [686, 6687, 2], [686, 1839, 2], [686, 1658, 39, 2], [686, 1360, 2], [686, 25083, 2], [686, 5472, 314, 32876, 2], [686, 5472, 23823, 11, 2], [686, 5472, 14, 104, 250165, 2], [686, 5472, 2455, 2], [686, 5472, 706, 65934, 2], [686, 5472, 18747, 2], [686, 1008, 2], [686, 1008, 12908, 2], [686, 1008, 21156, 2], [686, 1008, 18051, 2], [686, 90888, 185344, 2], [686, 230741, 81, 26332, 2], [686, 20336, 5648, 2], [686, 30491, 14, 51085, 2], [686, 30491, 14, 2524, 2], [686, 113, 26532, 2], [686, 808, 12976, 2], [686, 69475, 2], [686, 106959, 2], [686, 33537, 2], [686, 4642, 6329, 2], [686, 39631, 31, 2], [686, 1608, 14, 2], [686, 2579, 11, 2], [686, 3863, 2746, 2], [686, 9230, 2], [686, 102242, 2], [686, 3063, 2], [686, 38654, 2], [686, 7973, 2], [686, 2933, 2], [686, 78392, 2], [686, 45591, 2], [686, 16774, 2], [686, 64178, 2], [686, 84813, 4, 22567, 2], [686, 8086, 2], [686, 112258, 2], [686, 14352, 2], [686, 17501, 2], [686, 7323, 2], [686, 21156, 2], [686, 158, 16071, 2], [686, 158, 23650, 2], [686, 158, 2], [686, 3616, 16071, 2], [686, 352, 16071, 2], [686, 17483, 23650, 2], [686, 352, 23650, 2], [686, 104, 250066, 2], [686, 1690, 35895, 2], [686, 5718, 2], [686, 15409, 2], [686, 2455, 2], [686, 173154, 2], [686, 3114, 27350, 449, 2], [686, 48984, 2], [686, 74125, 2], [686, 39228, 2], [686, 3042, 2], [686, 2546, 91, 250218, 2], [686, 5675, 30599, 347, 81373, 2], [686, 7417, 26245, 2], [686, 31281, 2], [686, 2059, 2], [686, 9118, 250156, 6, 30599, 19, 2], [686, 19702, 2], [686, 3711, 31281, 2], [686, 912, 6687, 2], [686, 912, 27017, 2], [686, 912, 2546, 2], [686, 912, 19702, 2], [686, 2504, 86730, 2], [686, 2504, 501, 249990, 19, 2], [686, 2504, 6, 54030, 39, 2], [686, 2504, 94171, 2], [686, 2504, 13868, 2], [686, 194841, 177, 2], [686, 130614, 2], [686, 501, 250165, 2], [686, 210934, 2], [686, 3633, 2], [686, 2455, 1617, 9301, 6526, 2], [686, 2455, 1617, 9301, 9301, 2], [686, 2455, 1617, 472, 250222, 9301, 2], [686, 5472, 31878, 3633, 3633, 2], [686, 5472, 31878, 3967, 3633, 2], [686, 5472, 31878, 472, 250222, 3633, 2], [686, 1907, 3941, 2], [686, 1907, 3941, 2467, 32, 2], [686, 876, 250165, 653, 250203, 75, 2], [686, 18145, 876, 250165, 653, 250203, 75, 32, 2], [686, 1300, 123685, 103434, 32, 2], [686, 12908, 123685, 103434, 2], [686, 1300, 2], [686, 3616, 27017, 4062, 32, 2], [686, 1617, 2], [686, 19176, 2], [686, 2059, 2459, 218877, 19176, 2], [686, 59165, 8757, 2], [686, 10305, 2275, 2], [686, 26094, 7630, 2], [686, 38654, 7630, 2], [686, 6567, 1617, 2], [686, 16036, 2275, 4, 6567, 14112, 2], [686, 3711, 61260, 2467, 2546, 2], [686, 61260, 1885, 45591, 4911, 27517, 2], [686, 11880, 3633, 2], [686, 2259, 11880, 3633, 2467, 2], [686, 3831, 2455, 11880, 3633, 6687, 103434, 2579, 524, 5578, 2], [686, 1408, 4, 1408, 16036, 2], [686, 4006, 2259, 1408, 6687, 103434, 2], [686, 158, 250140, 9645, 1408, 22081, 3537, 18, 2], [686, 6348, 2], [686, 2259, 1893, 1885, 2455, 2579, 3711, 1408, 2467, 6348, 2], [686, 1337, 72971, 3087, 12186, 10218, 2], [686, 3967, 2], [686, 57658, 2455, 1617, 3967, 501, 250165, 2], [686, 44433, 4, 6526, 2], [686, 3711, 23747, 6526, 2], [686, 472, 250222, 2], [686, 4006, 308, 2467, 86600, 34010, 32, 2], [686, 472, 250222, 6, 4, 2259, 472, 250222, 2467, 2], [686, 86894, 2546, 9031, 9958, 32, 2], [686, 2259, 9958, 2467, 2546, 2], [686, 2259, 544, 3616, 4770, 2467, 2546, 2], [686, 2054, 4, 2054, 580, 2], [686, 3616, 1839, 2054, 15, 16161, 16, 3711, 1839, 2], [686, 2232, 4, 2579, 4, 4255, 2], [686, 2872, 1885, 3061, 2232, 3711, 8123, 472, 250222, 4022, 2], [686, 3616, 2467, 4, 2579, 15, 6457, 11479, 449, 16, 2259, 472, 250222, 2467, 2], [686, 4255, 2232, 2], [686, 3616, 2872, 4, 4255, 2232, 3616, 472, 250222, 1839, 2], [686, 5396, 2], [686, 5396, 30917, 90895, 4, 2259, 472, 250222, 1885, 2], [686, 11094, 250156, 6, 110771, 2546, 4, 2579, 6117, 472, 250222, 232548, 2], [686, 51085, 2], [686, 216607, 2], [686, 54519, 2], [686, 5493, 30917, 2], [686, 5648, 2], [686, 6573, 2], [686, 23233, 2], [686, 38381, 11, 2], [686, 8707, 2], [686, 8707, 2], [686, 48984, 2], [686, 48984, 2], [686, 23747, 2], [686, 143766, 2], [686, 151871, 2], [686, 72759, 2], [686, 52608, 2], [686, 6657, 2], [686, 138419, 2], [686, 50735, 2], [686, 187758, 2], [686, 7933, 28151, 2], [686, 72839, 2], [686, 6657, 2455, 2], [686, 3529, 15773, 2], [686, 85554, 44383, 2], [686, 13469, 10688, 2], [686, 2546, 91, 250218, 2], [686, 2546, 7590, 4, 2455, 4373, 2], [686, 9216, 74467, 2], [686, 6122, 18087, 2], [686, 16717, 2], [686, 113, 54073, 39, 2], [686, 144140, 2], [686, 6122, 18087, 37294, 12991, 2], [686, 9216, 16331, 2], [686, 9216, 2613, 2], [686, 377, 2394, 2], [686, 93138, 8725, 2], [686, 7211, 4746, 2], [686, 1871, 250118, 2], [686, 1871, 12641, 250118, 2613, 2], [686, 1871, 5009, 1871, 36990, 2], [686, 153985, 53, 3030, 2], [686, 5912, 3030, 2], [686, 17554, 60996, 2], [686, 14822, 11521, 57273, 2], [686, 38654, 3816, 449, 91, 250218, 2], [686, 4069, 16074, 472, 250218, 5893, 2], [686, 15091, 14, 157858, 14, 2], [686, 86861, 2], [686, 10895, 84416, 2], [686, 7099, 91, 250218, 40391, 2], [686, 10895, 19474, 6457, 2], [686, 6842, 2], [686, 10895, 5893, 2], [686, 6842, 3030, 2], [686, 8317, 12240, 2], [686, 8317, 2931, 2], [686, 25614, 19, 3030, 2], [686, 8317, 18179, 2], [686, 20527, 26077, 2], [686, 8317, 77600, 2], [686, 85447, 49708, 2], [686, 200, 84854, 98564, 2], [686, 10701, 21382, 2], [686, 160179, 12495, 2], [686, 10701, 4893, 2], [686, 47015, 449, 2], [686, 91, 250218, 9975, 2], [686, 22891, 4571, 103427, 6457, 2], [686, 3030, 2504, 71050, 2], [686, 28109, 6941, 2], [686, 3030, 16455, 2], [686, 32846, 3030, 2], [686, 98564, 94664, 2], [686, 23885, 808, 250218, 2], [686, 19979, 4746, 2], [686, 19979, 4746, 1871, 5912, 2], [686, 2781, 6573, 250118, 2613, 2], [686, 53518, 808, 250222, 2], [686, 1451, 19082, 1451, 5675, 250165, 2], [686, 3030, 21, 59126, 2], [686, 3030, 11154, 2], [686, 2781, 1871, 2], [686, 15195, 4746, 2], [686, 53518, 808, 250222, 2], [686, 24885, 3822, 2], [686, 24885, 3030, 2], [686, 18099, 10657, 2], [686, 2546, 91, 250218, 544, 71082, 13503, 2], [686, 2546, 91, 250218, 2], [686, 71082, 13503, 2], [686, 2546, 91, 250218, 3633, 2546, 50735, 250237, 2], [686, 2546, 91, 250218, 2], [686, 5472, 2455, 2], [686, 48984, 2], [686, 5648, 2], [686, 25327, 2546, 91, 250218, 2], [686, 57658, 2455, 1617, 3967, 501, 250165, 2], [686, 158, 48984, 2], [686, 20336, 5648, 2], [686, 25327, 2546, 91, 250218, 3633, 2], [686, 57658, 2455, 9301, 2], [686, 158, 48984, 58095, 2], [686, 20336, 5648, 47685, 2], [686, 25327, 2546, 91, 250218, 3633, 2275, 2], [686, 57658, 2455, 9301, 1617, 2], [686, 158, 48984, 58095, 19176, 2], [686, 20336, 5648, 47685, 1617, 2], [686, 81, 32876, 2], [686, 15566, 2], [686, 71549, 2], [686, 78392, 2], [686, 24376, 2], [686, 113, 26532, 2], [686, 808, 12976, 2], [686, 11652, 18, 2], [686, 106959, 2], [686, 25083, 3030, 2], [686, 1337, 78392, 3042, 2], [686, 889, 48986, 146936, 14, 2], [686, 15953, 19, 106959, 81, 52249, 2], [686, 196127, 25083, 3030, 2], [686, 961, 158, 96, 30599, 19, 2], [686, 126437, 5472, 31878, 2], [686, 1337, 57658, 91, 250165, 2], [686, 889, 5493, 808, 250061, 2], [686, 889, 5493, 30917, 2], [686, 151871, 90888, 80062, 2], [686, 2933, 158, 104, 250165, 2], [686, 90888, 2], [686, 177167, 39, 2], [686, 104513, 2], [686, 86506, 2], [686, 73804, 2], [686, 17554, 60996, 2], [686, 123681, 2], [686, 123681, 9469, 2], [686, 123681, 1013, 2], [686, 33257, 1617, 2], [686, 33257, 2459, 19176, 2], [686, 33257, 3941, 2], [686, 1008, 2], [686, 1008, 12908, 2], [686, 1008, 5718, 2], [686, 158, 2], [686, 158, 96, 30599, 19, 2], [686, 158, 91, 250066, 2], [686, 5472, 876, 56906, 11, 2], [686, 5472, 55352, 2], [686, 158, 90677, 2], [686, 5472, 2], [686, 5472, 2455, 2], [686, 5472, 31878, 2], [686, 5493, 30917, 2], [686, 5493, 808, 250061, 2], [686, 141752, 2], [686, 141752, 52180, 182174, 2], [686, 5472, 2], [686, 5472, 314, 32876, 2], [686, 5472, 104, 250165, 2], [686, 5472, 122391, 2], [686, 90888, 2], [686, 90888, 80062, 2], [686, 5648, 174390, 2], [686, 170032, 173154, 2], [686, 195411, 81, 52249, 2], [686, 5472, 2], [686, 5472, 185344, 2], [686, 5472, 80062, 2], [686, 25083, 2], [686, 25083, 75364, 2], [686, 25083, 1360, 2], [686, 100445, 2], [686, 100445, 11472, 2], [686, 163127, 19, 2], [686, 163127, 19, 11472, 2], [686, 86506, 2], [686, 86506, 5675, 25624, 2], [686, 161341, 2], [686, 1337, 161341, 23233, 2], [686, 177167, 39, 2], [686, 177167, 39, 6573, 2], [686, 159120, 2], [686, 159120, 1360, 4, 653, 30342, 11, 2], [686, 159120, 25083, 2], [686, 195411, 2], [686, 195411, 67050, 2], [686, 90888, 75364, 2], [686, 9031, 2546, 2], [686, 17554, 4, 876, 249994, 53, 2], [686, 104513, 90895, 2], [686, 104513, 2], [686, 104513, 82342, 2], [686, 81, 32876, 2], [686, 81, 32876, 234, 4470, 2], [686, 17554, 4, 876, 249994, 53, 2], [686, 876, 249994, 53, 250140, 2], [686, 17554, 74125, 2], [686, 183333, 2], [686, 183333, 6573, 2], [686, 81, 32876, 2], [686, 81, 32876, 234, 4470, 2], [686, 5472, 2], [686, 5472, 11819, 51721, 34, 2], [686, 5472, 80062, 2], [686, 23296, 14, 38572, 127, 2], [686, 14125, 706, 74566, 2], [686, 48986, 2], [686, 48986, 146936, 14, 2], [686, 7323, 2], [686, 7323, 1008, 2], [686, 30491, 14, 2], [686, 30491, 14, 58869, 2], [686, 158, 7590, 2], [686, 4069, 6718, 2], [686, 71549, 21890, 2], [686, 158, 104, 32876, 2], [686, 961, 158, 104, 32876, 78571, 2], [686, 13362, 39, 2], [686, 195411, 2], [686, 13362, 39, 38381, 11, 2], [686, 195411, 2], [686, 195411, 103434, 2], [686, 100445, 11472, 2], [686, 195411, 77815, 2], [686, 1337, 7669, 1347, 2], [686, 163815, 18, 104, 250165, 2], [686, 210821, 961, 163815, 18, 104, 250165, 2], [686, 31282, 2], [686, 31282, 11472, 2], [686, 31282, 179095, 6051, 127, 2], [686, 230741, 2], [686, 230741, 81, 26332, 2], [686, 31282, 2], [686, 31282, 2546, 2], [686, 1608, 14, 2], [686, 1608, 14, 72759, 2], [686, 102242, 2], [686, 102242, 103434, 2], [686, 96, 30342, 11, 2], [686, 96, 30342, 11, 96, 30599, 19, 2], [686, 39631, 6457, 2], [686, 39631, 6457, 146936, 14, 2], [686, 39631, 31, 2], [686, 39631, 31, 3042, 2], [686, 24376, 7590, 2], [686, 12203, 971, 39, 2], [686, 12203, 971, 39, 842, 28151, 2], [686, 71549, 2], [686, 1337, 71549, 6, 250181, 17, 2], [686, 98564, 2], [686, 1337, 98564, 81, 52249, 2], [686, 9457, 4, 11178, 2], [686, 11652, 18, 2], [686, 11652, 18, 72759, 2], [686, 18259, 238, 2], [686, 18259, 238, 72759, 2], [686, 3863, 2746, 2], [686, 3863, 2746, 72759, 2], [686, 706, 65934, 2], [686, 1337, 706, 65934, 234, 4470, 2], [686, 1608, 14, 2], [686, 1608, 14, 72759, 2], [686, 96, 19030, 7590, 2], [686, 6, 40410, 2], [686, 6, 40410, 9031, 2], [686, 90207, 2467, 2], [686, 889, 2], [686, 1337, 2], [686, 961, 2], [686, 126437, 2], [686, 2933, 2], [686, 2259, 1498, 8192, 103434, 681, 3616, 16071, 2259, 1000, 653, 78379, 2], [686, 12908, 5630, 158, 2467, 86600, 7449, 77815, 1893, 6998, 5578, 2], [686, 21156, 1408, 13291, 49603, 2455, 681, 158, 16071, 2], [686, 3616, 16071, 44383, 352, 23650, 2546, 9457, 180733, 2], [686, 30287, 2259, 86730, 250140, 2], [686, 158, 84758, 31, 13363, 912, 158, 171601, 2], [686, 1608, 2259, 11880, 1839, 912, 889, 57658, 2455, 3633, 2], [686, 3711, 152948, 5472, 78392, 156015, 2], [686, 158, 69481, 77329, 681, 21156, 12908, 2], [686, 3529, 15773, 1617, 706, 17195, 158, 23650, 681, 158, 550, 1776, 2], [686, 12908, 681, 158, 1337, 6573, 7933, 28151, 2], [686, 30333, 16533, 1893, 2455, 2], [686, 15995, 889, 230741, 11481, 681, 3711, 2], [686, 15995, 681, 3711, 889, 230741, 11481, 2], [686, 13363, 681, 2259, 1337, 158, 74125, 2], [686, 13363, 1337, 158, 74125, 681, 2259, 2], [686, 21156, 7449, 889, 5830, 47828, 31878, 681, 158, 2], [686, 5472, 4570, 19698, 1617, 524, 961, 7586, 2], [686, 1000, 653, 78379, 4724, 3531, 103434, 2], [686, 808, 136501, 15038, 2781, 64233, 2], [686, 2259, 1408, 9293, 2781, 30287, 15783, 2], [686, 2059, 4600, 524, 1337, 158, 90677, 7976, 2], [686, 3616, 14112, 1408, 9293, 2781, 1008, 71082, 550, 2259, 2], [686, 352, 23650, 2259, 2129, 9293, 2781, 4747, 23650, 9301, 2671, 112258, 2], [686, 3529, 15773, 2259, 524, 4254, 39, 1008, 2], [686, 81, 209980, 1408, 15038, 9432, 2781, 1008, 2], [686, 5630, 6122, 2], [686, 37597, 66303, 2], [686, 37597, 66303, 2], [686, 17363, 2], [686, 6122, 3616, 2467, 10040, 128987, 2], [686, 37597, 158, 27017, 19621, 2], [686, 1008, 308, 13946, 16331, 3711, 86730, 1008, 2], [686, 21156, 6122, 158, 5219, 146936, 14, 2249, 2455, 2], [686, 2467, 2], [686, 31281, 2], [686, 197395, 2], [686, 152906, 2], [686, 174541, 2], [686, 4494, 2], [686, 19398, 2], [686, 673, 2], [686, 2799, 2], [686, 1893, 2], [686, 2467, 2], [686, 6279, 4494, 2467, 2], [686, 673, 45, 2], [686, 19398, 2467, 2], [686, 6, 18778, 2], [686, 3616, 2], [686, 3616, 3831, 2], [686, 3616, 1690, 35895, 2], [686, 250165, 2], [686, 31878, 2], [686, 6687, 2], [686, 6687, 501, 249990, 254, 2], [686, 6687, 2059, 2], [686, 6687, 21928, 2], [686, 6, 249989, 39, 2], [686, 75243, 2], [686, 75243, 110, 2], [686, 6, 249999, 254, 2], [686, 961, 2], [686, 961, 961, 2], [686, 15409, 2], [686, 15409, 35109, 2], [686, 15409, 11332, 2], [686, 876, 6073, 2], [686, 30287, 2259, 86730, 250140, 2], [686, 91603, 2], [686, 119407, 92999, 2], [686, 4599, 2494, 2], [686, 4599, 409, 2], [686, 4599, 3063, 2], [686, 18747, 2], [686, 18747, 91603, 2], [686, 18747, 18973, 2], [686, 18747, 6329, 2], [686, 8713, 2], [686, 1776, 2], [686, 67050, 2], [686, 876, 250165, 2], [686, 876, 250165, 8757, 2], [686, 876, 250165, 6, 250236, 2], [686, 876, 250165, 653, 250203, 75, 2], [686, 876, 250165, 81, 38746, 2], [686, 86955, 2], [686, 86955, 2], [686, 6122, 2], [686, 9216, 2], [686, 9118, 250156, 6, 30599, 19, 2], [686, 78360, 2], [686, 196127, 25083, 3030, 2], [686, 876, 249988, 53, 2], [686, 876, 249990, 238, 2], [686, 876, 249990, 238, 2799, 2], [686, 30806, 39, 2], [686, 156460, 2], [686, 6567, 2], [686, 6567, 11553, 2], [686, 6567, 915, 51490, 2], [686, 876, 249990, 254, 2], [686, 13363, 2], [686, 13363, 2494, 2], [686, 107692, 2], [686, 876, 249999, 39, 2], [686, 876, 249989, 19, 2], [686, 876, 250066, 2], [686, 59165, 8757, 2], [686, 876, 249994, 53, 2], [686, 876, 249988, 53, 2], [686, 75676, 2], [686, 5671, 2], [686, 876, 45743, 2], [686, 876, 43615, 2], [686, 876, 45743, 19, 2], [686, 132347, 2], [686, 876, 45743, 254, 2], [686, 8964, 2], [686, 876, 43577, 2], [686, 200663, 2], [686, 7669, 2], [686, 7417, 2], [686, 84500, 2], [686, 333, 2], [686, 20346, 2], [686, 20346, 6, 84533, 2], [686, 33134, 2], [686, 4022, 2], [686, 20346, 39, 2], [686, 2504, 18, 2], [686, 128987, 2], [686, 15566, 2], [686, 48986, 2], [686, 876, 19030, 2], [686, 48986, 238, 2], [686, 152162, 2], [686, 47772, 2], [686, 31221, 21785, 2], [686, 48986, 254, 2], [686, 876, 19030, 18, 2], [686, 876, 103892, 501, 250066, 2], [686, 21156, 2], [686, 21156, 238, 2], [686, 109131, 14, 2], [686, 126437, 2], [686, 107692, 2], [686, 135173, 2], [686, 197395, 2], [686, 16633, 2], [686, 876, 81397, 2], [686, 183056, 2], [686, 128654, 2], [686, 21248, 2], [686, 122391, 2], [686, 21248, 14, 2], [686, 159120, 2], [686, 128654, 19, 2], [686, 92070, 2], [686, 66303, 2], [686, 50328, 2], [686, 876, 250197, 234, 2], [686, 67280, 177, 2], [686, 67280, 177, 2], [686, 876, 56906, 11, 2], [686, 102242, 2], [686, 876, 74345, 18759, 2], [686, 28014, 2], [686, 176760, 449, 2], [686, 176760, 38068, 34, 2], [686, 876, 30342, 18, 2], [686, 8707, 2], [686, 130563, 2], [686, 49734, 2], [686, 197879, 2], [686, 5472, 2], [686, 7384, 2], [686, 8707, 39, 2], [686, 8707, 39, 43209, 2], [686, 831, 24937, 2], [686, 3831, 19, 9293, 2], [686, 58044, 2], [686, 501, 12976, 19, 2], [686, 18432, 2], [686, 501, 62012, 2], [686, 64178, 2], [686, 64178, 4570, 2], [686, 64178, 23233, 2], [686, 64178, 6329, 2], [686, 501, 250165, 2], [686, 29337, 31, 2], [686, 16331, 2], [686, 501, 77248, 2], [686, 85224, 2], [686, 8707, 34, 2], [686, 377, 53, 2], [686, 29337, 53, 2], [686, 501, 136501, 2], [686, 501, 249990, 39, 2], [686, 501, 249990, 19, 2], [686, 85224, 2], [686, 40084, 39, 2], [686, 60996, 2], [686, 4936, 501, 250066, 2], [686, 175353, 2], [686, 501, 250066, 11819, 54030, 2], [686, 7756, 2], [686, 7756, 81, 32773, 2], [686, 25327, 2], [686, 25083, 2], [686, 3863, 61787, 25083, 2], [686, 182914, 14, 2], [686, 155679, 14, 2], [686, 146134, 2], [686, 38572, 2], [686, 58044, 2], [686, 38572, 127, 2], [686, 113480, 2], [686, 113480, 2232, 31, 2], [686, 40454, 31, 2], [686, 40454, 18, 2], [686, 82292, 2], [686, 182914, 53, 2], [686, 100732, 2], [686, 84634, 2], [686, 31281, 2], [686, 41560, 2], [686, 41560, 2524, 2], [686, 3863, 249978, 19, 2], [686, 55017, 2], [686, 81125, 2], [686, 152402, 39, 2], [686, 147017, 2], [686, 89762, 2], [686, 18973, 2], [686, 3863, 57273, 2], [686, 501, 250171, 3863, 249999, 34, 2], [686, 3863, 249999, 53, 2], [686, 290, 2], [686, 210821, 961, 163815, 18, 104, 250165, 2], [686, 290, 19, 2], [686, 6, 57753, 31, 876, 43615, 31, 2], [686, 3863, 691, 2], [686, 22081, 2], [686, 114990, 2], [686, 2524, 4307, 28494, 2], [686, 17483, 2], [686, 17483, 104, 250066, 2], [686, 16455, 2], [686, 20336, 2], [686, 501, 250203, 234, 2], [686, 47151, 2], [686, 80062, 2], [686, 1658, 39, 2], [686, 1658, 39, 85224, 2], [686, 1658, 39, 28525, 2], [686, 114990, 39, 2], [686, 681, 2], [686, 48984, 2], [686, 48984, 4110, 14, 2], [686, 3863, 53459, 2], [686, 48984, 14, 2], [686, 3863, 19030, 14, 2], [686, 10009, 2], [686, 33257, 2], [686, 3863, 78379, 2], [686, 3863, 25091, 14, 2], [686, 155379, 19, 2], [686, 35496, 2], [686, 49439, 2], [686, 86600, 2], [686, 19702, 2], [686, 3863, 38068, 254, 2], [686, 3863, 38068, 254, 9469, 2], [686, 18051, 2], [686, 18051, 1690, 35895, 2], [686, 116284, 2], [686, 19254, 2504, 2], [686, 134235, 2], [686, 7933, 14, 2], [686, 177167, 14, 2], [686, 177167, 39, 2], [686, 17544, 2], [686, 4006, 3711, 2], [686, 4006, 308, 2], [686, 501, 250174, 17, 2], [686, 501, 250174, 17, 2], [686, 7933, 51635, 7933, 51635, 2], [686, 7933, 32773, 2], [686, 21661, 2], [686, 50735, 2], [686, 9958, 2], [686, 3863, 46535, 11, 2], [686, 179095, 2], [686, 524, 2], [686, 524, 238, 2], [686, 501, 53459, 2], [686, 158, 2], [686, 158, 16071, 2], [686, 158, 22625, 2], [686, 158, 653, 250197, 17, 2], [686, 3531, 2], [686, 158, 177, 2], [686, 501, 4340, 449, 2], [686, 4747, 2], [686, 4747, 104, 250066, 2], [686, 18368, 2], [686, 18259, 14, 2], [686, 168669, 2], [686, 233166, 2], [686, 103434, 2], [686, 146936, 2], [686, 56667, 2], [686, 24399, 2], [686, 314, 11, 2], [686, 146936, 14, 2], [686, 1943, 2], [686, 31311, 449, 2], [686, 23823, 11, 2], [686, 16381, 2], [686, 16381, 87461, 2], [686, 88881, 2], [686, 22505, 2], [686, 23823, 74947, 14, 2], [686, 89481, 2], [686, 182174, 2], [686, 58869, 2], [686, 104, 43615, 2], [686, 104, 43615, 2], [686, 17767, 6745, 2], [686, 48, 2], [686, 17767, 9246, 2], [686, 70782, 99319, 2], [686, 8864, 2], [686, 127022, 2], [686, 104, 33340, 2], [686, 19018, 2], [686, 129425, 2], [686, 147074, 2], [686, 104, 250165, 2], [686, 147074, 31380, 43615, 2], [686, 99319, 2], [686, 44383, 2], [686, 104, 86630, 250129, 2], [686, 104, 249990, 18, 2], [686, 104, 78388, 19, 2], [686, 22721, 6457, 2], [686, 5912, 2], [686, 5912, 377, 2], [686, 54, 2], [686, 198723, 2], [686, 5912, 3030, 2], [686, 9031, 106, 2], [686, 9031, 116, 2], [686, 9031, 138, 2]]}\n"
     ]
    },
    {
     "data": {
      "text/plain": [
       "Dataset({\n",
       "    features: ['input_ids', 'attention_mask', 'labels'],\n",
       "    num_rows: 778\n",
       "})"
      ]
     },
     "execution_count": 79,
     "metadata": {},
     "output_type": "execute_result"
    }
   ],
   "source": [
    "dataloader.dataset = dataloader.dataset.map(lambda x: preprocess_function(x), batched=True, remove_columns=dataloader.dataset.column_names)\n",
    "dataloader.dataset"
   ]
  },
  {
   "cell_type": "code",
   "execution_count": null,
   "metadata": {},
   "outputs": [],
   "source": []
  },
  {
   "cell_type": "code",
   "execution_count": 15,
   "metadata": {},
   "outputs": [
    {
     "data": {
      "text/plain": [
       "('hmn_VN lub zog</s>', 'vi_VN sức mạnh</s>')"
      ]
     },
     "execution_count": 15,
     "metadata": {},
     "output_type": "execute_result"
    }
   ],
   "source": [
    "tokenizer.decode(\n",
    "    tokenized_dataset['train']['input_ids'][2],\n",
    "    use_source_tokenizer=True\n",
    "), tokenizer.decode(\n",
    "    tokenized_dataset['train']['labels'][2],\n",
    "    use_source_tokenizer=False\n",
    ")"
   ]
  },
  {
   "cell_type": "code",
   "execution_count": 16,
   "metadata": {},
   "outputs": [],
   "source": [
    "from transformers import DataCollatorForSeq2Seq, Seq2SeqTrainer\n",
    "\n",
    "data_collator = DataCollatorForSeq2Seq(tokenizer, model=model)"
   ]
  },
  {
   "cell_type": "code",
   "execution_count": 17,
   "metadata": {},
   "outputs": [],
   "source": [
    "import numpy as np\n",
    "\n",
    "metric = load(\"sacrebleu\")\n",
    "\n",
    "def postprocess_text(preds, labels):\n",
    "    preds = [pred.strip() for pred in preds]\n",
    "    labels = [[label.strip()] for label in labels]\n",
    "\n",
    "    return preds, labels\n",
    "\n",
    "def compute_metrics(eval_preds):\n",
    "    preds, labels = eval_preds\n",
    "    if isinstance(preds, tuple):\n",
    "        preds = preds[0]\n",
    "    decoded_preds = tokenizer.batch_decode(preds, skip_special_tokens=True)\n",
    "\n",
    "    # Replace -100 in the labels as we can't decode them.\n",
    "    labels = np.where(labels != -100, labels, tokenizer.pad_token_id)\n",
    "    decoded_labels = tokenizer.batch_decode(labels, skip_special_tokens=True)\n",
    "\n",
    "    # Some simple post-processing\n",
    "    decoded_preds, decoded_labels = postprocess_text(decoded_preds, decoded_labels)\n",
    "\n",
    "    result = metric.compute(predictions=decoded_preds, references=decoded_labels)\n",
    "    result = {\"bleu\": result[\"score\"]}\n",
    "\n",
    "    prediction_lens = [np.count_nonzero(pred != tokenizer.pad_token_id) for pred in preds]\n",
    "    result[\"gen_len\"] = np.mean(prediction_lens)\n",
    "    result = {k: round(v, 4) for k, v in result.items()}\n",
    "    return result"
   ]
  },
  {
   "cell_type": "code",
   "execution_count": 18,
   "metadata": {},
   "outputs": [
    {
     "name": "stderr",
     "output_type": "stream",
     "text": [
      "/home/vietnq2/anaconda3/envs/LearnMong/lib/python3.12/site-packages/transformers/training_args.py:1568: FutureWarning: `evaluation_strategy` is deprecated and will be removed in version 4.46 of 🤗 Transformers. Use `eval_strategy` instead\n",
      "  warnings.warn(\n"
     ]
    }
   ],
   "source": [
    "from transformers import Seq2SeqTrainingArguments\n",
    "\n",
    "source_lang = \"hmn_VN\"\n",
    "target_lang = \"vi_VN\"\n",
    "\n",
    "batch_size = 32\n",
    "model_name = model_checkpoint.split(\"/\")[-1]\n",
    "args = Seq2SeqTrainingArguments(\n",
    "    f\"{model_name}-finetuned-{source_lang}-to-{target_lang}\",\n",
    "    evaluation_strategy = \"epoch\",\n",
    "    learning_rate=2e-5,\n",
    "    per_device_train_batch_size=batch_size,\n",
    "    per_device_eval_batch_size=batch_size,\n",
    "    logging_strategy=\"epoch\",\n",
    "    weight_decay=0.01,\n",
    "    save_total_limit=3,\n",
    "    num_train_epochs=30,\n",
    "    predict_with_generate=True,\n",
    "    fp16=True,\n",
    "    # push_to_hub=True,\n",
    ")"
   ]
  },
  {
   "cell_type": "code",
   "execution_count": 19,
   "metadata": {},
   "outputs": [
    {
     "name": "stderr",
     "output_type": "stream",
     "text": [
      "/tmp/ipykernel_49957/3606200012.py:1: FutureWarning: `tokenizer` is deprecated and will be removed in version 5.0.0 for `Seq2SeqTrainer.__init__`. Use `processing_class` instead.\n",
      "  trainer = Seq2SeqTrainer(\n"
     ]
    }
   ],
   "source": [
    "trainer = Seq2SeqTrainer(\n",
    "    model,\n",
    "    args,\n",
    "    train_dataset=tokenized_dataset[\"train\"],\n",
    "    eval_dataset=tokenized_dataset[\"test\"],\n",
    "    data_collator=data_collator,\n",
    "    tokenizer=tokenizer,\n",
    "    compute_metrics=compute_metrics\n",
    ")"
   ]
  },
  {
   "cell_type": "code",
   "execution_count": 20,
   "metadata": {},
   "outputs": [
    {
     "data": {
      "application/vnd.jupyter.widget-view+json": {
       "model_id": "b1c36a3505b0475cbfdfbd9b35fb1939",
       "version_major": 2,
       "version_minor": 0
      },
      "text/plain": [
       "  0%|          | 0/390 [00:00<?, ?it/s]"
      ]
     },
     "metadata": {},
     "output_type": "display_data"
    },
    {
     "name": "stdout",
     "output_type": "stream",
     "text": [
      "{'loss': 5.6562, 'grad_norm': 22.556230545043945, 'learning_rate': 1.953846153846154e-05, 'epoch': 1.0}\n"
     ]
    },
    {
     "data": {
      "application/vnd.jupyter.widget-view+json": {
       "model_id": "4bdd2ebae03f469b84ea0fe2d7ada7e7",
       "version_major": 2,
       "version_minor": 0
      },
      "text/plain": [
       "  0%|          | 0/4 [00:00<?, ?it/s]"
      ]
     },
     "metadata": {},
     "output_type": "display_data"
    },
    {
     "name": "stdout",
     "output_type": "stream",
     "text": [
      "{'eval_loss': 2.6418263912200928, 'eval_bleu': 2.9175, 'eval_gen_len': 5.102, 'eval_runtime': 1.1532, 'eval_samples_per_second': 84.984, 'eval_steps_per_second': 3.469, 'epoch': 1.0}\n",
      "{'loss': 2.3898, 'grad_norm': 13.926077842712402, 'learning_rate': 1.8871794871794873e-05, 'epoch': 2.0}\n"
     ]
    },
    {
     "data": {
      "application/vnd.jupyter.widget-view+json": {
       "model_id": "43d251ff5e9347468eb5636db2ba841c",
       "version_major": 2,
       "version_minor": 0
      },
      "text/plain": [
       "  0%|          | 0/4 [00:00<?, ?it/s]"
      ]
     },
     "metadata": {},
     "output_type": "display_data"
    },
    {
     "name": "stdout",
     "output_type": "stream",
     "text": [
      "{'eval_loss': 2.439190149307251, 'eval_bleu': 1.193, 'eval_gen_len': 5.7755, 'eval_runtime': 1.0248, 'eval_samples_per_second': 95.629, 'eval_steps_per_second': 3.903, 'epoch': 2.0}\n",
      "{'loss': 1.9112, 'grad_norm': 21.751375198364258, 'learning_rate': 1.8205128205128208e-05, 'epoch': 3.0}\n"
     ]
    },
    {
     "data": {
      "application/vnd.jupyter.widget-view+json": {
       "model_id": "52fb55bff12a46bfbdb903aab73ce01a",
       "version_major": 2,
       "version_minor": 0
      },
      "text/plain": [
       "  0%|          | 0/4 [00:00<?, ?it/s]"
      ]
     },
     "metadata": {},
     "output_type": "display_data"
    },
    {
     "name": "stdout",
     "output_type": "stream",
     "text": [
      "{'eval_loss': 2.426964044570923, 'eval_bleu': 1.7169, 'eval_gen_len': 6.3878, 'eval_runtime': 1.1939, 'eval_samples_per_second': 82.086, 'eval_steps_per_second': 3.35, 'epoch': 3.0}\n",
      "{'loss': 1.5774, 'grad_norm': 20.95884895324707, 'learning_rate': 1.753846153846154e-05, 'epoch': 4.0}\n"
     ]
    },
    {
     "data": {
      "application/vnd.jupyter.widget-view+json": {
       "model_id": "8a9f39ee6a6e415db81f9ecda9144da1",
       "version_major": 2,
       "version_minor": 0
      },
      "text/plain": [
       "  0%|          | 0/4 [00:00<?, ?it/s]"
      ]
     },
     "metadata": {},
     "output_type": "display_data"
    },
    {
     "name": "stdout",
     "output_type": "stream",
     "text": [
      "{'eval_loss': 2.4470629692077637, 'eval_bleu': 1.4129, 'eval_gen_len': 6.0612, 'eval_runtime': 1.2443, 'eval_samples_per_second': 78.76, 'eval_steps_per_second': 3.215, 'epoch': 4.0}\n",
      "{'loss': 1.2982, 'grad_norm': 25.556779861450195, 'learning_rate': 1.687179487179487e-05, 'epoch': 5.0}\n"
     ]
    },
    {
     "data": {
      "application/vnd.jupyter.widget-view+json": {
       "model_id": "434d430d5bb74caa8a8d1942e032aad5",
       "version_major": 2,
       "version_minor": 0
      },
      "text/plain": [
       "  0%|          | 0/4 [00:00<?, ?it/s]"
      ]
     },
     "metadata": {},
     "output_type": "display_data"
    },
    {
     "name": "stdout",
     "output_type": "stream",
     "text": [
      "{'eval_loss': 2.500206232070923, 'eval_bleu': 1.1367, 'eval_gen_len': 6.5408, 'eval_runtime': 1.2932, 'eval_samples_per_second': 75.78, 'eval_steps_per_second': 3.093, 'epoch': 5.0}\n",
      "{'loss': 1.048, 'grad_norm': 29.09297752380371, 'learning_rate': 1.6205128205128207e-05, 'epoch': 6.0}\n"
     ]
    },
    {
     "data": {
      "application/vnd.jupyter.widget-view+json": {
       "model_id": "3d01a2d80f5f47de8b09fb235ee2c2fc",
       "version_major": 2,
       "version_minor": 0
      },
      "text/plain": [
       "  0%|          | 0/4 [00:00<?, ?it/s]"
      ]
     },
     "metadata": {},
     "output_type": "display_data"
    },
    {
     "name": "stdout",
     "output_type": "stream",
     "text": [
      "{'eval_loss': 2.602057456970215, 'eval_bleu': 1.933, 'eval_gen_len': 6.1531, 'eval_runtime': 1.3139, 'eval_samples_per_second': 74.584, 'eval_steps_per_second': 3.044, 'epoch': 6.0}\n",
      "{'loss': 0.8621, 'grad_norm': 18.321640014648438, 'learning_rate': 1.553846153846154e-05, 'epoch': 7.0}\n"
     ]
    },
    {
     "data": {
      "application/vnd.jupyter.widget-view+json": {
       "model_id": "ee31b21fffb343538f6f9dd408f66007",
       "version_major": 2,
       "version_minor": 0
      },
      "text/plain": [
       "  0%|          | 0/4 [00:00<?, ?it/s]"
      ]
     },
     "metadata": {},
     "output_type": "display_data"
    },
    {
     "name": "stdout",
     "output_type": "stream",
     "text": [
      "{'eval_loss': 2.536494255065918, 'eval_bleu': 1.8456, 'eval_gen_len': 6.2449, 'eval_runtime': 1.2659, 'eval_samples_per_second': 77.417, 'eval_steps_per_second': 3.16, 'epoch': 7.0}\n",
      "{'loss': 0.6785, 'grad_norm': 20.66543960571289, 'learning_rate': 1.4871794871794874e-05, 'epoch': 8.0}\n"
     ]
    },
    {
     "data": {
      "application/vnd.jupyter.widget-view+json": {
       "model_id": "18d4336ba3af439fbd8134a9200d2e71",
       "version_major": 2,
       "version_minor": 0
      },
      "text/plain": [
       "  0%|          | 0/4 [00:00<?, ?it/s]"
      ]
     },
     "metadata": {},
     "output_type": "display_data"
    },
    {
     "name": "stdout",
     "output_type": "stream",
     "text": [
      "{'eval_loss': 2.6780757904052734, 'eval_bleu': 2.3296, 'eval_gen_len': 5.7959, 'eval_runtime': 1.1955, 'eval_samples_per_second': 81.972, 'eval_steps_per_second': 3.346, 'epoch': 8.0}\n",
      "{'loss': 0.5475, 'grad_norm': 25.32037925720215, 'learning_rate': 1.4205128205128207e-05, 'epoch': 9.0}\n"
     ]
    },
    {
     "data": {
      "application/vnd.jupyter.widget-view+json": {
       "model_id": "68a5c91c116f45b8994301d721d01589",
       "version_major": 2,
       "version_minor": 0
      },
      "text/plain": [
       "  0%|          | 0/4 [00:00<?, ?it/s]"
      ]
     },
     "metadata": {},
     "output_type": "display_data"
    },
    {
     "name": "stdout",
     "output_type": "stream",
     "text": [
      "{'eval_loss': 2.66363787651062, 'eval_bleu': 2.1021, 'eval_gen_len': 6.0714, 'eval_runtime': 1.3007, 'eval_samples_per_second': 75.344, 'eval_steps_per_second': 3.075, 'epoch': 9.0}\n",
      "{'loss': 0.4468, 'grad_norm': 15.9557466506958, 'learning_rate': 1.353846153846154e-05, 'epoch': 10.0}\n"
     ]
    },
    {
     "data": {
      "application/vnd.jupyter.widget-view+json": {
       "model_id": "1ce94fbbfc9440e18055828946eff54c",
       "version_major": 2,
       "version_minor": 0
      },
      "text/plain": [
       "  0%|          | 0/4 [00:00<?, ?it/s]"
      ]
     },
     "metadata": {},
     "output_type": "display_data"
    },
    {
     "name": "stdout",
     "output_type": "stream",
     "text": [
      "{'eval_loss': 2.7311465740203857, 'eval_bleu': 2.4879, 'eval_gen_len': 5.8673, 'eval_runtime': 1.2559, 'eval_samples_per_second': 78.029, 'eval_steps_per_second': 3.185, 'epoch': 10.0}\n",
      "{'loss': 0.3468, 'grad_norm': 16.939138412475586, 'learning_rate': 1.2871794871794874e-05, 'epoch': 11.0}\n"
     ]
    },
    {
     "data": {
      "application/vnd.jupyter.widget-view+json": {
       "model_id": "b36dd952a07f494382447b566cda0db7",
       "version_major": 2,
       "version_minor": 0
      },
      "text/plain": [
       "  0%|          | 0/4 [00:00<?, ?it/s]"
      ]
     },
     "metadata": {},
     "output_type": "display_data"
    },
    {
     "name": "stdout",
     "output_type": "stream",
     "text": [
      "{'eval_loss': 2.8056421279907227, 'eval_bleu': 2.6178, 'eval_gen_len': 5.8776, 'eval_runtime': 1.1534, 'eval_samples_per_second': 84.965, 'eval_steps_per_second': 3.468, 'epoch': 11.0}\n",
      "{'loss': 0.2937, 'grad_norm': 20.56529426574707, 'learning_rate': 1.2205128205128208e-05, 'epoch': 12.0}\n"
     ]
    },
    {
     "data": {
      "application/vnd.jupyter.widget-view+json": {
       "model_id": "b97fda417b1749a18a0c6d36d01a866c",
       "version_major": 2,
       "version_minor": 0
      },
      "text/plain": [
       "  0%|          | 0/4 [00:00<?, ?it/s]"
      ]
     },
     "metadata": {},
     "output_type": "display_data"
    },
    {
     "name": "stdout",
     "output_type": "stream",
     "text": [
      "{'eval_loss': 2.856243371963501, 'eval_bleu': 2.4849, 'eval_gen_len': 5.9184, 'eval_runtime': 1.231, 'eval_samples_per_second': 79.607, 'eval_steps_per_second': 3.249, 'epoch': 12.0}\n",
      "{'loss': 0.2246, 'grad_norm': 23.23770523071289, 'learning_rate': 1.1538461538461538e-05, 'epoch': 13.0}\n"
     ]
    },
    {
     "data": {
      "application/vnd.jupyter.widget-view+json": {
       "model_id": "928f95260899472eb0a0981f81b15104",
       "version_major": 2,
       "version_minor": 0
      },
      "text/plain": [
       "  0%|          | 0/4 [00:00<?, ?it/s]"
      ]
     },
     "metadata": {},
     "output_type": "display_data"
    },
    {
     "name": "stdout",
     "output_type": "stream",
     "text": [
      "{'eval_loss': 2.8133704662323, 'eval_bleu': 2.8135, 'eval_gen_len': 5.8163, 'eval_runtime': 1.2055, 'eval_samples_per_second': 81.295, 'eval_steps_per_second': 3.318, 'epoch': 13.0}\n",
      "{'loss': 0.1883, 'grad_norm': 20.704294204711914, 'learning_rate': 1.0871794871794871e-05, 'epoch': 14.0}\n"
     ]
    },
    {
     "data": {
      "application/vnd.jupyter.widget-view+json": {
       "model_id": "9d8c8f56d6574978a86ce0dc5d5c4aef",
       "version_major": 2,
       "version_minor": 0
      },
      "text/plain": [
       "  0%|          | 0/4 [00:00<?, ?it/s]"
      ]
     },
     "metadata": {},
     "output_type": "display_data"
    },
    {
     "name": "stdout",
     "output_type": "stream",
     "text": [
      "{'eval_loss': 2.919157028198242, 'eval_bleu': 2.6053, 'eval_gen_len': 5.8571, 'eval_runtime': 1.228, 'eval_samples_per_second': 79.805, 'eval_steps_per_second': 3.257, 'epoch': 14.0}\n",
      "{'loss': 0.1899, 'grad_norm': 27.97784423828125, 'learning_rate': 1.0205128205128205e-05, 'epoch': 15.0}\n"
     ]
    },
    {
     "data": {
      "application/vnd.jupyter.widget-view+json": {
       "model_id": "f9c566e2ec9b48e0b0116add5622d8a1",
       "version_major": 2,
       "version_minor": 0
      },
      "text/plain": [
       "  0%|          | 0/4 [00:00<?, ?it/s]"
      ]
     },
     "metadata": {},
     "output_type": "display_data"
    },
    {
     "name": "stdout",
     "output_type": "stream",
     "text": [
      "{'eval_loss': 2.928148031234741, 'eval_bleu': 2.8654, 'eval_gen_len': 5.7755, 'eval_runtime': 1.2335, 'eval_samples_per_second': 79.448, 'eval_steps_per_second': 3.243, 'epoch': 15.0}\n",
      "{'loss': 0.1437, 'grad_norm': 4.720885276794434, 'learning_rate': 9.53846153846154e-06, 'epoch': 16.0}\n"
     ]
    },
    {
     "data": {
      "application/vnd.jupyter.widget-view+json": {
       "model_id": "5761b1688d4447fe95a577bc4610f51d",
       "version_major": 2,
       "version_minor": 0
      },
      "text/plain": [
       "  0%|          | 0/4 [00:00<?, ?it/s]"
      ]
     },
     "metadata": {},
     "output_type": "display_data"
    },
    {
     "name": "stdout",
     "output_type": "stream",
     "text": [
      "{'eval_loss': 2.9969587326049805, 'eval_bleu': 2.7301, 'eval_gen_len': 5.7551, 'eval_runtime': 1.2113, 'eval_samples_per_second': 80.907, 'eval_steps_per_second': 3.302, 'epoch': 16.0}\n",
      "{'loss': 0.1316, 'grad_norm': 10.93262004852295, 'learning_rate': 8.871794871794872e-06, 'epoch': 17.0}\n"
     ]
    },
    {
     "data": {
      "application/vnd.jupyter.widget-view+json": {
       "model_id": "0d357df664a44b618b57bece0a9643d3",
       "version_major": 2,
       "version_minor": 0
      },
      "text/plain": [
       "  0%|          | 0/4 [00:00<?, ?it/s]"
      ]
     },
     "metadata": {},
     "output_type": "display_data"
    },
    {
     "name": "stdout",
     "output_type": "stream",
     "text": [
      "{'eval_loss': 2.9931578636169434, 'eval_bleu': 3.0183, 'eval_gen_len': 5.7143, 'eval_runtime': 1.2414, 'eval_samples_per_second': 78.94, 'eval_steps_per_second': 3.222, 'epoch': 17.0}\n",
      "{'loss': 0.1064, 'grad_norm': 12.195067405700684, 'learning_rate': 8.205128205128205e-06, 'epoch': 18.0}\n"
     ]
    },
    {
     "data": {
      "application/vnd.jupyter.widget-view+json": {
       "model_id": "da42406394a74d4d94c1f95df51be4c5",
       "version_major": 2,
       "version_minor": 0
      },
      "text/plain": [
       "  0%|          | 0/4 [00:00<?, ?it/s]"
      ]
     },
     "metadata": {},
     "output_type": "display_data"
    },
    {
     "name": "stdout",
     "output_type": "stream",
     "text": [
      "{'eval_loss': 3.001044988632202, 'eval_bleu': 2.8663, 'eval_gen_len': 5.9082, 'eval_runtime': 1.2776, 'eval_samples_per_second': 76.705, 'eval_steps_per_second': 3.131, 'epoch': 18.0}\n",
      "{'loss': 0.1027, 'grad_norm': 20.848590850830078, 'learning_rate': 7.538461538461539e-06, 'epoch': 19.0}\n"
     ]
    },
    {
     "data": {
      "application/vnd.jupyter.widget-view+json": {
       "model_id": "ffff6c6e6e194b898a068279f3feefc1",
       "version_major": 2,
       "version_minor": 0
      },
      "text/plain": [
       "  0%|          | 0/4 [00:00<?, ?it/s]"
      ]
     },
     "metadata": {},
     "output_type": "display_data"
    },
    {
     "name": "stdout",
     "output_type": "stream",
     "text": [
      "{'eval_loss': 3.1131162643432617, 'eval_bleu': 2.9311, 'eval_gen_len': 5.6735, 'eval_runtime': 1.2493, 'eval_samples_per_second': 78.442, 'eval_steps_per_second': 3.202, 'epoch': 19.0}\n",
      "{'loss': 0.0947, 'grad_norm': 4.678923606872559, 'learning_rate': 6.871794871794872e-06, 'epoch': 20.0}\n"
     ]
    },
    {
     "data": {
      "application/vnd.jupyter.widget-view+json": {
       "model_id": "f96e768fb2074c408621b1aa243b3399",
       "version_major": 2,
       "version_minor": 0
      },
      "text/plain": [
       "  0%|          | 0/4 [00:00<?, ?it/s]"
      ]
     },
     "metadata": {},
     "output_type": "display_data"
    },
    {
     "name": "stdout",
     "output_type": "stream",
     "text": [
      "{'eval_loss': 3.036221742630005, 'eval_bleu': 2.8551, 'eval_gen_len': 5.7551, 'eval_runtime': 1.2629, 'eval_samples_per_second': 77.597, 'eval_steps_per_second': 3.167, 'epoch': 20.0}\n",
      "{'loss': 0.0839, 'grad_norm': 6.849755764007568, 'learning_rate': 6.205128205128206e-06, 'epoch': 21.0}\n"
     ]
    },
    {
     "data": {
      "application/vnd.jupyter.widget-view+json": {
       "model_id": "c9c009dea8714a8992dc1d8b2c957e82",
       "version_major": 2,
       "version_minor": 0
      },
      "text/plain": [
       "  0%|          | 0/4 [00:00<?, ?it/s]"
      ]
     },
     "metadata": {},
     "output_type": "display_data"
    },
    {
     "name": "stdout",
     "output_type": "stream",
     "text": [
      "{'eval_loss': 3.080073356628418, 'eval_bleu': 3.1948, 'eval_gen_len': 5.602, 'eval_runtime': 1.2364, 'eval_samples_per_second': 79.264, 'eval_steps_per_second': 3.235, 'epoch': 21.0}\n",
      "{'loss': 0.082, 'grad_norm': 10.446834564208984, 'learning_rate': 5.538461538461539e-06, 'epoch': 22.0}\n"
     ]
    },
    {
     "data": {
      "application/vnd.jupyter.widget-view+json": {
       "model_id": "625b253754e94f3a8fbf8ffbc6d77414",
       "version_major": 2,
       "version_minor": 0
      },
      "text/plain": [
       "  0%|          | 0/4 [00:00<?, ?it/s]"
      ]
     },
     "metadata": {},
     "output_type": "display_data"
    },
    {
     "name": "stdout",
     "output_type": "stream",
     "text": [
      "{'eval_loss': 3.089337110519409, 'eval_bleu': 2.8678, 'eval_gen_len': 5.7143, 'eval_runtime': 1.2721, 'eval_samples_per_second': 77.041, 'eval_steps_per_second': 3.145, 'epoch': 22.0}\n",
      "{'loss': 0.0671, 'grad_norm': 10.18714714050293, 'learning_rate': 4.871794871794872e-06, 'epoch': 23.0}\n"
     ]
    },
    {
     "data": {
      "application/vnd.jupyter.widget-view+json": {
       "model_id": "9bcfa502d8934ef79992a581b960c0ac",
       "version_major": 2,
       "version_minor": 0
      },
      "text/plain": [
       "  0%|          | 0/4 [00:00<?, ?it/s]"
      ]
     },
     "metadata": {},
     "output_type": "display_data"
    },
    {
     "name": "stdout",
     "output_type": "stream",
     "text": [
      "{'eval_loss': 3.094733238220215, 'eval_bleu': 2.8367, 'eval_gen_len': 5.7245, 'eval_runtime': 1.274, 'eval_samples_per_second': 76.924, 'eval_steps_per_second': 3.14, 'epoch': 23.0}\n",
      "{'loss': 0.0821, 'grad_norm': 5.516695976257324, 'learning_rate': 4.2051282051282055e-06, 'epoch': 24.0}\n"
     ]
    },
    {
     "data": {
      "application/vnd.jupyter.widget-view+json": {
       "model_id": "70f0fd28213f46139ce71aded657bb8c",
       "version_major": 2,
       "version_minor": 0
      },
      "text/plain": [
       "  0%|          | 0/4 [00:00<?, ?it/s]"
      ]
     },
     "metadata": {},
     "output_type": "display_data"
    },
    {
     "name": "stdout",
     "output_type": "stream",
     "text": [
      "{'eval_loss': 3.0875072479248047, 'eval_bleu': 2.8953, 'eval_gen_len': 5.6735, 'eval_runtime': 1.269, 'eval_samples_per_second': 77.224, 'eval_steps_per_second': 3.152, 'epoch': 24.0}\n",
      "{'loss': 0.0645, 'grad_norm': 7.612156391143799, 'learning_rate': 3.538461538461539e-06, 'epoch': 25.0}\n"
     ]
    },
    {
     "data": {
      "application/vnd.jupyter.widget-view+json": {
       "model_id": "b1aa9fbdc2924cc29ab2f5fb377fdc30",
       "version_major": 2,
       "version_minor": 0
      },
      "text/plain": [
       "  0%|          | 0/4 [00:00<?, ?it/s]"
      ]
     },
     "metadata": {},
     "output_type": "display_data"
    },
    {
     "name": "stdout",
     "output_type": "stream",
     "text": [
      "{'eval_loss': 3.132955312728882, 'eval_bleu': 3.2697, 'eval_gen_len': 5.602, 'eval_runtime': 1.2061, 'eval_samples_per_second': 81.252, 'eval_steps_per_second': 3.316, 'epoch': 25.0}\n",
      "{'loss': 0.0623, 'grad_norm': 3.3212013244628906, 'learning_rate': 2.8717948717948717e-06, 'epoch': 26.0}\n"
     ]
    },
    {
     "data": {
      "application/vnd.jupyter.widget-view+json": {
       "model_id": "0c8dbcd03a694ed2bb23483393971b06",
       "version_major": 2,
       "version_minor": 0
      },
      "text/plain": [
       "  0%|          | 0/4 [00:00<?, ?it/s]"
      ]
     },
     "metadata": {},
     "output_type": "display_data"
    },
    {
     "name": "stdout",
     "output_type": "stream",
     "text": [
      "{'eval_loss': 3.1104681491851807, 'eval_bleu': 3.0985, 'eval_gen_len': 5.7143, 'eval_runtime': 1.2541, 'eval_samples_per_second': 78.143, 'eval_steps_per_second': 3.19, 'epoch': 26.0}\n",
      "{'loss': 0.0589, 'grad_norm': 5.647846698760986, 'learning_rate': 2.2051282051282052e-06, 'epoch': 27.0}\n"
     ]
    },
    {
     "data": {
      "application/vnd.jupyter.widget-view+json": {
       "model_id": "4f90ccebf026486c9ce8719a1efeb313",
       "version_major": 2,
       "version_minor": 0
      },
      "text/plain": [
       "  0%|          | 0/4 [00:00<?, ?it/s]"
      ]
     },
     "metadata": {},
     "output_type": "display_data"
    },
    {
     "name": "stdout",
     "output_type": "stream",
     "text": [
      "{'eval_loss': 3.130934953689575, 'eval_bleu': 2.9763, 'eval_gen_len': 5.7959, 'eval_runtime': 1.2614, 'eval_samples_per_second': 77.689, 'eval_steps_per_second': 3.171, 'epoch': 27.0}\n",
      "{'loss': 0.053, 'grad_norm': 15.663979530334473, 'learning_rate': 1.5384615384615387e-06, 'epoch': 28.0}\n"
     ]
    },
    {
     "data": {
      "application/vnd.jupyter.widget-view+json": {
       "model_id": "337c1f3d0af54e48a2821c25715f7255",
       "version_major": 2,
       "version_minor": 0
      },
      "text/plain": [
       "  0%|          | 0/4 [00:00<?, ?it/s]"
      ]
     },
     "metadata": {},
     "output_type": "display_data"
    },
    {
     "name": "stdout",
     "output_type": "stream",
     "text": [
      "{'eval_loss': 3.1595370769500732, 'eval_bleu': 2.959, 'eval_gen_len': 5.7551, 'eval_runtime': 1.2175, 'eval_samples_per_second': 80.493, 'eval_steps_per_second': 3.285, 'epoch': 28.0}\n",
      "{'loss': 0.0454, 'grad_norm': 4.792672157287598, 'learning_rate': 8.717948717948718e-07, 'epoch': 29.0}\n"
     ]
    },
    {
     "data": {
      "application/vnd.jupyter.widget-view+json": {
       "model_id": "db19e60f2ea04870a53a867f1aba1542",
       "version_major": 2,
       "version_minor": 0
      },
      "text/plain": [
       "  0%|          | 0/4 [00:00<?, ?it/s]"
      ]
     },
     "metadata": {},
     "output_type": "display_data"
    },
    {
     "name": "stdout",
     "output_type": "stream",
     "text": [
      "{'eval_loss': 3.1546945571899414, 'eval_bleu': 3.052, 'eval_gen_len': 5.7347, 'eval_runtime': 1.2295, 'eval_samples_per_second': 79.708, 'eval_steps_per_second': 3.253, 'epoch': 29.0}\n"
     ]
    },
    {
     "name": "stderr",
     "output_type": "stream",
     "text": [
      "/home/vietnq2/anaconda3/envs/LearnMong/lib/python3.12/site-packages/transformers/modeling_utils.py:2817: UserWarning: Moving the following attributes in the config to the generation config: {'max_length': 200, 'early_stopping': True, 'num_beams': 5}. You are seeing this warning because you've set generation parameters in the model config, as opposed to in the generation config.\n",
      "  warnings.warn(\n"
     ]
    },
    {
     "name": "stdout",
     "output_type": "stream",
     "text": [
      "{'loss': 0.0456, 'grad_norm': 2.8344736099243164, 'learning_rate': 2.0512820512820514e-07, 'epoch': 30.0}\n"
     ]
    },
    {
     "data": {
      "application/vnd.jupyter.widget-view+json": {
       "model_id": "72311b2263b046208835b97032907ec8",
       "version_major": 2,
       "version_minor": 0
      },
      "text/plain": [
       "  0%|          | 0/4 [00:00<?, ?it/s]"
      ]
     },
     "metadata": {},
     "output_type": "display_data"
    },
    {
     "name": "stdout",
     "output_type": "stream",
     "text": [
      "{'eval_loss': 3.1520814895629883, 'eval_bleu': 2.9279, 'eval_gen_len': 5.7653, 'eval_runtime': 1.2522, 'eval_samples_per_second': 78.265, 'eval_steps_per_second': 3.194, 'epoch': 30.0}\n",
      "{'train_runtime': 184.4892, 'train_samples_per_second': 63.418, 'train_steps_per_second': 2.114, 'train_loss': 0.6294279514214931, 'epoch': 30.0}\n"
     ]
    },
    {
     "data": {
      "text/plain": [
       "TrainOutput(global_step=390, training_loss=0.6294279514214931, metrics={'train_runtime': 184.4892, 'train_samples_per_second': 63.418, 'train_steps_per_second': 2.114, 'total_flos': 358431412125696.0, 'train_loss': 0.6294279514214931, 'epoch': 30.0})"
      ]
     },
     "execution_count": 20,
     "metadata": {},
     "output_type": "execute_result"
    }
   ],
   "source": [
    "# turn of warning\n",
    "from transformers import logging\n",
    "logging.set_verbosity_error()\n",
    "\n",
    "trainer.train()"
   ]
  },
  {
   "cell_type": "code",
   "execution_count": 25,
   "metadata": {},
   "outputs": [
    {
     "data": {
      "text/plain": [
       "DatasetDict({\n",
       "    train: Dataset({\n",
       "        features: ['input_ids', 'attention_mask', 'labels'],\n",
       "        num_rows: 390\n",
       "    })\n",
       "    test: Dataset({\n",
       "        features: ['input_ids', 'attention_mask', 'labels'],\n",
       "        num_rows: 98\n",
       "    })\n",
       "})"
      ]
     },
     "execution_count": 25,
     "metadata": {},
     "output_type": "execute_result"
    }
   ],
   "source": [
    "dataset\n",
    "tokenized_dataset"
   ]
  },
  {
   "cell_type": "code",
   "execution_count": 34,
   "metadata": {},
   "outputs": [
    {
     "data": {
      "text/plain": [
       "([250175, 74185, 250109, 876, 298, 170, 4981, 2],\n",
       " 'hmn_VN tsi ntsi b koj dua</s>')"
      ]
     },
     "execution_count": 34,
     "metadata": {},
     "output_type": "execute_result"
    }
   ],
   "source": [
    "tokenized_dataset['test'][0]['input_ids'], tokenizer.decode(tokenized_dataset['test'][0]['input_ids'])"
   ]
  },
  {
   "cell_type": "code",
   "execution_count": 49,
   "metadata": {},
   "outputs": [
    {
     "name": "stdout",
     "output_type": "stream",
     "text": [
      "Expect: cam kết hàng ngày\n",
      "[250175, 311, 334, 552, 177, 6, 5782, 250117, 75, 11, 250067, 6, 5829, 2]  --  hmn_VN kev cog lus txh ua hn ub</s>\n"
     ]
    },
    {
     "data": {
      "text/plain": [
       "['cam kết dài hạn']"
      ]
     },
     "execution_count": 49,
     "metadata": {},
     "output_type": "execute_result"
    }
   ],
   "source": [
    "import torch\n",
    "\n",
    "idx = 45\n",
    "text = dataset['test']['from_lang_text'][idx]\n",
    "print('Expect:', dataset['test']['to_lang_text'][idx])\n",
    "\n",
    "input_tokenized = tokenizer(text, add_special_tokens=True)\n",
    "print(f\"{input_tokenized['input_ids']}  --  {tokenizer.decode(input_tokenized['input_ids'])}\")\n",
    "input_ids = torch.tensor(input_tokenized['input_ids']).unsqueeze(0).to('cuda')\n",
    "attention_mask = torch.tensor(input_tokenized['attention_mask']).unsqueeze(0).to('cuda')\n",
    "\n",
    "# Generate outputs\n",
    "output_ids = model.generate(\n",
    "    input_ids=input_ids,\n",
    "    attention_mask=attention_mask,\n",
    "    max_length=256\n",
    ")\n",
    "\n",
    "outputs = [tokenizer.decode(ids, skip_special_tokens=True) for ids in output_ids]\n",
    "outputs"
   ]
  }
 ],
 "metadata": {
  "kernelspec": {
   "display_name": ".env",
   "language": "python",
   "name": "python3"
  },
  "language_info": {
   "codemirror_mode": {
    "name": "ipython",
    "version": 3
   },
   "file_extension": ".py",
   "mimetype": "text/x-python",
   "name": "python",
   "nbconvert_exporter": "python",
   "pygments_lexer": "ipython3",
   "version": "3.12.4"
  }
 },
 "nbformat": 4,
 "nbformat_minor": 2
}
